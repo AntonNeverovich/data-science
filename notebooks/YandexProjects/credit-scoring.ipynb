{
 "cells": [
  {
   "cell_type": "markdown",
   "metadata": {},
   "source": [
    "## Исследование надёжности заёмщиков\n",
    "\n",
    "Заказчик — кредитный отдел банка. Нужно разобраться, влияет ли семейное положение и количество детей клиента на факт погашения кредита в срок. Входные данные от банка — статистика о платёжеспособности клиентов.\n",
    "\n",
    "Результаты исследования будут учтены при построении модели **кредитного скоринга** — специальной системы, которая оценивает способность потенциального заёмщика вернуть кредит банку."
   ]
  },
  {
   "cell_type": "markdown",
   "metadata": {},
   "source": [
    "### Шаг 1. Откройте файл с данными и изучите общую информацию. "
   ]
  },
  {
   "cell_type": "markdown",
   "metadata": {},
   "source": [
    "Для открытия файла используем функцию `read_csv()` библиотеки pandas"
   ]
  },
  {
   "cell_type": "code",
   "execution_count": 1,
   "metadata": {},
   "outputs": [
    {
     "data": {
      "text/html": [
       "<div>\n",
       "<style scoped>\n",
       "    .dataframe tbody tr th:only-of-type {\n",
       "        vertical-align: middle;\n",
       "    }\n",
       "\n",
       "    .dataframe tbody tr th {\n",
       "        vertical-align: top;\n",
       "    }\n",
       "\n",
       "    .dataframe thead th {\n",
       "        text-align: right;\n",
       "    }\n",
       "</style>\n",
       "<table border=\"1\" class=\"dataframe\">\n",
       "  <thead>\n",
       "    <tr style=\"text-align: right;\">\n",
       "      <th></th>\n",
       "      <th>children</th>\n",
       "      <th>days_employed</th>\n",
       "      <th>dob_years</th>\n",
       "      <th>education</th>\n",
       "      <th>education_id</th>\n",
       "      <th>family_status</th>\n",
       "      <th>family_status_id</th>\n",
       "      <th>gender</th>\n",
       "      <th>income_type</th>\n",
       "      <th>debt</th>\n",
       "      <th>total_income</th>\n",
       "      <th>purpose</th>\n",
       "    </tr>\n",
       "  </thead>\n",
       "  <tbody>\n",
       "    <tr>\n",
       "      <td>0</td>\n",
       "      <td>1</td>\n",
       "      <td>-8437.673028</td>\n",
       "      <td>42</td>\n",
       "      <td>высшее</td>\n",
       "      <td>0</td>\n",
       "      <td>женат / замужем</td>\n",
       "      <td>0</td>\n",
       "      <td>F</td>\n",
       "      <td>сотрудник</td>\n",
       "      <td>0</td>\n",
       "      <td>253875.639453</td>\n",
       "      <td>покупка жилья</td>\n",
       "    </tr>\n",
       "    <tr>\n",
       "      <td>1</td>\n",
       "      <td>1</td>\n",
       "      <td>-4024.803754</td>\n",
       "      <td>36</td>\n",
       "      <td>среднее</td>\n",
       "      <td>1</td>\n",
       "      <td>женат / замужем</td>\n",
       "      <td>0</td>\n",
       "      <td>F</td>\n",
       "      <td>сотрудник</td>\n",
       "      <td>0</td>\n",
       "      <td>112080.014102</td>\n",
       "      <td>приобретение автомобиля</td>\n",
       "    </tr>\n",
       "    <tr>\n",
       "      <td>2</td>\n",
       "      <td>0</td>\n",
       "      <td>-5623.422610</td>\n",
       "      <td>33</td>\n",
       "      <td>Среднее</td>\n",
       "      <td>1</td>\n",
       "      <td>женат / замужем</td>\n",
       "      <td>0</td>\n",
       "      <td>M</td>\n",
       "      <td>сотрудник</td>\n",
       "      <td>0</td>\n",
       "      <td>145885.952297</td>\n",
       "      <td>покупка жилья</td>\n",
       "    </tr>\n",
       "    <tr>\n",
       "      <td>3</td>\n",
       "      <td>3</td>\n",
       "      <td>-4124.747207</td>\n",
       "      <td>32</td>\n",
       "      <td>среднее</td>\n",
       "      <td>1</td>\n",
       "      <td>женат / замужем</td>\n",
       "      <td>0</td>\n",
       "      <td>M</td>\n",
       "      <td>сотрудник</td>\n",
       "      <td>0</td>\n",
       "      <td>267628.550329</td>\n",
       "      <td>дополнительное образование</td>\n",
       "    </tr>\n",
       "    <tr>\n",
       "      <td>4</td>\n",
       "      <td>0</td>\n",
       "      <td>340266.072047</td>\n",
       "      <td>53</td>\n",
       "      <td>среднее</td>\n",
       "      <td>1</td>\n",
       "      <td>гражданский брак</td>\n",
       "      <td>1</td>\n",
       "      <td>F</td>\n",
       "      <td>пенсионер</td>\n",
       "      <td>0</td>\n",
       "      <td>158616.077870</td>\n",
       "      <td>сыграть свадьбу</td>\n",
       "    </tr>\n",
       "  </tbody>\n",
       "</table>\n",
       "</div>"
      ],
      "text/plain": [
       "   children  days_employed  dob_years education  education_id  \\\n",
       "0         1   -8437.673028         42    высшее             0   \n",
       "1         1   -4024.803754         36   среднее             1   \n",
       "2         0   -5623.422610         33   Среднее             1   \n",
       "3         3   -4124.747207         32   среднее             1   \n",
       "4         0  340266.072047         53   среднее             1   \n",
       "\n",
       "      family_status  family_status_id gender income_type  debt   total_income  \\\n",
       "0   женат / замужем                 0      F   сотрудник     0  253875.639453   \n",
       "1   женат / замужем                 0      F   сотрудник     0  112080.014102   \n",
       "2   женат / замужем                 0      M   сотрудник     0  145885.952297   \n",
       "3   женат / замужем                 0      M   сотрудник     0  267628.550329   \n",
       "4  гражданский брак                 1      F   пенсионер     0  158616.077870   \n",
       "\n",
       "                      purpose  \n",
       "0               покупка жилья  \n",
       "1     приобретение автомобиля  \n",
       "2               покупка жилья  \n",
       "3  дополнительное образование  \n",
       "4             сыграть свадьбу  "
      ]
     },
     "execution_count": 1,
     "metadata": {},
     "output_type": "execute_result"
    }
   ],
   "source": [
    "# Импортируем библиотеку\n",
    "import pandas as pd\n",
    "\n",
    "# Создадим URL-адрес\n",
    "url = '/datasets/data.csv'\n",
    "\n",
    "# Загрузим набор данных\n",
    "df = pd.read_csv(url)\n",
    "\n",
    "# Взглянем на первые пять строк\n",
    "df.head()"
   ]
  },
  {
   "cell_type": "code",
   "execution_count": 2,
   "metadata": {},
   "outputs": [
    {
     "data": {
      "text/html": [
       "<div>\n",
       "<style scoped>\n",
       "    .dataframe tbody tr th:only-of-type {\n",
       "        vertical-align: middle;\n",
       "    }\n",
       "\n",
       "    .dataframe tbody tr th {\n",
       "        vertical-align: top;\n",
       "    }\n",
       "\n",
       "    .dataframe thead th {\n",
       "        text-align: right;\n",
       "    }\n",
       "</style>\n",
       "<table border=\"1\" class=\"dataframe\">\n",
       "  <thead>\n",
       "    <tr style=\"text-align: right;\">\n",
       "      <th></th>\n",
       "      <th>children</th>\n",
       "      <th>days_employed</th>\n",
       "      <th>dob_years</th>\n",
       "      <th>education</th>\n",
       "      <th>education_id</th>\n",
       "      <th>family_status</th>\n",
       "      <th>family_status_id</th>\n",
       "      <th>gender</th>\n",
       "      <th>income_type</th>\n",
       "      <th>debt</th>\n",
       "      <th>total_income</th>\n",
       "      <th>purpose</th>\n",
       "    </tr>\n",
       "  </thead>\n",
       "  <tbody>\n",
       "    <tr>\n",
       "      <td>21520</td>\n",
       "      <td>1</td>\n",
       "      <td>-4529.316663</td>\n",
       "      <td>43</td>\n",
       "      <td>среднее</td>\n",
       "      <td>1</td>\n",
       "      <td>гражданский брак</td>\n",
       "      <td>1</td>\n",
       "      <td>F</td>\n",
       "      <td>компаньон</td>\n",
       "      <td>0</td>\n",
       "      <td>224791.862382</td>\n",
       "      <td>операции с жильем</td>\n",
       "    </tr>\n",
       "    <tr>\n",
       "      <td>21521</td>\n",
       "      <td>0</td>\n",
       "      <td>343937.404131</td>\n",
       "      <td>67</td>\n",
       "      <td>среднее</td>\n",
       "      <td>1</td>\n",
       "      <td>женат / замужем</td>\n",
       "      <td>0</td>\n",
       "      <td>F</td>\n",
       "      <td>пенсионер</td>\n",
       "      <td>0</td>\n",
       "      <td>155999.806512</td>\n",
       "      <td>сделка с автомобилем</td>\n",
       "    </tr>\n",
       "    <tr>\n",
       "      <td>21522</td>\n",
       "      <td>1</td>\n",
       "      <td>-2113.346888</td>\n",
       "      <td>38</td>\n",
       "      <td>среднее</td>\n",
       "      <td>1</td>\n",
       "      <td>гражданский брак</td>\n",
       "      <td>1</td>\n",
       "      <td>M</td>\n",
       "      <td>сотрудник</td>\n",
       "      <td>1</td>\n",
       "      <td>89672.561153</td>\n",
       "      <td>недвижимость</td>\n",
       "    </tr>\n",
       "    <tr>\n",
       "      <td>21523</td>\n",
       "      <td>3</td>\n",
       "      <td>-3112.481705</td>\n",
       "      <td>38</td>\n",
       "      <td>среднее</td>\n",
       "      <td>1</td>\n",
       "      <td>женат / замужем</td>\n",
       "      <td>0</td>\n",
       "      <td>M</td>\n",
       "      <td>сотрудник</td>\n",
       "      <td>1</td>\n",
       "      <td>244093.050500</td>\n",
       "      <td>на покупку своего автомобиля</td>\n",
       "    </tr>\n",
       "    <tr>\n",
       "      <td>21524</td>\n",
       "      <td>2</td>\n",
       "      <td>-1984.507589</td>\n",
       "      <td>40</td>\n",
       "      <td>среднее</td>\n",
       "      <td>1</td>\n",
       "      <td>женат / замужем</td>\n",
       "      <td>0</td>\n",
       "      <td>F</td>\n",
       "      <td>сотрудник</td>\n",
       "      <td>0</td>\n",
       "      <td>82047.418899</td>\n",
       "      <td>на покупку автомобиля</td>\n",
       "    </tr>\n",
       "  </tbody>\n",
       "</table>\n",
       "</div>"
      ],
      "text/plain": [
       "       children  days_employed  dob_years education  education_id  \\\n",
       "21520         1   -4529.316663         43   среднее             1   \n",
       "21521         0  343937.404131         67   среднее             1   \n",
       "21522         1   -2113.346888         38   среднее             1   \n",
       "21523         3   -3112.481705         38   среднее             1   \n",
       "21524         2   -1984.507589         40   среднее             1   \n",
       "\n",
       "          family_status  family_status_id gender income_type  debt  \\\n",
       "21520  гражданский брак                 1      F   компаньон     0   \n",
       "21521   женат / замужем                 0      F   пенсионер     0   \n",
       "21522  гражданский брак                 1      M   сотрудник     1   \n",
       "21523   женат / замужем                 0      M   сотрудник     1   \n",
       "21524   женат / замужем                 0      F   сотрудник     0   \n",
       "\n",
       "        total_income                       purpose  \n",
       "21520  224791.862382             операции с жильем  \n",
       "21521  155999.806512          сделка с автомобилем  \n",
       "21522   89672.561153                  недвижимость  \n",
       "21523  244093.050500  на покупку своего автомобиля  \n",
       "21524   82047.418899         на покупку автомобиля  "
      ]
     },
     "execution_count": 2,
     "metadata": {},
     "output_type": "execute_result"
    }
   ],
   "source": [
    "# Взглянем на последние пять строк\n",
    "df.tail()"
   ]
  },
  {
   "cell_type": "markdown",
   "metadata": {},
   "source": [
    "В этом фрейме данных можно заметить три важных момента:\n",
    "\n",
    "* во-первых, во фрейме данных каждая строка соответствует одному наблюдению, а каждый столбец соответствует одному признаку;\n",
    "* во-вторых, каждый столбец содержит имя (`children`,\t`days_employed`,\t`dob_years`\t и т.д.), а каждая строка содержит индексный номер (`0`, `1` и т.д.), которые можно использовать для выбора и управления наблюдениями и признаками;\n",
    "* в-третьих, столбцы `education` и `education_id` содержат одну и туже информацию в разных форматах, также как и столбцы `family_status` и `family_status_id`); например, в столбце `education` уровень образования клиентов обозначается `высшее`, `среднее` и т.д., в то время как в столбце `education_id` уровень образования обозначается `0`, `1` и т.д. Чтобы признаки были уникальными, один из дублирующих значниея столбцов можно удалить."
   ]
  },
  {
   "cell_type": "markdown",
   "metadata": {},
   "source": [
    "Посмотрим общую информацию по набору данных. Для начала взглянем на количество строк и столбцов. Для этого используем атрибут датафрейма `shape`"
   ]
  },
  {
   "cell_type": "code",
   "execution_count": 3,
   "metadata": {},
   "outputs": [
    {
     "data": {
      "text/plain": [
       "(21525, 12)"
      ]
     },
     "execution_count": 3,
     "metadata": {},
     "output_type": "execute_result"
    }
   ],
   "source": [
    "df.shape"
   ]
  },
  {
   "cell_type": "markdown",
   "metadata": {},
   "source": [
    "Видим, что данный датафрейм содержит `21525` строк (объектов/наблюдений) и `12` столбцов (признаков)"
   ]
  },
  {
   "cell_type": "markdown",
   "metadata": {},
   "source": [
    "Для более полной информации используем метод `info()`"
   ]
  },
  {
   "cell_type": "code",
   "execution_count": 4,
   "metadata": {},
   "outputs": [
    {
     "name": "stdout",
     "output_type": "stream",
     "text": [
      "<class 'pandas.core.frame.DataFrame'>\n",
      "RangeIndex: 21525 entries, 0 to 21524\n",
      "Data columns (total 12 columns):\n",
      "children            21525 non-null int64\n",
      "days_employed       19351 non-null float64\n",
      "dob_years           21525 non-null int64\n",
      "education           21525 non-null object\n",
      "education_id        21525 non-null int64\n",
      "family_status       21525 non-null object\n",
      "family_status_id    21525 non-null int64\n",
      "gender              21525 non-null object\n",
      "income_type         21525 non-null object\n",
      "debt                21525 non-null int64\n",
      "total_income        19351 non-null float64\n",
      "purpose             21525 non-null object\n",
      "dtypes: float64(2), int64(5), object(5)\n",
      "memory usage: 2.0+ MB\n"
     ]
    }
   ],
   "source": [
    "df.info()"
   ]
  },
  {
   "cell_type": "markdown",
   "metadata": {},
   "source": [
    "В возращаемом результате метода `info()` можно заметить, что не у всех признаков (столбцов) количество значений совпадает с общим количеством строк. Например, количество значений в столбце `days_employed` равно `19351`, что говорит о наличии пропущенных значений (приблизительно около 10%). Аналогично и в столбце `total_income`. Необходимо более подробно исследовать данные в этих столбцах, чтобы принять решение, что делать с пропущенными значениями."
   ]
  },
  {
   "cell_type": "markdown",
   "metadata": {},
   "source": [
    "Подсчитаем количество пропущеных значений. Для этого используем метод `isna()` для поиска пропусков и метод `sum()` для их подсчета"
   ]
  },
  {
   "cell_type": "code",
   "execution_count": 5,
   "metadata": {},
   "outputs": [
    {
     "data": {
      "text/plain": [
       "children               0\n",
       "days_employed       2174\n",
       "dob_years              0\n",
       "education              0\n",
       "education_id           0\n",
       "family_status          0\n",
       "family_status_id       0\n",
       "gender                 0\n",
       "income_type            0\n",
       "debt                   0\n",
       "total_income        2174\n",
       "purpose                0\n",
       "dtype: int64"
      ]
     },
     "execution_count": 5,
     "metadata": {},
     "output_type": "execute_result"
    }
   ],
   "source": [
    "df.isna().sum()"
   ]
  },
  {
   "cell_type": "markdown",
   "metadata": {},
   "source": [
    "Можно увидеть, что количество пропущеных значений в столбцах `days_employed` и `total_income ` равно `2174`"
   ]
  },
  {
   "cell_type": "markdown",
   "metadata": {},
   "source": [
    "Также предварительно посмотрим на наличие выбросов в числовых данных. Для этого используем метод `describe()`"
   ]
  },
  {
   "cell_type": "code",
   "execution_count": 6,
   "metadata": {},
   "outputs": [
    {
     "data": {
      "text/html": [
       "<div>\n",
       "<style scoped>\n",
       "    .dataframe tbody tr th:only-of-type {\n",
       "        vertical-align: middle;\n",
       "    }\n",
       "\n",
       "    .dataframe tbody tr th {\n",
       "        vertical-align: top;\n",
       "    }\n",
       "\n",
       "    .dataframe thead th {\n",
       "        text-align: right;\n",
       "    }\n",
       "</style>\n",
       "<table border=\"1\" class=\"dataframe\">\n",
       "  <thead>\n",
       "    <tr style=\"text-align: right;\">\n",
       "      <th></th>\n",
       "      <th>children</th>\n",
       "      <th>days_employed</th>\n",
       "      <th>dob_years</th>\n",
       "      <th>education_id</th>\n",
       "      <th>family_status_id</th>\n",
       "      <th>debt</th>\n",
       "      <th>total_income</th>\n",
       "    </tr>\n",
       "  </thead>\n",
       "  <tbody>\n",
       "    <tr>\n",
       "      <td>count</td>\n",
       "      <td>21525.000000</td>\n",
       "      <td>19351.000000</td>\n",
       "      <td>21525.000000</td>\n",
       "      <td>21525.000000</td>\n",
       "      <td>21525.000000</td>\n",
       "      <td>21525.000000</td>\n",
       "      <td>1.935100e+04</td>\n",
       "    </tr>\n",
       "    <tr>\n",
       "      <td>mean</td>\n",
       "      <td>0.538908</td>\n",
       "      <td>63046.497661</td>\n",
       "      <td>43.293380</td>\n",
       "      <td>0.817236</td>\n",
       "      <td>0.972544</td>\n",
       "      <td>0.080883</td>\n",
       "      <td>1.674223e+05</td>\n",
       "    </tr>\n",
       "    <tr>\n",
       "      <td>std</td>\n",
       "      <td>1.381587</td>\n",
       "      <td>140827.311974</td>\n",
       "      <td>12.574584</td>\n",
       "      <td>0.548138</td>\n",
       "      <td>1.420324</td>\n",
       "      <td>0.272661</td>\n",
       "      <td>1.029716e+05</td>\n",
       "    </tr>\n",
       "    <tr>\n",
       "      <td>min</td>\n",
       "      <td>-1.000000</td>\n",
       "      <td>-18388.949901</td>\n",
       "      <td>0.000000</td>\n",
       "      <td>0.000000</td>\n",
       "      <td>0.000000</td>\n",
       "      <td>0.000000</td>\n",
       "      <td>2.066726e+04</td>\n",
       "    </tr>\n",
       "    <tr>\n",
       "      <td>25%</td>\n",
       "      <td>0.000000</td>\n",
       "      <td>-2747.423625</td>\n",
       "      <td>33.000000</td>\n",
       "      <td>1.000000</td>\n",
       "      <td>0.000000</td>\n",
       "      <td>0.000000</td>\n",
       "      <td>1.030532e+05</td>\n",
       "    </tr>\n",
       "    <tr>\n",
       "      <td>50%</td>\n",
       "      <td>0.000000</td>\n",
       "      <td>-1203.369529</td>\n",
       "      <td>42.000000</td>\n",
       "      <td>1.000000</td>\n",
       "      <td>0.000000</td>\n",
       "      <td>0.000000</td>\n",
       "      <td>1.450179e+05</td>\n",
       "    </tr>\n",
       "    <tr>\n",
       "      <td>75%</td>\n",
       "      <td>1.000000</td>\n",
       "      <td>-291.095954</td>\n",
       "      <td>53.000000</td>\n",
       "      <td>1.000000</td>\n",
       "      <td>1.000000</td>\n",
       "      <td>0.000000</td>\n",
       "      <td>2.034351e+05</td>\n",
       "    </tr>\n",
       "    <tr>\n",
       "      <td>max</td>\n",
       "      <td>20.000000</td>\n",
       "      <td>401755.400475</td>\n",
       "      <td>75.000000</td>\n",
       "      <td>4.000000</td>\n",
       "      <td>4.000000</td>\n",
       "      <td>1.000000</td>\n",
       "      <td>2.265604e+06</td>\n",
       "    </tr>\n",
       "  </tbody>\n",
       "</table>\n",
       "</div>"
      ],
      "text/plain": [
       "           children  days_employed     dob_years  education_id  \\\n",
       "count  21525.000000   19351.000000  21525.000000  21525.000000   \n",
       "mean       0.538908   63046.497661     43.293380      0.817236   \n",
       "std        1.381587  140827.311974     12.574584      0.548138   \n",
       "min       -1.000000  -18388.949901      0.000000      0.000000   \n",
       "25%        0.000000   -2747.423625     33.000000      1.000000   \n",
       "50%        0.000000   -1203.369529     42.000000      1.000000   \n",
       "75%        1.000000    -291.095954     53.000000      1.000000   \n",
       "max       20.000000  401755.400475     75.000000      4.000000   \n",
       "\n",
       "       family_status_id          debt  total_income  \n",
       "count      21525.000000  21525.000000  1.935100e+04  \n",
       "mean           0.972544      0.080883  1.674223e+05  \n",
       "std            1.420324      0.272661  1.029716e+05  \n",
       "min            0.000000      0.000000  2.066726e+04  \n",
       "25%            0.000000      0.000000  1.030532e+05  \n",
       "50%            0.000000      0.000000  1.450179e+05  \n",
       "75%            1.000000      0.000000  2.034351e+05  \n",
       "max            4.000000      1.000000  2.265604e+06  "
      ]
     },
     "execution_count": 6,
     "metadata": {},
     "output_type": "execute_result"
    }
   ],
   "source": [
    "df.describe()"
   ]
  },
  {
   "cell_type": "markdown",
   "metadata": {},
   "source": [
    "В данном наборе данных можно заметить некоторые аномалии:\n",
    "* во-первых, минимальное количество детей в столбце `children` (строка: `min`) равное `-1`. В реальности так не бывает, возможно здесь в данных закралась ошибка; также вывызает вопрос значение максимального количества детей (строка `max`) равное `20` – в этом случае, с учетом того, что значение в третьем квартиле равно `1` выглядит как выброс, хотя не исключено, что это возможно и вовсе не ошибка, такое вполне может быть, хотя и крайне редко. Поскольку по условию задачи ***\\\"количество детей\\\"*** является одним из ключевых признаков необходимо будет рассмотреть эти случаи более подробно;\n",
    "* во-вторых, отрицательные значения минимума, и первых трех квартилей (строки `25%`, `50%` и `75%`) столбца `days_employed` может говорить о большом количестве отрицательных значений данного признака; а значения максимума равного `401755.400475` дней, что приблизительно равно `1100` годам является очевидным выбросом; на что указывает большой разброс в данных – стандартное отклонение равное `140827.311974` дней или `385` лет (столбец `std`), а соответственно среднее равное `63046.497661` дней или `172` года также принимает аномальное значения (столбец `mean`),\n",
    "* в-третьих, минимальный возраст клиента в столбце `dob_years` составляет `0` лет, что выглядит как ошибка, притом что остальные статистики говорят о нормальном распределении  значений.\n",
    "\n",
    "Значения столбца `total_income` на первый взгляд кажутся чистыми. Хотя максимальное значение заработной платы в месяц в размере `2 265 604` ₽ выглядит чрезмерно большим более чем в 10 раз больше значения в третьем квартиле, необходимо будет внимательно изучить этот признак. \n",
    "\n",
    "Категориальные данные (`education_id`, `family_status_id`,\t`debt`) по имеющимся статистикам метода `describe()` рассматривать не будем."
   ]
  },
  {
   "cell_type": "markdown",
   "metadata": {},
   "source": [
    "Посмотрим сколько отрицательных значений содержит столбец `days_employed`. Для этого используем условное выражение:"
   ]
  },
  {
   "cell_type": "code",
   "execution_count": 7,
   "metadata": {},
   "outputs": [
    {
     "data": {
      "text/plain": [
       "15906"
      ]
     },
     "execution_count": 7,
     "metadata": {},
     "output_type": "execute_result"
    }
   ],
   "source": [
    "df[df['days_employed'] < 0]['days_employed'].count()"
   ]
  },
  {
   "cell_type": "markdown",
   "metadata": {},
   "source": [
    "15906 значений в столбце `days_employed` имеют отрицательные значения – это приблизительно 82% всех значений.\n",
    "\n",
    "Посмотрим отдельно на неотрицательные значения, для удобства переведем значения из дней в годы:"
   ]
  },
  {
   "cell_type": "code",
   "execution_count": 8,
   "metadata": {},
   "outputs": [
    {
     "data": {
      "text/plain": [
       "count    3445.000000\n",
       "mean     1000.011808\n",
       "std        57.739771\n",
       "min       900.626632\n",
       "25%       949.697024\n",
       "50%      1000.584401\n",
       "75%      1049.990258\n",
       "max      1100.699727\n",
       "Name: days_employed, dtype: float64"
      ]
     },
     "execution_count": 8,
     "metadata": {},
     "output_type": "execute_result"
    }
   ],
   "source": [
    "df[df['days_employed'] >= 0]['days_employed'].apply(lambda x: x / 365).describe()"
   ]
  },
  {
   "cell_type": "markdown",
   "metadata": {},
   "source": [
    "Из возвращаемого результата метода `describe()` видно, что значения трудового стажа слишком завышены: среднее значение равно 1000 лет при стандартном отклонении всего 57.7; такие данные непригодны для анализа.\n",
    "\n",
    "Поскольку минимальное неотрицательное значение в столбце `days_employed` равно 328728.72 дней (или 900 лет), можно сделать вывод, что в датафрейме отсутствуют строки, которые укладываются в реальные значения трудового стажа, для примера возьмем трудовой стаж от 0 до 47 лет. \n",
    "\n",
    "Убедимся в этом:"
   ]
  },
  {
   "cell_type": "code",
   "execution_count": 9,
   "metadata": {},
   "outputs": [
    {
     "data": {
      "text/plain": [
       "0"
      ]
     },
     "execution_count": 9,
     "metadata": {},
     "output_type": "execute_result"
    }
   ],
   "source": [
    "df[(df['days_employed'] >= 0) & (df['days_employed'] <= 47*365)]['days_employed'].count()"
   ]
  },
  {
   "cell_type": "markdown",
   "metadata": {},
   "source": [
    "Действительно, таких строк нет. Т.е. все значения в столбце `days_employed` не пригодны для анализа. Для того, чтобы привести значения в столбце в соответствие необходимо разобраться, почему данные в данном столбце именно такие. Возможно причина в неправильном маштабе, например данные указаны не в днях, а в часах; возможно – это произошло в следствие ошибки импорта данных и т.д. Такие вопросы лучше адресовать к специалистам, которые эти данные собирали. В любом случае, исходя из условия задачи и той информации, которая содержится в условии, этими данными можно пренебречь.\n",
    "Поэтому столбец `days_employed` предлагается удалить из датафрейма.\n",
    "\n",
    "Для удаления столбца используем метод `drop()` с параметром `axis='columns'`:"
   ]
  },
  {
   "cell_type": "code",
   "execution_count": 10,
   "metadata": {},
   "outputs": [],
   "source": [
    "df.drop(labels='days_employed', axis='columns', inplace=True)"
   ]
  },
  {
   "cell_type": "markdown",
   "metadata": {},
   "source": [
    "Другими кандидатами на удаление являются полные дубликаты строк в датафрейме. Посмотрим, есть ли в наборе данных полные дубликаты, то есть такие строки, в которых значения в одном и том же столбце равны. Для этого используем метод `duplicated()` и подсчитаем количество всех дубликатом с помощью метода `sum()`"
   ]
  },
  {
   "cell_type": "code",
   "execution_count": 11,
   "metadata": {},
   "outputs": [
    {
     "data": {
      "text/plain": [
       "54"
      ]
     },
     "execution_count": 11,
     "metadata": {},
     "output_type": "execute_result"
    }
   ],
   "source": [
    "df.duplicated().sum()"
   ]
  },
  {
   "cell_type": "markdown",
   "metadata": {},
   "source": [
    "Как мы видим в нашем наборе данных имеется 54 дубликата."
   ]
  },
  {
   "cell_type": "markdown",
   "metadata": {},
   "source": [
    "### Вывод"
   ]
  },
  {
   "cell_type": "markdown",
   "metadata": {},
   "source": [
    "1. Мы имеем набор данных о клиентах банка размером 21525 строк (объектов/наблюдений) и 12 столбцов (признаков). Из них 54 строки являются дубликатами.\n",
    "2. В наборе данных есть две пары дублирующих друг друга категориальных признаков: `education` – `education_id` и `family_status` – `family_status_id`, значения которых записаны в разных форматах.\n",
    "3. Также в наборе данных есть 2174 пропуска в столбцах `days_employed` и `total_income` в каждом.\n",
    "4. В наборе данных есть ошибки и выбросы. Например, в столбцу `days_employed` отрицательное количество детей и отрицательное значение трудового стажа, или невозможное значение трудового стажа (1100 лет). Данный столбец, как зашумленный и не представляющий пользы в анализе данных на текущий этап, был удален из датафрейма."
   ]
  },
  {
   "cell_type": "markdown",
   "metadata": {},
   "source": [
    "***"
   ]
  },
  {
   "cell_type": "markdown",
   "metadata": {},
   "source": [
    "### Шаг 2. Предобработка данных"
   ]
  },
  {
   "cell_type": "markdown",
   "metadata": {},
   "source": [
    "### Обработка пропусков"
   ]
  },
  {
   "cell_type": "markdown",
   "metadata": {},
   "source": [
    "Как было показано выше пропущенные зачения в дата фрейме содержат столбцы `days_employed` и `total_income`. Столбец `days_employed` был удален на предыдущем шаге, посмотрим подробнее данные в столбце `total_income`. Для начала посмотрим общие статистики. Используем метод `describe()` для объекта типа `Series`:"
   ]
  },
  {
   "cell_type": "code",
   "execution_count": 12,
   "metadata": {},
   "outputs": [
    {
     "data": {
      "text/plain": [
       "count    1.935100e+04\n",
       "mean     1.674223e+05\n",
       "std      1.029716e+05\n",
       "min      2.066726e+04\n",
       "25%      1.030532e+05\n",
       "50%      1.450179e+05\n",
       "75%      2.034351e+05\n",
       "max      2.265604e+06\n",
       "Name: total_income, dtype: float64"
      ]
     },
     "execution_count": 12,
     "metadata": {},
     "output_type": "execute_result"
    }
   ],
   "source": [
    "df['total_income'].describe()"
   ]
  },
  {
   "cell_type": "markdown",
   "metadata": {},
   "source": [
    "Видно, что ненулевых значений в столбце `total_income` содержится 19351. Посмотрим являются ли пропусками остальные значения, используем метод `isna()`:"
   ]
  },
  {
   "cell_type": "code",
   "execution_count": 13,
   "metadata": {},
   "outputs": [
    {
     "data": {
      "text/plain": [
       "2174"
      ]
     },
     "execution_count": 13,
     "metadata": {},
     "output_type": "execute_result"
    }
   ],
   "source": [
    "df['total_income'].isna().sum()"
   ]
  },
  {
   "cell_type": "markdown",
   "metadata": {},
   "source": [
    "Или в относительных величинах:"
   ]
  },
  {
   "cell_type": "code",
   "execution_count": 14,
   "metadata": {},
   "outputs": [
    {
     "name": "stdout",
     "output_type": "stream",
     "text": [
      "Доля пропущенных значений: 10.10%\n"
     ]
    }
   ],
   "source": [
    "percentage_of_missing_values = df['total_income'].isna().sum() / len(df['total_income'])\n",
    "print(f'Доля пропущенных значений: {percentage_of_missing_values:.2%}')"
   ]
  },
  {
   "cell_type": "markdown",
   "metadata": {},
   "source": [
    "10% – достаточно большое количество строк с пропусками для того, чтобы их просто удалить. Выберем стратегию заполнения пропущенных значений. Для начала, посмотрим на строки с пропусками. Выясним, есть ли связь меджу пропущенными значениями и другими признаками. Сгруппируем датафрейм с пропущенными значения по уровню образования и сохраним его в отдельную переменную `df_with_nan`:"
   ]
  },
  {
   "cell_type": "code",
   "execution_count": 15,
   "metadata": {},
   "outputs": [],
   "source": [
    "df_with_nan = df[df['total_income'].isna()]"
   ]
  },
  {
   "cell_type": "markdown",
   "metadata": {},
   "source": [
    "Сгруппируем получивщийся дата фрейм по уровню образования и посмотрим на распределение по количеству строк для каждой группы:"
   ]
  },
  {
   "cell_type": "code",
   "execution_count": 16,
   "metadata": {},
   "outputs": [
    {
     "data": {
      "text/plain": [
       "education_id\n",
       "1    1540\n",
       "0     544\n",
       "2      69\n",
       "3      21\n",
       "Name: education_id, dtype: int64"
      ]
     },
     "execution_count": 16,
     "metadata": {},
     "output_type": "execute_result"
    }
   ],
   "source": [
    "df_with_nan.groupby(by='education_id')['education_id'].count().sort_values(ascending=False)"
   ]
  },
  {
   "cell_type": "markdown",
   "metadata": {},
   "source": [
    "Больше всего строк с пропущенными значениями приходится на группу с индексом `1`. Интересно является ли эта группа более многочисленной для всей выборки?"
   ]
  },
  {
   "cell_type": "code",
   "execution_count": 17,
   "metadata": {},
   "outputs": [
    {
     "data": {
      "text/plain": [
       "education_id\n",
       "1    15233\n",
       "0     5260\n",
       "2      744\n",
       "3      282\n",
       "4        6\n",
       "Name: education_id, dtype: int64"
      ]
     },
     "execution_count": 17,
     "metadata": {},
     "output_type": "execute_result"
    }
   ],
   "source": [
    "df.groupby(by='education_id')['education_id'].count().sort_values(ascending=False)"
   ]
  },
  {
   "cell_type": "markdown",
   "metadata": {},
   "source": [
    "Да, более того, и распределение по группам приблизительно совпадает и относится к строкам с пустыми значениями именно как 100 к 10. Следовательно связи между уровнем образования и фактом наличия пропущенных значений нет.\n",
    "\n",
    "Аналогично посмотрим для признаков `family_status_id`,\t`gender`,\t`income_type` и\t`debt`"
   ]
  },
  {
   "cell_type": "code",
   "execution_count": 18,
   "metadata": {},
   "outputs": [],
   "source": [
    "# Автоматизируем процесс\n",
    "# Сгруппируем имена столбцов, в кторых будет проходить проверка в список\n",
    "target_columns = ['family_status_id',  'gender',  'income_type',  'debt']\n",
    "\n",
    "# Создадим функцию для сравнения распределения по признакам во всем дата фрейме и датафрейме с пропусками\n",
    "def verify(column_name: str):\n",
    "    \"\"\"\n",
    "    Функция сравнивает распределение количества строк в группах по целевому признаку\n",
    "    между всей выборкой из дата фрейма и дата фреймом с пропущенными значениями\n",
    "    \n",
    "    Распределение сравнивается как отношение количества во всей выборке \n",
    "    к количеству в выборке с пропущенными значениями.\n",
    "    \n",
    "    Нормативное значение даннорго отношения лежит в границах интервала [8, 12],\n",
    "    так как отношение между количеством строк во всей выборке к количеству строк\n",
    "    в выборке с пропусками равняется 10, а сам интервал расширим на 20%.\n",
    "    \n",
    "    Функция возвращает True, если результат вычислений поапдает в нормативное значение\n",
    "    \"\"\"\n",
    "    \n",
    "    # Запишем значения количества строк в целевой группе в список для каждой выборки\n",
    "    counts_in_df = [count \n",
    "                    for count \n",
    "                    in df.groupby(by=column_name)[column_name].count().sort_values(ascending=False)]\n",
    "    counts_in_df_with_nan = [count \n",
    "                             for count \n",
    "                             in df_with_nan.groupby(by=column_name)[column_name].count().sort_values(ascending=False)]\n",
    "    \n",
    "    # Запишем результат отношения количества строк во всей выборке к количеству строк в выборке с пропусками в список\n",
    "    result = []\n",
    "    for i in range(min(len(counts_in_df_with_nan), len(counts_in_df))):\n",
    "        result.append(counts_in_df[i] / counts_in_df_with_nan[i])\n",
    "    \n",
    "    # Вычислим среднее арифметическое результатов и с равним его с нормативными значениями\n",
    "    return 8 <= sum(result) / len(result) <= 12\n",
    "    "
   ]
  },
  {
   "cell_type": "markdown",
   "metadata": {},
   "source": [
    "Посмотрим на результат работы функции `verify()`:"
   ]
  },
  {
   "cell_type": "code",
   "execution_count": 19,
   "metadata": {},
   "outputs": [
    {
     "name": "stdout",
     "output_type": "stream",
     "text": [
      "Для столбца family_status_id распределение: True\n",
      "Для столбца gender распределение: True\n",
      "Для столбца income_type распределение: True\n",
      "Для столбца debt распределение: True\n"
     ]
    }
   ],
   "source": [
    "for target_column in target_columns:\n",
    "    verify_ = verify(target_column)\n",
    "    print(f'Для столбца {target_column} распределение: {verify_}')"
   ]
  },
  {
   "cell_type": "markdown",
   "metadata": {},
   "source": [
    "Видно, что для всех признаков распределение для датафрема с пропусками является приблизительно таким же, как и для всего датафрейма. Значит наличие пропусков не связано ни с одним из признаков в столбцах: `education_id`, `family_status_id`,  `gender`,  `income_type`,  `debt` и нормально распределено по всему набору данных. Поэтому для импутации пропущенных зачений можно воспользоваться заменой пропусков на среднее значение.\n",
    "\n",
    "Следует отметить, что заполнение пропусков средним – довольно топорная стратегия, которая больше подходит для быстрого заполнения больших объемов данных. Не всегда импутированное значение близко у истинному, особенно когда данные распределены ненормально и имеются явные выбросы. В нашем случае данные распределены нормально, поэтому такой подход в рамках решения данной задачи вполне уместен. Его можно усовершенствовать, рассчитав средние значения по одному из категориальных признаков, например по `income_type`, а затем, строкам с пропусками, у которых будет определенный `income_type` присваивать средние по данной категории.\n",
    "\n",
    "Альтернативным методом импутации пропущенных значений – является применение метода $k$ ближайших соседей для предсказания пропущенных значений. Сохраним значение столбца `total_income` с пропущенными значениями для дальнейшего сравнения двух методов импутации:"
   ]
  },
  {
   "cell_type": "code",
   "execution_count": 20,
   "metadata": {},
   "outputs": [
    {
     "data": {
      "text/plain": [
       "2174"
      ]
     },
     "execution_count": 20,
     "metadata": {},
     "output_type": "execute_result"
    }
   ],
   "source": [
    "# Создать глубоку копию значений столбца total_income\n",
    "\n",
    "import copy\n",
    "\n",
    "features = copy.deepcopy(df['total_income'].values)\n",
    "pd.Series(features).isna().sum()"
   ]
  },
  {
   "cell_type": "markdown",
   "metadata": {},
   "source": [
    "##### Метод импутации на основе среднего значения"
   ]
  },
  {
   "cell_type": "markdown",
   "metadata": {},
   "source": [
    "Рассчитаем средние показатели по категориям `income_type`:\n"
   ]
  },
  {
   "cell_type": "code",
   "execution_count": 21,
   "metadata": {},
   "outputs": [
    {
     "data": {
      "text/plain": [
       "income_type\n",
       "безработный        131339.751676\n",
       "в декрете           53829.130729\n",
       "госслужащий        170898.309923\n",
       "компаньон          202417.461462\n",
       "пенсионер          137127.465690\n",
       "предприниматель    499163.144947\n",
       "сотрудник          161380.260488\n",
       "студент             98201.625314\n",
       "Name: total_income, dtype: float64"
      ]
     },
     "execution_count": 21,
     "metadata": {},
     "output_type": "execute_result"
    }
   ],
   "source": [
    "df.groupby(by='income_type')['total_income'].mean()"
   ]
  },
  {
   "cell_type": "markdown",
   "metadata": {},
   "source": [
    "Как видим средние значения достаточно сильно различаются. Создадим функцию, которая будет импутировать средние значения по категориям в строки с пропущенными значениями, относящиеся к схожей категории:"
   ]
  },
  {
   "cell_type": "code",
   "execution_count": 22,
   "metadata": {},
   "outputs": [],
   "source": [
    "def impute_mean(category_name):\n",
    "    \"\"\"\n",
    "    Функция импутирует среднее значение в группе в строки с пропусками\n",
    "    \"\"\"\n",
    "        \n",
    "    # Вычислить среднее значение в группе\n",
    "    mean_income = df[df['income_type'] == category_name]['total_income'].mean()\n",
    "    \n",
    "    # Присвоить среднее значения в строки с пропущенными значениями\n",
    "    df.loc[(df['income_type'] == category_name)\n",
    "          & (df['total_income'].isna()), 'total_income'] = mean_income"
   ]
  },
  {
   "cell_type": "markdown",
   "metadata": {},
   "source": [
    "Пройдем циклом по всем категориям и заменим пропуски на среднее значения для каждой категории с помощью функции `impute_mean()`:"
   ]
  },
  {
   "cell_type": "code",
   "execution_count": 23,
   "metadata": {},
   "outputs": [],
   "source": [
    "for income_type in df['income_type'].unique():\n",
    "    impute_mean(income_type)"
   ]
  },
  {
   "cell_type": "markdown",
   "metadata": {},
   "source": [
    "Посмотрим на результат выполнения функции. Посмотрим на количество пропусков в столбце `total_income`:"
   ]
  },
  {
   "cell_type": "code",
   "execution_count": 24,
   "metadata": {},
   "outputs": [
    {
     "data": {
      "text/plain": [
       "0"
      ]
     },
     "execution_count": 24,
     "metadata": {},
     "output_type": "execute_result"
    }
   ],
   "source": [
    "df['total_income'].isna().sum()"
   ]
  },
  {
   "cell_type": "markdown",
   "metadata": {},
   "source": [
    "Их нет, сравним средние значения по столбцу `total_income` до импутации и после, до импутации среднее значение было равно `167422.3`:"
   ]
  },
  {
   "cell_type": "code",
   "execution_count": 25,
   "metadata": {},
   "outputs": [
    {
     "data": {
      "text/plain": [
       "167395.91574102986"
      ]
     },
     "execution_count": 25,
     "metadata": {},
     "output_type": "execute_result"
    }
   ],
   "source": [
    "df['total_income'].mean()"
   ]
  },
  {
   "cell_type": "markdown",
   "metadata": {},
   "source": [
    "Как видим среднее значение несколько отклонилось от того, что было до импутации."
   ]
  },
  {
   "cell_type": "markdown",
   "metadata": {},
   "source": [
    "##### Метод $k$ ближайших соседей"
   ]
  },
  {
   "cell_type": "markdown",
   "metadata": {},
   "source": [
    "Применим метод $k$ ближайших соседей для предсказания пропущенных значений. Для этого признаки с пропущенными значениями рассмтаривается как вектор целей и оставшееся подмножество признаков используется для предсказания пропущенных значений. Хотя для вычисления значений можно применять широкий спектр алгоритмов машинного обучения, популярным выбором является алгоритм $k$ билижайших соседей (KNN). В данном алгоритме для предсказания пропущенного значения используется $k$ ближайших наблюдений в соотвтествие с определенной метрикой расстояния. Это разумно в небольших наборах данных, но становится довольно проблематичным, если набор данных содержит миллионы наблюдений.\n",
    "\n",
    "Применим метод $k$ ближайших соседей для столбца `total`, сохраним результат вычислений в отдельных переменных:"
   ]
  },
  {
   "cell_type": "code",
   "execution_count": 26,
   "metadata": {},
   "outputs": [
    {
     "data": {
      "text/plain": [
       "2174"
      ]
     },
     "execution_count": 26,
     "metadata": {},
     "output_type": "execute_result"
    }
   ],
   "source": [
    "# Загрузить библиотеку\n",
    "from sklearn.impute import SimpleImputer\n",
    "\n",
    "# Создать заполнитель\n",
    "mean_imputer = SimpleImputer(strategy='mean')\n",
    "\n",
    "# Импутировать значения\n",
    "features_mean_imputed = mean_imputer.fit_transform(features.reshape(1, -1))\n",
    "\n",
    "# Количество пропусков в столбце до импутации\n",
    "pd.Series(features).isna().sum()"
   ]
  },
  {
   "cell_type": "code",
   "execution_count": 27,
   "metadata": {},
   "outputs": [
    {
     "data": {
      "text/plain": [
       "0"
      ]
     },
     "execution_count": 27,
     "metadata": {},
     "output_type": "execute_result"
    }
   ],
   "source": [
    "# Количество пропусков после импутации\n",
    "pd.Series(features_mean_imputed[0]).isna().sum()"
   ]
  },
  {
   "cell_type": "markdown",
   "metadata": {},
   "source": [
    "Значения импутированы, сравним среднее значение выборки до и после импутации:"
   ]
  },
  {
   "cell_type": "code",
   "execution_count": 28,
   "metadata": {},
   "outputs": [
    {
     "data": {
      "text/plain": [
       "167422.30220817294"
      ]
     },
     "execution_count": 28,
     "metadata": {},
     "output_type": "execute_result"
    }
   ],
   "source": [
    "pd.Series(features).mean()"
   ]
  },
  {
   "cell_type": "code",
   "execution_count": 29,
   "metadata": {},
   "outputs": [
    {
     "data": {
      "text/plain": [
       "167422.30220817297"
      ]
     },
     "execution_count": 29,
     "metadata": {},
     "output_type": "execute_result"
    }
   ],
   "source": [
    "pd.Series(features_mean_imputed[0]).mean()"
   ]
  },
  {
   "cell_type": "markdown",
   "metadata": {},
   "source": [
    "В данном случае метод сработал гораздо точнее, среднее значение по выборке с пропусками приблизительно равно выборке с импутированными значениями. Можно сказать, что метод $k$ ближайших соседей точнее импутации на основании среднего значения, даже усовершенстованного нами до категорийных средних значений."
   ]
  },
  {
   "cell_type": "markdown",
   "metadata": {},
   "source": [
    "### Вывод"
   ]
  },
  {
   "cell_type": "markdown",
   "metadata": {},
   "source": [
    "1. В столбце `total_income` было пропущено 2174 значения, что составило 10% от всех записей дата фрейма. \n",
    "2. Было проведено исследование на предмент зависимости пропусков от категорийных признаков `education_id`, `family_status_id`,  `gender`,  `income_type`, `debt`. Было установлено, что зависимости наличия и распределения пропусков от категорийных признаков нет. Данные в подвыборке с пропущенными значениями распределены по категориям также как и во всей выборке. \n",
    "3. Поскольку распределение данных по столбу `total_income` близко к нормальному, в данных отсутствуют шумы и выбросы, было принято решение заменить пропущенные значения на среднее значение по столбцу `total_income`.\n",
    "4. Также было замечено, что средние значения `total_income` по категориям `income_type` сильно разнятся – до 10 раз (от 53829.13 до 499163.15), поэтому для более точного импутирования было принято решение расчитать средние значения не по всей выборке, а по категориям `income_type` и заменить ими в соответствующих категориях пропущенные значения.\n",
    "5. Дополнительно был протестирован альтернативный варинат импутации пропущенных значений на небольших выборках – метод $k$ ближайших соседей, который показал более точные результаты подстановки."
   ]
  },
  {
   "cell_type": "markdown",
   "metadata": {},
   "source": [
    "### Замена типа данных"
   ]
  },
  {
   "cell_type": "markdown",
   "metadata": {},
   "source": [
    "Посмотрим еще раз на типы данных в датафрейме. Используем для этого атрибут `dtypes`"
   ]
  },
  {
   "cell_type": "code",
   "execution_count": 30,
   "metadata": {},
   "outputs": [
    {
     "data": {
      "text/plain": [
       "dtype('float64')"
      ]
     },
     "execution_count": 30,
     "metadata": {},
     "output_type": "execute_result"
    }
   ],
   "source": [
    "df['total_income'].dtypes"
   ]
  },
  {
   "cell_type": "markdown",
   "metadata": {},
   "source": [
    "По условию задачи необходимо заменить вещественный тип данных на целочисленный. Как видно в дата фрейме только столбец `total_income` имеет тип значений `float64`. "
   ]
  },
  {
   "cell_type": "markdown",
   "metadata": {},
   "source": [
    "Заменим тип значений в столбце `total_income` на тип `int`. Для этого используем метод `astype()`:"
   ]
  },
  {
   "cell_type": "code",
   "execution_count": 31,
   "metadata": {},
   "outputs": [],
   "source": [
    "df = df.astype({'total_income': 'int'}, errors='ignore')"
   ]
  },
  {
   "cell_type": "markdown",
   "metadata": {},
   "source": [
    "В данном преобразовании типов мы использовали парметр `errors=` со значением `ignore`. Это означает, что для всех непредвиденных ситуаций, где по определенным причинам приведение типов окажется не возможным, метод `astype()` не прекратит свою работу из-за ошибок и исключений, а просто проигнорирует их. \n",
    "\n",
    "Альтернативная реализация такого поведения – использование конструкции `try` – `except`:\n",
    "\n",
    "    try:\n",
    "        df = df.astype({'total_income': 'int'})\n",
    "    except:\n",
    "        pass\n",
    "    "
   ]
  },
  {
   "cell_type": "markdown",
   "metadata": {},
   "source": [
    "Проверим результат изменения типа:"
   ]
  },
  {
   "cell_type": "code",
   "execution_count": 32,
   "metadata": {},
   "outputs": [
    {
     "data": {
      "text/plain": [
       "dtype('int64')"
      ]
     },
     "execution_count": 32,
     "metadata": {},
     "output_type": "execute_result"
    }
   ],
   "source": [
    "df['total_income'].dtypes"
   ]
  },
  {
   "cell_type": "markdown",
   "metadata": {},
   "source": [
    "### Вывод"
   ]
  },
  {
   "cell_type": "markdown",
   "metadata": {},
   "source": [
    "Преобразование типов бывает необходимо для оптимизации вычислений и использования памяти. В данном случае был преобразован тип значений в столбце `total_income` с `float64` к `int64`. Важно помнить, что при приобразовании типов могут возникать непредвиденные ситуации, когда такое преобразование невозможно выполнить. Для таких случаев необходимо использовать конструкцию `try`/`except` или параметр метод `astype()` `errors=` со значением `ignore`.\n",
    "\n",
    "Также в библиотеки pandas есть еще несколько методов для преобразования типов:\n",
    "* метод `to_numeric()` - предоставляет функциональные возможности для безопасного преобразования нечисловых типов (например, строк) в подходящий числовой тип, или подобне метод для преобразования строк в дату `to_datetime()` и `to_timedelta()`;\n",
    "* метод `infer_objects()` - служебный метод для преобразования столбцов объектов, содержащих объекты Python, в тип pandas, если это возможно.\n",
    "\n",
    "Эти альтернативные варианты для решения данной задачи не подходят."
   ]
  },
  {
   "cell_type": "markdown",
   "metadata": {},
   "source": [
    "### Обработка дубликатов"
   ]
  },
  {
   "cell_type": "markdown",
   "metadata": {},
   "source": [
    "##### Удаление повторяющихся строк\n",
    "Используем для этого метод `drop_duplucates()` и переиндексируем датафрейм с помощью метода `reset_index()`:"
   ]
  },
  {
   "cell_type": "code",
   "execution_count": 33,
   "metadata": {},
   "outputs": [
    {
     "data": {
      "text/plain": [
       "(21525, 11)"
      ]
     },
     "execution_count": 33,
     "metadata": {},
     "output_type": "execute_result"
    }
   ],
   "source": [
    "df.shape"
   ]
  },
  {
   "cell_type": "code",
   "execution_count": 34,
   "metadata": {},
   "outputs": [],
   "source": [
    "# Сохраним количество сток в датафрейме до удаления дубликатов для проверки\n",
    "rows_count = df.shape[0]\n",
    "\n",
    "# Удалим дубликаты\n",
    "df = df.drop_duplicates().reset_index()"
   ]
  },
  {
   "cell_type": "code",
   "execution_count": 35,
   "metadata": {},
   "outputs": [
    {
     "data": {
      "text/plain": [
       "54"
      ]
     },
     "execution_count": 35,
     "metadata": {},
     "output_type": "execute_result"
    }
   ],
   "source": [
    "rows_count - df.shape[0]"
   ]
  },
  {
   "cell_type": "code",
   "execution_count": 36,
   "metadata": {},
   "outputs": [
    {
     "name": "stdout",
     "output_type": "stream",
     "text": [
      "<class 'pandas.core.frame.DataFrame'>\n",
      "RangeIndex: 21471 entries, 0 to 21470\n",
      "Data columns (total 12 columns):\n",
      "index               21471 non-null int64\n",
      "children            21471 non-null int64\n",
      "dob_years           21471 non-null int64\n",
      "education           21471 non-null object\n",
      "education_id        21471 non-null int64\n",
      "family_status       21471 non-null object\n",
      "family_status_id    21471 non-null int64\n",
      "gender              21471 non-null object\n",
      "income_type         21471 non-null object\n",
      "debt                21471 non-null int64\n",
      "total_income        21471 non-null int64\n",
      "purpose             21471 non-null object\n",
      "dtypes: int64(7), object(5)\n",
      "memory usage: 2.0+ MB\n"
     ]
    }
   ],
   "source": [
    "df.info()"
   ]
  },
  {
   "cell_type": "markdown",
   "metadata": {},
   "source": [
    "Как видим в датафрейме стало меньше на 54 строки"
   ]
  },
  {
   "cell_type": "markdown",
   "metadata": {},
   "source": [
    "### Вывод"
   ]
  },
  {
   "cell_type": "markdown",
   "metadata": {},
   "source": [
    "Важной частью анализа данных является выявление дублирующих значений и их удаление. Было выявлено 54 полных дубликата строк, а также две пары столбцов, дублировавших один признак разными типами значений. Строки было удалены из датафрейма, а столбцы оставлены.\n",
    "\n",
    "Удаление дублирующихся строк необходимо для увеличения качества данных в датафрейме. По сути только уникальные строки представляют интерес с т.з. количества уникальной информации. Также наличие дубликатом может значительно влиять на основные статистики выборки данных, что в свою очередь может привести к ошибочным выводам.\n",
    "\n",
    "Дублирование информации об одном признаке разными типами данных, например, строками и числами не искажает общие статистики, но в значительной степени увеличивает размер самого датафрейма. Удаление повториящихся столбцов для одного и того же признака является оптимизационной задачей. Например, строковые данные (в pandas тип `Object`) не имеют фиксированного размера выделяемой памяти, а значит занимают много места в памяти по сравнению с числовыми данными, например типа `int32`. Другая причина оставлять численные значения категориальных данных заключается в подготовки датафрейма для задач машинного обучения, в большинстве которых представление о категориальных данных является именно числовым."
   ]
  },
  {
   "cell_type": "markdown",
   "metadata": {},
   "source": [
    "### Лемматизация"
   ]
  },
  {
   "cell_type": "markdown",
   "metadata": {},
   "source": [
    "Для лемматизации используем библиотеку pymystem3. Для начала лемматизируем все слова в слобце `purpose`. Используем метод `lemmatize()`"
   ]
  },
  {
   "cell_type": "code",
   "execution_count": 37,
   "metadata": {},
   "outputs": [],
   "source": [
    "# Импортировать библиотеку\n",
    "from pymystem3 import Mystem\n",
    "\n",
    "# Создать лемматизатор\n",
    "m = Mystem()\n",
    "\n",
    "# Создать леммы\n",
    "lemmas = df['purpose'].apply(m.lemmatize).values"
   ]
  },
  {
   "cell_type": "markdown",
   "metadata": {},
   "source": [
    "Сохраним лемматизированные значения в новом столбце датафрейма `lemmas` для дальнейшей категоризации по целям выдачи кредита:"
   ]
  },
  {
   "cell_type": "code",
   "execution_count": 38,
   "metadata": {},
   "outputs": [],
   "source": [
    "df['lemmas'] = df['purpose'].apply(m.lemmatize)"
   ]
  },
  {
   "cell_type": "markdown",
   "metadata": {},
   "source": [
    "Соберем все лемматизированные слова вместе для очистки от знаков препинания и стоп слов. Поскольку знаков препинания в наших лемматизированных словах нет, удалим только символи пробела и перевода каретки. Символы пробела и символ перевода каретки удалим вручную:"
   ]
  },
  {
   "cell_type": "code",
   "execution_count": 39,
   "metadata": {},
   "outputs": [],
   "source": [
    "purposes = []\n",
    "for lemma in lemmas:\n",
    "    for string in lemma:\n",
    "        if string != ' ':\n",
    "            if string != '\\n':\n",
    "                purposes.append(string)\n",
    "        "
   ]
  },
  {
   "cell_type": "code",
   "execution_count": 40,
   "metadata": {},
   "outputs": [
    {
     "data": {
      "text/plain": [
       "55067"
      ]
     },
     "execution_count": 40,
     "metadata": {},
     "output_type": "execute_result"
    }
   ],
   "source": [
    "len(purposes)"
   ]
  },
  {
   "cell_type": "markdown",
   "metadata": {},
   "source": [
    "Всего получилось 55067 слова. Многие из них повторяются, также среди них встречаются частые обще употребимые слова, так называемые стоп слова. Удалим стоп слова из целей. Используем для этого комплект естественно-языковых инструментов NLTK (Natural Language Toolkit for Python)"
   ]
  },
  {
   "cell_type": "code",
   "execution_count": 41,
   "metadata": {},
   "outputs": [
    {
     "name": "stderr",
     "output_type": "stream",
     "text": [
      "[nltk_data] Downloading package stopwords to /home/jovyan/nltk_data...\n",
      "[nltk_data]   Package stopwords is already up-to-date!\n"
     ]
    }
   ],
   "source": [
    "# Загрузить библиотеки\n",
    "import nltk\n",
    "from nltk.corpus import stopwords\n",
    "\n",
    "# Сформировать набор стоп-слов\n",
    "nltk.download('stopwords')\n",
    "stop_words = stopwords.words('russian')\n",
    "\n",
    "# Добавим часто встречающееся слово \"свой\", которого нет с списке стоп слов библиотеки NLTK\n",
    "stop_words.append('свой')\n",
    "\n",
    "# Удалить стоп-слова\n",
    "clear_lemmas = [purpose for purpose in purposes if purpose not in stop_words]"
   ]
  },
  {
   "cell_type": "code",
   "execution_count": 42,
   "metadata": {},
   "outputs": [
    {
     "data": {
      "text/plain": [
       "45773"
      ]
     },
     "execution_count": 42,
     "metadata": {},
     "output_type": "execute_result"
    }
   ],
   "source": [
    "len(clear_lemmas)"
   ]
  },
  {
   "cell_type": "markdown",
   "metadata": {},
   "source": [
    "Список стал почти на 10000 слов короче. Примеры стоп слов:"
   ]
  },
  {
   "cell_type": "code",
   "execution_count": 43,
   "metadata": {},
   "outputs": [
    {
     "data": {
      "text/plain": [
       "['том',\n",
       " 'нельзя',\n",
       " 'такой',\n",
       " 'им',\n",
       " 'более',\n",
       " 'всегда',\n",
       " 'конечно',\n",
       " 'всю',\n",
       " 'между',\n",
       " 'свой']"
      ]
     },
     "execution_count": 43,
     "metadata": {},
     "output_type": "execute_result"
    }
   ],
   "source": [
    "stop_words[-10:]"
   ]
  },
  {
   "cell_type": "markdown",
   "metadata": {},
   "source": [
    "Создадим мешок слов по всем запросам для того, чтобы в дальнейшем категоризировать запросы по приоритетам. Для этого сохраним лемматизированные слова из столбца `purpose` в мультимножество `lemmas`:"
   ]
  },
  {
   "cell_type": "code",
   "execution_count": 44,
   "metadata": {},
   "outputs": [
    {
     "data": {
      "text/plain": [
       "[('недвижимость', 6353),\n",
       " ('покупка', 5900),\n",
       " ('жилье', 4461),\n",
       " ('автомобиль', 4308),\n",
       " ('образование', 4014),\n",
       " ('операция', 2604),\n",
       " ('свадьба', 2335),\n",
       " ('строительство', 1879),\n",
       " ('высокий', 1374),\n",
       " ('получение', 1315)]"
      ]
     },
     "execution_count": 44,
     "metadata": {},
     "output_type": "execute_result"
    }
   ],
   "source": [
    "# Загрузить библиотеку\n",
    "from collections import Counter \n",
    "\n",
    "# Создать мешок слов\n",
    "lemmas = Counter(clear_lemmas)\n",
    "\n",
    "# Посмотреть самые популярные слова\n",
    "lemmas.most_common(10)"
   ]
  },
  {
   "cell_type": "markdown",
   "metadata": {},
   "source": [
    "Посмотрим на количество уникальных слов в мешке слов:"
   ]
  },
  {
   "cell_type": "code",
   "execution_count": 45,
   "metadata": {},
   "outputs": [
    {
     "data": {
      "text/plain": [
       "25"
      ]
     },
     "execution_count": 45,
     "metadata": {},
     "output_type": "execute_result"
    }
   ],
   "source": [
    "len(list(lemmas))"
   ]
  },
  {
   "cell_type": "markdown",
   "metadata": {},
   "source": [
    "Всего уникальных слов оказалось 25 – это упрощает задачу категоризации по целям выдачи кредита. "
   ]
  },
  {
   "cell_type": "markdown",
   "metadata": {},
   "source": [
    "### Вывод"
   ]
  },
  {
   "cell_type": "markdown",
   "metadata": {},
   "source": [
    "1. Лемматизация собирает разные флективные формы слова в группу, чтобы они могли анализироваться как одинаковые. Такой подход позволяет выделить суть в тексте, используя минимум слов. В нашем случае из общего количества слов в столбце `purpose` равным 55067 было выделено 25 уникальных слов, на основе которых можно категоризировать заемщиков по цели кредита.\n",
    "2. Для достижения такого результата были использованы библиотеки: `pymystem3` и `nltk`. С помощью `pymystem3` были выделены леммы слов, а `nltk` помогла избавиться от стоп-слов. Символы перевода каретки и пробелы были удалены вручную.\n",
    "3. Результат лемматизации был записан в специальную структуру данных python мультимножество `Counter`, которое позволяет хранить не только уникальные значения, но и количество их упоминаний в тексте.\n",
    "4. А для каждой строки лемматизированные слова из столбца `purpose` были записаны в отдельный столбец `lemmas` для дальнейшей категоризации по целям кредита."
   ]
  },
  {
   "cell_type": "markdown",
   "metadata": {},
   "source": [
    "### Категоризация данных"
   ]
  },
  {
   "cell_type": "markdown",
   "metadata": {},
   "source": [
    "В анализе данных ***категоризацией*** называют задачу отнесения наблюдений к одной из групп, называемых категориями. К основным особенностям данной задачи можно отнести:\n",
    "\n",
    "* категория определяет лишь некоторые общие свойства объектов;\n",
    "* задача категоризации менее определенна, чем, например, задача классификации;\n",
    "* границы категорий, в отличие от классов, являются нечеткими, а сама категория определяется не формально, а сравнением с другими категориями.\n",
    "\n"
   ]
  },
  {
   "cell_type": "markdown",
   "metadata": {},
   "source": [
    "Рассчмотрим несколько вариантов категоризации данных:\n",
    "\n",
    "***по целям кредита:***\n",
    "\n",
    "* автокредит;\n",
    "* ипотека;\n",
    "* потребительский кредит;\n",
    "* кредит на образование;\n",
    "\n",
    "***по количеству детей:***\n",
    "\n",
    "* бездетных (`children == 0`);\n",
    "* с детьми (`1 <= children < 3`);\n",
    "* многодетных (`children >= 3`);\n",
    "\n",
    "***по возрасту:***\n",
    "\n",
    "* до 25 лет;\n",
    "* от 26 до 55 лет;\n",
    "* старше 56 лет;\n",
    "\n",
    "***по уровню дохода:***\n",
    "\n",
    "* доход до 70 000 ₽;\n",
    "* доход от 70 000 ₽ до 120 000 ₽;\n",
    "* доход от 120 000 ₽ до 200 000 ₽;\n",
    "* доход от 200 000 ₽ до 600 000 ₽;\n",
    "* доход свыше 600 000 ₽."
   ]
  },
  {
   "cell_type": "markdown",
   "metadata": {},
   "source": [
    "Такая категоризация поможет в дальнейшем выстроить простой алгоритм принятия решения о выдаче кредита, построенный на дереве решений."
   ]
  },
  {
   "cell_type": "markdown",
   "metadata": {},
   "source": [
    "##### Категоризация по целям кредита\n",
    "Прежде, чем присупить к категоризации посмотрим повнимательнее на все уникальные леммы для столбца `purpose`:"
   ]
  },
  {
   "cell_type": "code",
   "execution_count": 46,
   "metadata": {},
   "outputs": [
    {
     "data": {
      "text/plain": [
       "['покупка',\n",
       " 'жилье',\n",
       " 'приобретение',\n",
       " 'автомобиль',\n",
       " 'дополнительный',\n",
       " 'образование',\n",
       " 'сыграть',\n",
       " 'свадьба',\n",
       " 'операция',\n",
       " 'проведение',\n",
       " 'семья',\n",
       " 'недвижимость',\n",
       " 'коммерческий',\n",
       " 'жилой',\n",
       " 'строительство',\n",
       " 'собственный',\n",
       " 'подержать',\n",
       " 'заниматься',\n",
       " 'сделка',\n",
       " 'подержанный',\n",
       " 'получение',\n",
       " 'высокий',\n",
       " 'профильный',\n",
       " 'сдача',\n",
       " 'ремонт']"
      ]
     },
     "execution_count": 46,
     "metadata": {},
     "output_type": "execute_result"
    }
   ],
   "source": [
    "unique_lemmas = list(lemmas)\n",
    "unique_lemmas"
   ]
  },
  {
   "cell_type": "markdown",
   "metadata": {},
   "source": [
    "Можно заметить, что среди списка уникальных слов встречаются прилагательные, глаголы и существительные. Для категоризации значений столбца `purpose` по целям кредита достаточно будет оставить в списке только существительные, которые являются достаточными для определения категорий. А такие слова как `'дополнительный'`, `'покупка'`, `'приобретение'`, `'собственный'` и пр. можно исключить. Единственное исключения для целей категоризации, могут составить прилагательные `'коммерческий'` и `'жилой'` для целей приобретения недвижимости, т.к. свидетельстуют о принадлежности цели кредита к разным категориям. В данной задаче категоризировать подробно ипотеку на две подкатегории мы не будем, и сведем все запросы по ипотеке в одну категорию."
   ]
  },
  {
   "cell_type": "markdown",
   "metadata": {},
   "source": [
    "Удалим все слова не являющиеся существительными из списка `unique_lemmas`. Для используем для этого метод `analyze()` библиотки pymystem3."
   ]
  },
  {
   "cell_type": "code",
   "execution_count": 47,
   "metadata": {},
   "outputs": [
    {
     "data": {
      "text/plain": [
       "'покупка жилье приобретение автомобиль дополнительный образование сыграть свадьба операция проведение семья недвижимость коммерческий жилой строительство собственный подержать заниматься сделка подержанный получение высокий профильный сдача ремонт'"
      ]
     },
     "execution_count": 47,
     "metadata": {},
     "output_type": "execute_result"
    }
   ],
   "source": [
    "' '.join(lemmas)"
   ]
  },
  {
   "cell_type": "code",
   "execution_count": 48,
   "metadata": {},
   "outputs": [
    {
     "data": {
      "text/plain": [
       "[{'analysis': [{'lex': 'покупка', 'wt': 1, 'gr': 'S,жен,неод=им,ед'}],\n",
       "  'text': 'покупка'},\n",
       " {'text': ' '},\n",
       " {'analysis': [{'lex': 'жилье', 'wt': 1, 'gr': 'S,ед,сред,неод=(пр|вин|им)'}],\n",
       "  'text': 'жилье'}]"
      ]
     },
     "execution_count": 48,
     "metadata": {},
     "output_type": "execute_result"
    }
   ],
   "source": [
    "tagged_lemmas = m.analyze(' '.join(lemmas))\n",
    "\n",
    "# Показать первые три части речи\n",
    "tagged_lemmas[:3]"
   ]
  },
  {
   "cell_type": "markdown",
   "metadata": {},
   "source": [
    "Создадим функцию, которая оставляет в списке уникальных лемм только существительные:"
   ]
  },
  {
   "cell_type": "code",
   "execution_count": 49,
   "metadata": {},
   "outputs": [],
   "source": [
    "def save_nouns(list_):\n",
    "    \"\"\"\n",
    "    Функция возвращает новый список, который содержит только имена существительные\n",
    "    \"\"\"\n",
    "    result_list = []\n",
    "    \n",
    "    for i in range(0, len(list_), 2):\n",
    "        if list_[i]['analysis'][0]['gr'][0] == 'S':\n",
    "            result_list.append(list_[i]['text'])\n",
    "            \n",
    "    return result_list"
   ]
  },
  {
   "cell_type": "code",
   "execution_count": 50,
   "metadata": {},
   "outputs": [
    {
     "data": {
      "text/plain": [
       "['покупка',\n",
       " 'жилье',\n",
       " 'приобретение',\n",
       " 'автомобиль',\n",
       " 'образование',\n",
       " 'свадьба',\n",
       " 'операция',\n",
       " 'проведение',\n",
       " 'семья',\n",
       " 'недвижимость',\n",
       " 'строительство',\n",
       " 'сделка',\n",
       " 'получение',\n",
       " 'сдача',\n",
       " 'ремонт']"
      ]
     },
     "execution_count": 50,
     "metadata": {},
     "output_type": "execute_result"
    }
   ],
   "source": [
    "noun_lemmas = save_nouns(tagged_lemmas)\n",
    "noun_lemmas"
   ]
  },
  {
   "cell_type": "markdown",
   "metadata": {},
   "source": [
    "Как видим, в списке остались только существительные. При этом среди них досих пор есть существительные, которые не несут сысмла для задачи категоризации по типу выдаваемого кредита, а именно: `'покупка'`, `'приобретение'`, `'проведение'`,  `'сделка'`, `'получение'`, `'сдача'`. Удалим их вручную:"
   ]
  },
  {
   "cell_type": "code",
   "execution_count": 51,
   "metadata": {},
   "outputs": [
    {
     "data": {
      "text/plain": [
       "['жилье',\n",
       " 'автомобиль',\n",
       " 'образование',\n",
       " 'свадьба',\n",
       " 'операция',\n",
       " 'семья',\n",
       " 'недвижимость',\n",
       " 'строительство',\n",
       " 'ремонт']"
      ]
     },
     "execution_count": 51,
     "metadata": {},
     "output_type": "execute_result"
    }
   ],
   "source": [
    "del_strings = ['покупка', 'приобретение', 'проведение',  'сделка', 'получение', 'сдача']\n",
    "noun_lemmas[:] = [string for string in noun_lemmas if string not in del_strings]\n",
    "noun_lemmas"
   ]
  },
  {
   "cell_type": "markdown",
   "metadata": {},
   "source": [
    "Предварительная работа по выделению смысла в леммах сделана, теперь создадим фукцию, которая будет возвращать одну их категорий на основании лемматизированных целей:"
   ]
  },
  {
   "cell_type": "code",
   "execution_count": 52,
   "metadata": {},
   "outputs": [],
   "source": [
    "def caterorize_purpose(list_):\n",
    "    \"\"\"\n",
    "    Функция категоризирует кредиты по целям и возвращает имя категории кредита\n",
    "    в зависимости от ключевых слов в запросе.\n",
    "    \n",
    "    Выделим 4 основные категории кредита:\n",
    "    1) ипотека;\n",
    "    2) автокредит;\n",
    "    3) кредит на образование;\n",
    "    4) потребительский кредит.\n",
    "    \n",
    "    В категорию потребительский кредит будем относить всё то,\n",
    "    что однозначно не попадет в первые три категории.\n",
    "    \n",
    "    \"\"\"\n",
    "    for string in list_:\n",
    "        if 'жилье' in list_ or 'недвижимость' in list_ or 'строительство' in list_:\n",
    "            return 'ипотека'\n",
    "        elif 'автомобиль' in list_:\n",
    "            return 'автокредит'\n",
    "        elif 'образование' in list_:\n",
    "            return 'кредит на образование'\n",
    "        else:\n",
    "            return 'потребительский кредит'"
   ]
  },
  {
   "cell_type": "markdown",
   "metadata": {},
   "source": [
    "Категоризируем данные по целям кредита и создадим столбец с категорией тип кредита с именем `credit_type`:"
   ]
  },
  {
   "cell_type": "code",
   "execution_count": 53,
   "metadata": {},
   "outputs": [],
   "source": [
    "df['credit_type'] = df['lemmas'].apply(caterorize_purpose)"
   ]
  },
  {
   "cell_type": "markdown",
   "metadata": {},
   "source": [
    "После категоризации по типу кредита столбцы `purpose` и `lemmas` можно удалить из датафрейма, так как они больше не несут полезной информации:"
   ]
  },
  {
   "cell_type": "code",
   "execution_count": 54,
   "metadata": {},
   "outputs": [],
   "source": [
    "df.drop(['purpose', 'lemmas'], axis='columns', inplace=True)"
   ]
  },
  {
   "cell_type": "markdown",
   "metadata": {},
   "source": [
    "Посмотрим по каким кредитам был больший процент задолженностей:"
   ]
  },
  {
   "cell_type": "code",
   "execution_count": 55,
   "metadata": {},
   "outputs": [
    {
     "data": {
      "text/plain": [
       "credit_type\n",
       "ипотека                   782\n",
       "автокредит                403\n",
       "кредит на образование     370\n",
       "потребительский кредит    186\n",
       "Name: debt, dtype: int64"
      ]
     },
     "execution_count": 55,
     "metadata": {},
     "output_type": "execute_result"
    }
   ],
   "source": [
    "df.groupby(by='credit_type')['debt'].sum().sort_values(ascending=False)"
   ]
  },
  {
   "cell_type": "markdown",
   "metadata": {},
   "source": [
    "Больше всего задолженностей было по ипотеке. Посмотрим на это в разрезе общего количества кредитов, выданных по данной категории:"
   ]
  },
  {
   "cell_type": "code",
   "execution_count": 56,
   "metadata": {},
   "outputs": [
    {
     "data": {
      "text/plain": [
       "credit_type\n",
       "ипотека                   10814\n",
       "автокредит                 4308\n",
       "кредит на образование      4014\n",
       "потребительский кредит     2335\n",
       "Name: credit_type, dtype: int64"
      ]
     },
     "execution_count": 56,
     "metadata": {},
     "output_type": "execute_result"
    }
   ],
   "source": [
    "df.groupby(by='credit_type')['credit_type'].count().sort_values(ascending=False)"
   ]
  },
  {
   "cell_type": "code",
   "execution_count": 57,
   "metadata": {},
   "outputs": [
    {
     "data": {
      "text/html": [
       "<div>\n",
       "<style scoped>\n",
       "    .dataframe tbody tr th:only-of-type {\n",
       "        vertical-align: middle;\n",
       "    }\n",
       "\n",
       "    .dataframe tbody tr th {\n",
       "        vertical-align: top;\n",
       "    }\n",
       "\n",
       "    .dataframe thead th {\n",
       "        text-align: right;\n",
       "    }\n",
       "</style>\n",
       "<table border=\"1\" class=\"dataframe\">\n",
       "  <thead>\n",
       "    <tr style=\"text-align: right;\">\n",
       "      <th>credit_type</th>\n",
       "      <th>автокредит</th>\n",
       "      <th>ипотека</th>\n",
       "      <th>кредит на образование</th>\n",
       "      <th>потребительский кредит</th>\n",
       "    </tr>\n",
       "  </thead>\n",
       "  <tbody>\n",
       "    <tr>\n",
       "      <td>debt</td>\n",
       "      <td>0.093547</td>\n",
       "      <td>0.072314</td>\n",
       "      <td>0.092177</td>\n",
       "      <td>0.079657</td>\n",
       "    </tr>\n",
       "  </tbody>\n",
       "</table>\n",
       "</div>"
      ],
      "text/plain": [
       "credit_type  автокредит   ипотека  кредит на образование  \\\n",
       "debt           0.093547  0.072314               0.092177   \n",
       "\n",
       "credit_type  потребительский кредит  \n",
       "debt                       0.079657  "
      ]
     },
     "execution_count": 57,
     "metadata": {},
     "output_type": "execute_result"
    }
   ],
   "source": [
    "debt_by_credit_type = pd.pivot_table(data=df, columns='credit_type', values='debt')\n",
    "debt_by_credit_type"
   ]
  },
  {
   "cell_type": "markdown",
   "metadata": {},
   "source": [
    "Теперь картина изменилась, в относительных значениях больше всего долгов по автокредитам и кредитам на образование, а ипотека оказалась на последнем месте по задолженностям."
   ]
  },
  {
   "cell_type": "markdown",
   "metadata": {},
   "source": [
    "Тот же результат можно получить разделив один объект `Series` на другой, недостаток такого подхода проявится тогда, когда порядок столбцов будет отличаться. В нашем случае порядок в обоих случаях идентичный."
   ]
  },
  {
   "cell_type": "code",
   "execution_count": 58,
   "metadata": {},
   "outputs": [
    {
     "data": {
      "text/plain": [
       "credit_type\n",
       "ипотека                   0.072314\n",
       "автокредит                0.093547\n",
       "кредит на образование     0.092177\n",
       "потребительский кредит    0.079657\n",
       "dtype: float64"
      ]
     },
     "execution_count": 58,
     "metadata": {},
     "output_type": "execute_result"
    }
   ],
   "source": [
    "debts = df.groupby(by='credit_type')['debt'].sum().sort_values(ascending=False)\n",
    "total = df.groupby(by='credit_type')['credit_type'].count().sort_values(ascending=False)\n",
    "debts/total"
   ]
  },
  {
   "cell_type": "markdown",
   "metadata": {},
   "source": [
    "##### Категоризация по количеству детей"
   ]
  },
  {
   "cell_type": "markdown",
   "metadata": {},
   "source": [
    "Посмотрим еще раз на значения в столбце `children`:"
   ]
  },
  {
   "cell_type": "code",
   "execution_count": 59,
   "metadata": {},
   "outputs": [
    {
     "data": {
      "text/plain": [
       "count    21471.000000\n",
       "mean         0.539565\n",
       "std          1.382978\n",
       "min         -1.000000\n",
       "25%          0.000000\n",
       "50%          0.000000\n",
       "75%          1.000000\n",
       "max         20.000000\n",
       "Name: children, dtype: float64"
      ]
     },
     "execution_count": 59,
     "metadata": {},
     "output_type": "execute_result"
    }
   ],
   "source": [
    "df['children'].describe()"
   ]
  },
  {
   "cell_type": "markdown",
   "metadata": {},
   "source": [
    "Среди значений присутстует шум:\n",
    "* ошибочное значение равное `-1`;\n",
    "* выброс равный `20`.\n",
    "\n",
    "Посмотрим много ли таких зашумленных значений. Для начала посмотрим сколько значений в столбце `children` меньше 0:"
   ]
  },
  {
   "cell_type": "code",
   "execution_count": 60,
   "metadata": {},
   "outputs": [
    {
     "data": {
      "text/plain": [
       "47"
      ]
     },
     "execution_count": 60,
     "metadata": {},
     "output_type": "execute_result"
    }
   ],
   "source": [
    "df[df['children'] < 0]['children'].count()"
   ]
  },
  {
   "cell_type": "markdown",
   "metadata": {},
   "source": [
    "Оказывается, что целых 47 записей имеет отрицательные значения. Теперь посмотрим, сколько значений привышает условный норматив. Примем его равным 5. Семьи с пятью детьми всё же встречаются, хотя и являются редкостью."
   ]
  },
  {
   "cell_type": "code",
   "execution_count": 61,
   "metadata": {},
   "outputs": [
    {
     "data": {
      "text/plain": [
       "76"
      ]
     },
     "execution_count": 61,
     "metadata": {},
     "output_type": "execute_result"
    }
   ],
   "source": [
    "df[df['children'] > 5]['children'].count()"
   ]
  },
  {
   "cell_type": "markdown",
   "metadata": {},
   "source": [
    "Таких записей оказалось 76. Посмотрим на их основные статистики:"
   ]
  },
  {
   "cell_type": "code",
   "execution_count": 62,
   "metadata": {},
   "outputs": [
    {
     "data": {
      "text/plain": [
       "count    76.0\n",
       "mean     20.0\n",
       "std       0.0\n",
       "min      20.0\n",
       "25%      20.0\n",
       "50%      20.0\n",
       "75%      20.0\n",
       "max      20.0\n",
       "Name: children, dtype: float64"
      ]
     },
     "execution_count": 62,
     "metadata": {},
     "output_type": "execute_result"
    }
   ],
   "source": [
    "df[df['children'] > 5]['children'].describe()"
   ]
  },
  {
   "cell_type": "markdown",
   "metadata": {},
   "source": [
    "Посмотрим какие вообще значения присутствуют в столбце `children` и их долю:"
   ]
  },
  {
   "cell_type": "code",
   "execution_count": 63,
   "metadata": {},
   "outputs": [
    {
     "data": {
      "text/plain": [
       " 0     0.657026\n",
       " 1     0.223977\n",
       " 2     0.095571\n",
       " 3     0.015370\n",
       " 20    0.003540\n",
       "-1     0.002189\n",
       " 4     0.001910\n",
       " 5     0.000419\n",
       "Name: children, dtype: float64"
      ]
     },
     "execution_count": 63,
     "metadata": {},
     "output_type": "execute_result"
    }
   ],
   "source": [
    "df['children'].value_counts(normalize=True)"
   ]
  },
  {
   "cell_type": "markdown",
   "metadata": {},
   "source": [
    "Как видно это возращаемого результат функции `describe()` в выборке нет записей о количестве детей 6, 7 и др., кроме 20. Это может означать, что эти данные не являются выбросами, а скорее являются ошибками ввода. \n",
    "\n",
    "Можно сделать предположение, что значения `-1` и `20` это ошибки ввода или чтения файла с данными, где вместо `-1` должно быть `1`, а вместо `20` – `2`. И поскольку количество этих данных мало и составляет для `-1`: 2.2%, а для `20`:3,5% – их можно удалить из датафрейма, а не заменять значения, как было предположено выше, чтобы избежать ошибок.\n",
    "\n",
    "Для подтверждения посмотрим какие кредиты брали клиенты из этого зашумленного подмножества данных и сравним его с общей картиной:"
   ]
  },
  {
   "cell_type": "code",
   "execution_count": 64,
   "metadata": {},
   "outputs": [
    {
     "data": {
      "text/html": [
       "<div>\n",
       "<style scoped>\n",
       "    .dataframe tbody tr th:only-of-type {\n",
       "        vertical-align: middle;\n",
       "    }\n",
       "\n",
       "    .dataframe tbody tr th {\n",
       "        vertical-align: top;\n",
       "    }\n",
       "\n",
       "    .dataframe thead th {\n",
       "        text-align: right;\n",
       "    }\n",
       "</style>\n",
       "<table border=\"1\" class=\"dataframe\">\n",
       "  <thead>\n",
       "    <tr style=\"text-align: right;\">\n",
       "      <th>credit_type</th>\n",
       "      <th>автокредит</th>\n",
       "      <th>ипотека</th>\n",
       "      <th>кредит на образование</th>\n",
       "      <th>потребительский кредит</th>\n",
       "    </tr>\n",
       "  </thead>\n",
       "  <tbody>\n",
       "    <tr>\n",
       "      <td>debt</td>\n",
       "      <td>0.090909</td>\n",
       "      <td>0.0</td>\n",
       "      <td>0.0</td>\n",
       "      <td>0.0</td>\n",
       "    </tr>\n",
       "  </tbody>\n",
       "</table>\n",
       "</div>"
      ],
      "text/plain": [
       "credit_type  автокредит  ипотека  кредит на образование  \\\n",
       "debt           0.090909      0.0                    0.0   \n",
       "\n",
       "credit_type  потребительский кредит  \n",
       "debt                            0.0  "
      ]
     },
     "execution_count": 64,
     "metadata": {},
     "output_type": "execute_result"
    }
   ],
   "source": [
    "pd.pivot_table(data=df[df['children'] == -1], columns='credit_type', values='debt')"
   ]
  },
  {
   "cell_type": "code",
   "execution_count": 65,
   "metadata": {},
   "outputs": [
    {
     "data": {
      "text/html": [
       "<div>\n",
       "<style scoped>\n",
       "    .dataframe tbody tr th:only-of-type {\n",
       "        vertical-align: middle;\n",
       "    }\n",
       "\n",
       "    .dataframe tbody tr th {\n",
       "        vertical-align: top;\n",
       "    }\n",
       "\n",
       "    .dataframe thead th {\n",
       "        text-align: right;\n",
       "    }\n",
       "</style>\n",
       "<table border=\"1\" class=\"dataframe\">\n",
       "  <thead>\n",
       "    <tr style=\"text-align: right;\">\n",
       "      <th>credit_type</th>\n",
       "      <th>автокредит</th>\n",
       "      <th>ипотека</th>\n",
       "      <th>кредит на образование</th>\n",
       "      <th>потребительский кредит</th>\n",
       "    </tr>\n",
       "  </thead>\n",
       "  <tbody>\n",
       "    <tr>\n",
       "      <td>debt</td>\n",
       "      <td>0.125</td>\n",
       "      <td>0.055556</td>\n",
       "      <td>0.066667</td>\n",
       "      <td>0.333333</td>\n",
       "    </tr>\n",
       "  </tbody>\n",
       "</table>\n",
       "</div>"
      ],
      "text/plain": [
       "credit_type  автокредит   ипотека  кредит на образование  \\\n",
       "debt              0.125  0.055556               0.066667   \n",
       "\n",
       "credit_type  потребительский кредит  \n",
       "debt                       0.333333  "
      ]
     },
     "execution_count": 65,
     "metadata": {},
     "output_type": "execute_result"
    }
   ],
   "source": [
    "pd.pivot_table(data=df[df['children'] == 20], columns='credit_type', values='debt')"
   ]
  },
  {
   "cell_type": "markdown",
   "metadata": {},
   "source": [
    "Как видно распределение данных по возратам кредита для групы клиентов, у которых `-1` или `20` детей отличется от общего, сравним эти значения с категориями клиентов с одним и двумя детьми:"
   ]
  },
  {
   "cell_type": "code",
   "execution_count": 66,
   "metadata": {},
   "outputs": [
    {
     "data": {
      "text/html": [
       "<div>\n",
       "<style scoped>\n",
       "    .dataframe tbody tr th:only-of-type {\n",
       "        vertical-align: middle;\n",
       "    }\n",
       "\n",
       "    .dataframe tbody tr th {\n",
       "        vertical-align: top;\n",
       "    }\n",
       "\n",
       "    .dataframe thead th {\n",
       "        text-align: right;\n",
       "    }\n",
       "</style>\n",
       "<table border=\"1\" class=\"dataframe\">\n",
       "  <thead>\n",
       "    <tr style=\"text-align: right;\">\n",
       "      <th>credit_type</th>\n",
       "      <th>автокредит</th>\n",
       "      <th>ипотека</th>\n",
       "      <th>кредит на образование</th>\n",
       "      <th>потребительский кредит</th>\n",
       "    </tr>\n",
       "  </thead>\n",
       "  <tbody>\n",
       "    <tr>\n",
       "      <td>debt</td>\n",
       "      <td>0.106957</td>\n",
       "      <td>0.081733</td>\n",
       "      <td>0.103926</td>\n",
       "      <td>0.095685</td>\n",
       "    </tr>\n",
       "  </tbody>\n",
       "</table>\n",
       "</div>"
      ],
      "text/plain": [
       "credit_type  автокредит   ипотека  кредит на образование  \\\n",
       "debt           0.106957  0.081733               0.103926   \n",
       "\n",
       "credit_type  потребительский кредит  \n",
       "debt                       0.095685  "
      ]
     },
     "execution_count": 66,
     "metadata": {},
     "output_type": "execute_result"
    }
   ],
   "source": [
    "pd.pivot_table(data=df[df['children'] == 1], columns='credit_type', values='debt')"
   ]
  },
  {
   "cell_type": "code",
   "execution_count": 67,
   "metadata": {},
   "outputs": [
    {
     "data": {
      "text/html": [
       "<div>\n",
       "<style scoped>\n",
       "    .dataframe tbody tr th:only-of-type {\n",
       "        vertical-align: middle;\n",
       "    }\n",
       "\n",
       "    .dataframe tbody tr th {\n",
       "        vertical-align: top;\n",
       "    }\n",
       "\n",
       "    .dataframe thead th {\n",
       "        text-align: right;\n",
       "    }\n",
       "</style>\n",
       "<table border=\"1\" class=\"dataframe\">\n",
       "  <thead>\n",
       "    <tr style=\"text-align: right;\">\n",
       "      <th>credit_type</th>\n",
       "      <th>автокредит</th>\n",
       "      <th>ипотека</th>\n",
       "      <th>кредит на образование</th>\n",
       "      <th>потребительский кредит</th>\n",
       "    </tr>\n",
       "  </thead>\n",
       "  <tbody>\n",
       "    <tr>\n",
       "      <td>debt</td>\n",
       "      <td>0.120301</td>\n",
       "      <td>0.085024</td>\n",
       "      <td>0.114144</td>\n",
       "      <td>0.055814</td>\n",
       "    </tr>\n",
       "  </tbody>\n",
       "</table>\n",
       "</div>"
      ],
      "text/plain": [
       "credit_type  автокредит   ипотека  кредит на образование  \\\n",
       "debt           0.120301  0.085024               0.114144   \n",
       "\n",
       "credit_type  потребительский кредит  \n",
       "debt                       0.055814  "
      ]
     },
     "execution_count": 67,
     "metadata": {},
     "output_type": "execute_result"
    }
   ],
   "source": [
    "pd.pivot_table(data=df[df['children'] == 2], columns='credit_type', values='debt')"
   ]
  },
  {
   "cell_type": "markdown",
   "metadata": {},
   "source": [
    "Видим, что распределение для `-1` и `1` некоррелируется, распределение выглядит совершенно по-разному, а для `20` и `2` – наоборот выдглядит похоже. Поэтому значения в столбце `children` равные `-1`  – удалим, а значения равные `20` – заменим на `2`.\n",
    "\n",
    "Удаляем строки со значением в столбце `children` равным `1`:"
   ]
  },
  {
   "cell_type": "code",
   "execution_count": 68,
   "metadata": {},
   "outputs": [],
   "source": [
    "df = df[df['children'] >= 0]"
   ]
  },
  {
   "cell_type": "markdown",
   "metadata": {},
   "source": [
    "Заменяем значения в строках созначение в столбце `children` равным `20` на `2`:"
   ]
  },
  {
   "cell_type": "code",
   "execution_count": 69,
   "metadata": {},
   "outputs": [],
   "source": [
    "df['children'].replace(20, 2, inplace=True)"
   ]
  },
  {
   "cell_type": "markdown",
   "metadata": {},
   "source": [
    "Проверим результаты наших действий:"
   ]
  },
  {
   "cell_type": "code",
   "execution_count": 70,
   "metadata": {},
   "outputs": [
    {
     "data": {
      "text/plain": [
       "count    21424.000000\n",
       "mean         0.479089\n",
       "std          0.756328\n",
       "min          0.000000\n",
       "25%          0.000000\n",
       "50%          0.000000\n",
       "75%          1.000000\n",
       "max          5.000000\n",
       "Name: children, dtype: float64"
      ]
     },
     "execution_count": 70,
     "metadata": {},
     "output_type": "execute_result"
    }
   ],
   "source": [
    "df['children'].describe()"
   ]
  },
  {
   "cell_type": "markdown",
   "metadata": {},
   "source": [
    "Как видно теперь значения в столбце `children` очищены от ошибок."
   ]
  },
  {
   "cell_type": "markdown",
   "metadata": {},
   "source": [
    "Присупим к формированию категорийного признака по количеству детей. Разделим наш датасет на следующие группы:\n",
    "* бездетные (`children == 0`);\n",
    "* с детьми (`1 <= children < 3`);\n",
    "* многодетные (`children >= 3`)."
   ]
  },
  {
   "cell_type": "markdown",
   "metadata": {},
   "source": [
    "Создадим функцию, которая будет возвращать тип категории на основании количества детей:"
   ]
  },
  {
   "cell_type": "code",
   "execution_count": 71,
   "metadata": {},
   "outputs": [],
   "source": [
    "def caterorize_children(children_count):\n",
    "    \"\"\"\n",
    "    Функция категоризирует количество детей у клиентов по 3 основным категориям:\n",
    "    1) бездетные, когда количество детей равно 0 -> возращает 0;\n",
    "    2) с детьми, когда количество детей 1 или 2 -> возвращает 1;\n",
    "    3) многодетный, когда количество детей больше 3 -> возвращает 2.    \n",
    "    \"\"\"\n",
    "    if children_count == 0:\n",
    "        return 0\n",
    "    elif 1 <= children_count < 3:\n",
    "        return 1\n",
    "    else:\n",
    "        return 2"
   ]
  },
  {
   "cell_type": "markdown",
   "metadata": {},
   "source": [
    "Следует отметить, что такая категоризация подходит как для семейных клиентов, так и для клиентов, которые не имеют семьи."
   ]
  },
  {
   "cell_type": "markdown",
   "metadata": {},
   "source": [
    "Категоризируем данные по количеству и создадим столбец с категорией уровня многодетности с именем `children_type`:"
   ]
  },
  {
   "cell_type": "code",
   "execution_count": 72,
   "metadata": {},
   "outputs": [],
   "source": [
    "df['children_type'] = df['children'].apply(caterorize_children)"
   ]
  },
  {
   "cell_type": "markdown",
   "metadata": {},
   "source": [
    "##### Категоризация по опыту работы"
   ]
  },
  {
   "cell_type": "markdown",
   "metadata": {},
   "source": [
    "Аналогично категоризируем клиентов банка по их возрасту. Посмотрим на значения в столбце `dob_years`:"
   ]
  },
  {
   "cell_type": "code",
   "execution_count": 73,
   "metadata": {},
   "outputs": [
    {
     "data": {
      "text/plain": [
       "count    21424.000000\n",
       "mean        43.280620\n",
       "std         12.577028\n",
       "min          0.000000\n",
       "25%         33.000000\n",
       "50%         42.000000\n",
       "75%         53.000000\n",
       "max         75.000000\n",
       "Name: dob_years, dtype: float64"
      ]
     },
     "execution_count": 73,
     "metadata": {},
     "output_type": "execute_result"
    }
   ],
   "source": [
    "df['dob_years'].describe()"
   ]
  },
  {
   "cell_type": "markdown",
   "metadata": {},
   "source": [
    "Клиентов с орицательным возрастом нет, но есть с нулевым, посмотрим сколько их:"
   ]
  },
  {
   "cell_type": "code",
   "execution_count": 74,
   "metadata": {},
   "outputs": [
    {
     "data": {
      "text/plain": [
       "101"
      ]
     },
     "execution_count": 74,
     "metadata": {},
     "output_type": "execute_result"
    }
   ],
   "source": [
    "df[df['dob_years'] == 0]['dob_years'].count()"
   ]
  },
  {
   "cell_type": "markdown",
   "metadata": {},
   "source": [
    "У 101 клиента возраст равен нулю. Это может быть ошибкой ввода или записи данных. Посмотрим на распределение этих клиентов по количеству долгов:"
   ]
  },
  {
   "cell_type": "markdown",
   "metadata": {},
   "source": [
    "Сколько всего уникальных значений возраста есть в датафрейме:"
   ]
  },
  {
   "cell_type": "code",
   "execution_count": 75,
   "metadata": {},
   "outputs": [
    {
     "data": {
      "text/plain": [
       "58"
      ]
     },
     "execution_count": 75,
     "metadata": {},
     "output_type": "execute_result"
    }
   ],
   "source": [
    "len(df['dob_years'].unique())"
   ]
  },
  {
   "cell_type": "markdown",
   "metadata": {},
   "source": [
    "Посмотрим на них:"
   ]
  },
  {
   "cell_type": "code",
   "execution_count": 76,
   "metadata": {},
   "outputs": [
    {
     "data": {
      "text/plain": [
       "35    0.028706\n",
       "40    0.028239\n",
       "41    0.028193\n",
       "34    0.027913\n",
       "38    0.027773\n",
       "42    0.027726\n",
       "33    0.027026\n",
       "39    0.026699\n",
       "31    0.025999\n",
       "36    0.025859\n",
       "29    0.025392\n",
       "44    0.025345\n",
       "30    0.025065\n",
       "48    0.025019\n",
       "37    0.024925\n",
       "43    0.023852\n",
       "50    0.023852\n",
       "49    0.023712\n",
       "32    0.023665\n",
       "28    0.023385\n",
       "45    0.023198\n",
       "27    0.022965\n",
       "56    0.022591\n",
       "52    0.022591\n",
       "47    0.022265\n",
       "54    0.022125\n",
       "46    0.021938\n",
       "53    0.021378\n",
       "58    0.021285\n",
       "57    0.021191\n",
       "51    0.020864\n",
       "55    0.020631\n",
       "59    0.020631\n",
       "26    0.018997\n",
       "60    0.017457\n",
       "25    0.016664\n",
       "61    0.016477\n",
       "62    0.016290\n",
       "63    0.012509\n",
       "24    0.012323\n",
       "64    0.012183\n",
       "23    0.011763\n",
       "65    0.009055\n",
       "22    0.008542\n",
       "66    0.008495\n",
       "67    0.007795\n",
       "21    0.005181\n",
       "0     0.004714\n",
       "68    0.004621\n",
       "69    0.003921\n",
       "70    0.003034\n",
       "71    0.002707\n",
       "20    0.002381\n",
       "72    0.001540\n",
       "19    0.000653\n",
       "73    0.000373\n",
       "74    0.000280\n",
       "75    0.000047\n",
       "Name: dob_years, dtype: float64"
      ]
     },
     "execution_count": 76,
     "metadata": {},
     "output_type": "execute_result"
    }
   ],
   "source": [
    "df['dob_years'].value_counts(normalize=True, ascending=False)"
   ]
  },
  {
   "cell_type": "markdown",
   "metadata": {},
   "source": [
    "Посмотрим как распределены значения по наличи долгов у возрастной группы равной 0 лет:"
   ]
  },
  {
   "cell_type": "code",
   "execution_count": 77,
   "metadata": {},
   "outputs": [
    {
     "data": {
      "text/html": [
       "<div>\n",
       "<style scoped>\n",
       "    .dataframe tbody tr th:only-of-type {\n",
       "        vertical-align: middle;\n",
       "    }\n",
       "\n",
       "    .dataframe tbody tr th {\n",
       "        vertical-align: top;\n",
       "    }\n",
       "\n",
       "    .dataframe thead th {\n",
       "        text-align: right;\n",
       "    }\n",
       "</style>\n",
       "<table border=\"1\" class=\"dataframe\">\n",
       "  <thead>\n",
       "    <tr style=\"text-align: right;\">\n",
       "      <th>credit_type</th>\n",
       "      <th>автокредит</th>\n",
       "      <th>ипотека</th>\n",
       "      <th>кредит на образование</th>\n",
       "      <th>потребительский кредит</th>\n",
       "    </tr>\n",
       "  </thead>\n",
       "  <tbody>\n",
       "    <tr>\n",
       "      <td>debt</td>\n",
       "      <td>0.136364</td>\n",
       "      <td>0.06383</td>\n",
       "      <td>0.0</td>\n",
       "      <td>0.142857</td>\n",
       "    </tr>\n",
       "  </tbody>\n",
       "</table>\n",
       "</div>"
      ],
      "text/plain": [
       "credit_type  автокредит  ипотека  кредит на образование  \\\n",
       "debt           0.136364  0.06383                    0.0   \n",
       "\n",
       "credit_type  потребительский кредит  \n",
       "debt                       0.142857  "
      ]
     },
     "execution_count": 77,
     "metadata": {},
     "output_type": "execute_result"
    }
   ],
   "source": [
    "pd.pivot_table(data=df[df['dob_years'] == 0], columns='credit_type', values='debt')"
   ]
  },
  {
   "cell_type": "markdown",
   "metadata": {},
   "source": [
    "Сравним с общим распределение по всем возрастам:"
   ]
  },
  {
   "cell_type": "code",
   "execution_count": 78,
   "metadata": {},
   "outputs": [
    {
     "data": {
      "text/html": [
       "<div>\n",
       "<style scoped>\n",
       "    .dataframe tbody tr th:only-of-type {\n",
       "        vertical-align: middle;\n",
       "    }\n",
       "\n",
       "    .dataframe tbody tr th {\n",
       "        vertical-align: top;\n",
       "    }\n",
       "\n",
       "    .dataframe thead th {\n",
       "        text-align: right;\n",
       "    }\n",
       "</style>\n",
       "<table border=\"1\" class=\"dataframe\">\n",
       "  <thead>\n",
       "    <tr style=\"text-align: right;\">\n",
       "      <th>credit_type</th>\n",
       "      <th>автокредит</th>\n",
       "      <th>ипотека</th>\n",
       "      <th>кредит на образование</th>\n",
       "      <th>потребительский кредит</th>\n",
       "    </tr>\n",
       "  </thead>\n",
       "  <tbody>\n",
       "    <tr>\n",
       "      <td>debt</td>\n",
       "      <td>0.093554</td>\n",
       "      <td>0.072475</td>\n",
       "      <td>0.092408</td>\n",
       "      <td>0.079726</td>\n",
       "    </tr>\n",
       "  </tbody>\n",
       "</table>\n",
       "</div>"
      ],
      "text/plain": [
       "credit_type  автокредит   ипотека  кредит на образование  \\\n",
       "debt           0.093554  0.072475               0.092408   \n",
       "\n",
       "credit_type  потребительский кредит  \n",
       "debt                       0.079726  "
      ]
     },
     "execution_count": 78,
     "metadata": {},
     "output_type": "execute_result"
    }
   ],
   "source": [
    "pd.pivot_table(data=df[df['dob_years'] >= 0], columns='credit_type', values='debt')"
   ]
  },
  {
   "cell_type": "markdown",
   "metadata": {},
   "source": [
    "Распределение не соответствует общему, из этого можно с делать вывод, что данные зануленны в случайном порядке. Посмотрим какое значение идет за нулевым:"
   ]
  },
  {
   "cell_type": "code",
   "execution_count": 79,
   "metadata": {},
   "outputs": [
    {
     "data": {
      "text/plain": [
       "19"
      ]
     },
     "execution_count": 79,
     "metadata": {},
     "output_type": "execute_result"
    }
   ],
   "source": [
    "sorted(df['dob_years'].unique())[1]"
   ]
  },
  {
   "cell_type": "markdown",
   "metadata": {},
   "source": [
    "За нулевым значение идет значение `19`. Можно предположить, что возраст клиентов находится в интервале от 18 до 75 лет. Для замены нулевых значений предлагается их рассматривать как нулевые типа `np.nan` и полученные пропуски заполнить средними значениями:"
   ]
  },
  {
   "cell_type": "code",
   "execution_count": 80,
   "metadata": {},
   "outputs": [],
   "source": [
    "# Сохранить среднее значение возраста в переменную mean_sob_years\n",
    "mean_dob_years = df['dob_years'].mean()\n",
    "\n",
    "# Заменим нулевые значения на средние\n",
    "df['dob_years'].replace(0, mean_dob_years, inplace=True)"
   ]
  },
  {
   "cell_type": "code",
   "execution_count": 81,
   "metadata": {},
   "outputs": [
    {
     "data": {
      "text/plain": [
       "count    21424.000000\n",
       "mean        43.484659\n",
       "std         12.219191\n",
       "min         19.000000\n",
       "25%         33.750000\n",
       "50%         43.000000\n",
       "75%         53.000000\n",
       "max         75.000000\n",
       "Name: dob_years, dtype: float64"
      ]
     },
     "execution_count": 81,
     "metadata": {},
     "output_type": "execute_result"
    }
   ],
   "source": [
    "df['dob_years'].describe()"
   ]
  },
  {
   "cell_type": "markdown",
   "metadata": {},
   "source": [
    "Категоризируем клиентов по возрасту следующим образом:\n",
    "* до 25 лет;\n",
    "* от 26 до 55 лет;\n",
    "* старше 56 лет.\n",
    "\n",
    "Как и прежде создадим функцию-категоризатор и добавим категории в новый столбец датафрейма:"
   ]
  },
  {
   "cell_type": "code",
   "execution_count": 82,
   "metadata": {},
   "outputs": [],
   "source": [
    "def caterorize_dob_years(dob_years):\n",
    "    \"\"\"\n",
    "    Функция категоризирует клиентов по возрасту на 3 основные категории:\n",
    "    1) до 25 лет -> возращает 0;\n",
    "    2) от 26 до 55 лет -> возвращает 1;\n",
    "    3) свыше 55 лет -> возвращает 2.    \n",
    "    \"\"\"\n",
    "    if dob_years < 25:\n",
    "        return 0\n",
    "    elif 26 <= dob_years < 55:\n",
    "        return 1\n",
    "    else:\n",
    "        return 2"
   ]
  },
  {
   "cell_type": "markdown",
   "metadata": {},
   "source": [
    "Добавляем новый столбец `dob_years_type`:"
   ]
  },
  {
   "cell_type": "code",
   "execution_count": 83,
   "metadata": {},
   "outputs": [],
   "source": [
    "df['dob_years_type'] = df['dob_years'].apply(caterorize_dob_years)"
   ]
  },
  {
   "cell_type": "markdown",
   "metadata": {},
   "source": [
    "##### Категоризация по уровню дохода"
   ]
  },
  {
   "cell_type": "markdown",
   "metadata": {},
   "source": [
    "Аналогично, как и в предыдущих категоризациях. Сперва посмотрим на сами данные:"
   ]
  },
  {
   "cell_type": "code",
   "execution_count": 84,
   "metadata": {},
   "outputs": [
    {
     "data": {
      "text/plain": [
       "count    2.142400e+04\n",
       "mean     1.674495e+05\n",
       "std      9.807975e+04\n",
       "min      2.066700e+04\n",
       "25%      1.076335e+05\n",
       "50%      1.519020e+05\n",
       "75%      2.024170e+05\n",
       "max      2.265604e+06\n",
       "Name: total_income, dtype: float64"
      ]
     },
     "execution_count": 84,
     "metadata": {},
     "output_type": "execute_result"
    }
   ],
   "source": [
    "df['total_income'].describe()"
   ]
  },
  {
   "cell_type": "markdown",
   "metadata": {},
   "source": [
    "На первый взгляд аномалий, шумов и выбросов в данных нет. Перейдем к созданию функции-категоризатора:"
   ]
  },
  {
   "cell_type": "code",
   "execution_count": 85,
   "metadata": {},
   "outputs": [],
   "source": [
    "def caterorize_total_income(total_income):\n",
    "    \"\"\"\n",
    "    Функция категоризирует клиентов по доходу на 5 основных категорий:\n",
    "    1) до 70000 руб. -> возращает 0;\n",
    "    2) от 70000 руб. до 120000 -> возвращает 1;\n",
    "    3) от 120000 до 200000 руб. -> возвращает 2;\n",
    "    4) от 200000 до 600000 руб. -> возвращает 3;\n",
    "    5) свыше 600000 руб. -> возвращает 4\n",
    "    \n",
    "    \"\"\"\n",
    "    if total_income < 70000:\n",
    "        return 0\n",
    "    elif 70000 <= total_income < 120000:\n",
    "        return 1\n",
    "    elif 120000 <= total_income < 200000:\n",
    "        return 2\n",
    "    elif 200000 <= total_income < 600000:\n",
    "        return 3\n",
    "    else:\n",
    "        return 4"
   ]
  },
  {
   "cell_type": "markdown",
   "metadata": {},
   "source": [
    "Такое разделение необходимо на предварительном этапе, чтобы отсечь клиентов с низким доходом.\n",
    "\n",
    "Создадим новый категорийный признак и запишем его значения в столбец `total_income_type`:"
   ]
  },
  {
   "cell_type": "code",
   "execution_count": 86,
   "metadata": {},
   "outputs": [],
   "source": [
    "df['total_income_type'] = df['total_income'].apply(caterorize_total_income)"
   ]
  },
  {
   "cell_type": "markdown",
   "metadata": {},
   "source": [
    "Прежде чем присупить к дальнейшему анализу посмотрим на те данные, которыми до этого не занимались."
   ]
  },
  {
   "cell_type": "markdown",
   "metadata": {},
   "source": [
    "Посмотрим на значения в столбце `gender`:"
   ]
  },
  {
   "cell_type": "code",
   "execution_count": 87,
   "metadata": {},
   "outputs": [
    {
     "data": {
      "text/plain": [
       "array(['F', 'M', 'XNA'], dtype=object)"
      ]
     },
     "execution_count": 87,
     "metadata": {},
     "output_type": "execute_result"
    }
   ],
   "source": [
    "df['gender'].unique()"
   ]
  },
  {
   "cell_type": "markdown",
   "metadata": {},
   "source": [
    "Оказывается кроме очевидных значений `F` и `M` еще есть значение `XNA`. Посмотрим сколько записей содержит это значение:"
   ]
  },
  {
   "cell_type": "code",
   "execution_count": 88,
   "metadata": {},
   "outputs": [
    {
     "data": {
      "text/plain": [
       "1"
      ]
     },
     "execution_count": 88,
     "metadata": {},
     "output_type": "execute_result"
    }
   ],
   "source": [
    "df[df['gender'] == 'XNA']['gender'].count()"
   ]
  },
  {
   "cell_type": "markdown",
   "metadata": {},
   "source": [
    "Оказывается всего одна запись, посмотрим на нее по внимательнее:"
   ]
  },
  {
   "cell_type": "code",
   "execution_count": 89,
   "metadata": {},
   "outputs": [
    {
     "data": {
      "text/html": [
       "<div>\n",
       "<style scoped>\n",
       "    .dataframe tbody tr th:only-of-type {\n",
       "        vertical-align: middle;\n",
       "    }\n",
       "\n",
       "    .dataframe tbody tr th {\n",
       "        vertical-align: top;\n",
       "    }\n",
       "\n",
       "    .dataframe thead th {\n",
       "        text-align: right;\n",
       "    }\n",
       "</style>\n",
       "<table border=\"1\" class=\"dataframe\">\n",
       "  <thead>\n",
       "    <tr style=\"text-align: right;\">\n",
       "      <th></th>\n",
       "      <th>index</th>\n",
       "      <th>children</th>\n",
       "      <th>dob_years</th>\n",
       "      <th>education</th>\n",
       "      <th>education_id</th>\n",
       "      <th>family_status</th>\n",
       "      <th>family_status_id</th>\n",
       "      <th>gender</th>\n",
       "      <th>income_type</th>\n",
       "      <th>debt</th>\n",
       "      <th>total_income</th>\n",
       "      <th>credit_type</th>\n",
       "      <th>children_type</th>\n",
       "      <th>dob_years_type</th>\n",
       "      <th>total_income_type</th>\n",
       "    </tr>\n",
       "  </thead>\n",
       "  <tbody>\n",
       "    <tr>\n",
       "      <td>10690</td>\n",
       "      <td>10701</td>\n",
       "      <td>0</td>\n",
       "      <td>24.0</td>\n",
       "      <td>неоконченное высшее</td>\n",
       "      <td>2</td>\n",
       "      <td>гражданский брак</td>\n",
       "      <td>1</td>\n",
       "      <td>XNA</td>\n",
       "      <td>компаньон</td>\n",
       "      <td>0</td>\n",
       "      <td>203905</td>\n",
       "      <td>ипотека</td>\n",
       "      <td>0</td>\n",
       "      <td>0</td>\n",
       "      <td>3</td>\n",
       "    </tr>\n",
       "  </tbody>\n",
       "</table>\n",
       "</div>"
      ],
      "text/plain": [
       "       index  children  dob_years            education  education_id  \\\n",
       "10690  10701         0       24.0  неоконченное высшее             2   \n",
       "\n",
       "          family_status  family_status_id gender income_type  debt  \\\n",
       "10690  гражданский брак                 1    XNA   компаньон     0   \n",
       "\n",
       "       total_income credit_type  children_type  dob_years_type  \\\n",
       "10690        203905     ипотека              0               0   \n",
       "\n",
       "       total_income_type  \n",
       "10690                  3  "
      ]
     },
     "execution_count": 89,
     "metadata": {},
     "output_type": "execute_result"
    }
   ],
   "source": [
    "df[df['gender'] == 'XNA']"
   ]
  },
  {
   "cell_type": "markdown",
   "metadata": {},
   "source": [
    "Посмотрим, является ли эта запись уникальной для типа клиента `компаньон`:"
   ]
  },
  {
   "cell_type": "code",
   "execution_count": 90,
   "metadata": {},
   "outputs": [
    {
     "data": {
      "text/plain": [
       "5071"
      ]
     },
     "execution_count": 90,
     "metadata": {},
     "output_type": "execute_result"
    }
   ],
   "source": [
    "df[df['income_type'] == 'компаньон']['income_type'].count()"
   ]
  },
  {
   "cell_type": "markdown",
   "metadata": {},
   "source": [
    "Оказывается нет, записей со значением `income_type == компаньон` почти четверть из всех. Удалим эту запись, ее наличие или отсутствие не повлияет значительно на результат анализа:"
   ]
  },
  {
   "cell_type": "code",
   "execution_count": 91,
   "metadata": {},
   "outputs": [],
   "source": [
    "df = df[df['gender'] != 'XNA']"
   ]
  },
  {
   "cell_type": "markdown",
   "metadata": {},
   "source": [
    "Для задач машинного обучения было бы правиль представить категориальные признаки в числовом виде. Например заменить значения `F` и `M` в столбце `gender` на `0` и `1` соответственно. Используем метод `replace()`:"
   ]
  },
  {
   "cell_type": "code",
   "execution_count": 92,
   "metadata": {},
   "outputs": [],
   "source": [
    "# Создадим словарь, состоящий из пар старое значение – новое значение\n",
    "gender_mapper = {\n",
    "    'F': 0,\n",
    "    'M': 1,\n",
    "}\n",
    "\n",
    "# Заменим значения в столбце gender\n",
    "df['gender'] = df['gender'].replace(gender_mapper)"
   ]
  },
  {
   "cell_type": "markdown",
   "metadata": {},
   "source": [
    "Далее можно было бы также заменить описательные значения в столбце `income_type` на числовые значения, удалить один из дублирующих столбцов одного и тоже признака, например: в столбцах `education` и `education_id` или в `family_status`\tи `family_status_id` одни и теже признаки представлены в разных форматах. Но мы не станем этого делать для удобства работы с именно с текстовым представлением признаков в датафрейме."
   ]
  },
  {
   "cell_type": "markdown",
   "metadata": {},
   "source": [
    "Вместо этого посмотрим повнимательнее на значения признаков в столбцах `education` и `education_id`, а также `family_status` и `family_status_id`"
   ]
  },
  {
   "cell_type": "code",
   "execution_count": 93,
   "metadata": {},
   "outputs": [
    {
     "data": {
      "text/plain": [
       "array([0, 1, 2, 3, 4])"
      ]
     },
     "execution_count": 93,
     "metadata": {},
     "output_type": "execute_result"
    }
   ],
   "source": [
    "df['education_id'].unique()"
   ]
  },
  {
   "cell_type": "markdown",
   "metadata": {},
   "source": [
    "Видим, что все значения различны и не дублируются. проверим, есть ли пропуски в данных:"
   ]
  },
  {
   "cell_type": "code",
   "execution_count": 94,
   "metadata": {},
   "outputs": [
    {
     "data": {
      "text/plain": [
       "0"
      ]
     },
     "execution_count": 94,
     "metadata": {},
     "output_type": "execute_result"
    }
   ],
   "source": [
    "df['education_id'].isna().sum()"
   ]
  },
  {
   "cell_type": "markdown",
   "metadata": {},
   "source": [
    "Пропусков нет – значит, все значения в столбце `education` закодированы и имеют числовое представление в столбце `education_id`.\n",
    "\n",
    "Посмотрим на значения в столбце `education`:"
   ]
  },
  {
   "cell_type": "code",
   "execution_count": 95,
   "metadata": {},
   "outputs": [
    {
     "data": {
      "text/plain": [
       "array(['высшее', 'среднее', 'Среднее', 'СРЕДНЕЕ', 'ВЫСШЕЕ',\n",
       "       'неоконченное высшее', 'начальное', 'Высшее',\n",
       "       'НЕОКОНЧЕННОЕ ВЫСШЕЕ', 'Неоконченное высшее', 'НАЧАЛЬНОЕ',\n",
       "       'Начальное', 'Ученая степень', 'УЧЕНАЯ СТЕПЕНЬ', 'ученая степень'],\n",
       "      dtype=object)"
      ]
     },
     "execution_count": 95,
     "metadata": {},
     "output_type": "execute_result"
    }
   ],
   "source": [
    "df['education'].unique()"
   ]
  },
  {
   "cell_type": "markdown",
   "metadata": {},
   "source": [
    "Видим, что значения `'среднее'`, `'Среднее'`, `'СРЕДНЕЕ'` – дублируются по смыслу, хотя и отличаются написанием, так, что для интерпритатора они являются различными. Исправим это, приведем их всех к нижнему регистру:"
   ]
  },
  {
   "cell_type": "code",
   "execution_count": 96,
   "metadata": {},
   "outputs": [
    {
     "data": {
      "text/plain": [
       "array(['высшее', 'среднее', 'неоконченное высшее', 'начальное',\n",
       "       'ученая степень'], dtype=object)"
      ]
     },
     "execution_count": 96,
     "metadata": {},
     "output_type": "execute_result"
    }
   ],
   "source": [
    "# Приведем значения в столбце education к нижнему регистру\n",
    "df['education'] = df['education'].apply(lambda s: s.lower())\n",
    "\n",
    "# Посмотрим на уникальные значения\n",
    "df['education'].unique()"
   ]
  },
  {
   "cell_type": "markdown",
   "metadata": {},
   "source": [
    "Теперь все значения столбца `education` уникальные. Проверим, совпадает ли количество уникальных значений столбца `edication` и `education_id`:"
   ]
  },
  {
   "cell_type": "code",
   "execution_count": 97,
   "metadata": {},
   "outputs": [
    {
     "data": {
      "text/plain": [
       "True"
      ]
     },
     "execution_count": 97,
     "metadata": {},
     "output_type": "execute_result"
    }
   ],
   "source": [
    "len(df['education_id'].unique()) == len(df['education'].unique())"
   ]
  },
  {
   "cell_type": "markdown",
   "metadata": {},
   "source": [
    "Количество уникальных значений совпадает, данные очищены от шума."
   ]
  },
  {
   "cell_type": "markdown",
   "metadata": {},
   "source": [
    "Аналогично сделаем для другой пары дублирующихся категориальных признаков: `family_status` – `family_status_id`"
   ]
  },
  {
   "cell_type": "markdown",
   "metadata": {},
   "source": [
    "Посмотрим на значения признаков `family_status` и `family_status_id`:"
   ]
  },
  {
   "cell_type": "code",
   "execution_count": 98,
   "metadata": {},
   "outputs": [
    {
     "data": {
      "text/plain": [
       "array([0, 1, 2, 3, 4])"
      ]
     },
     "execution_count": 98,
     "metadata": {},
     "output_type": "execute_result"
    }
   ],
   "source": [
    "df['family_status_id'].unique()"
   ]
  },
  {
   "cell_type": "code",
   "execution_count": 99,
   "metadata": {},
   "outputs": [
    {
     "data": {
      "text/plain": [
       "0"
      ]
     },
     "execution_count": 99,
     "metadata": {},
     "output_type": "execute_result"
    }
   ],
   "source": [
    "df['family_status_id'].isna().sum()"
   ]
  },
  {
   "cell_type": "markdown",
   "metadata": {},
   "source": [
    "Как и в предыдущем случае видим, что все значения уникальны и не содержат пропусков.\n",
    "\n",
    "Посмотрим на описательное представление признака в столбце `family_status`:"
   ]
  },
  {
   "cell_type": "code",
   "execution_count": 100,
   "metadata": {},
   "outputs": [
    {
     "data": {
      "text/plain": [
       "array(['женат / замужем', 'гражданский брак', 'вдовец / вдова',\n",
       "       'в разводе', 'Не женат / не замужем'], dtype=object)"
      ]
     },
     "execution_count": 100,
     "metadata": {},
     "output_type": "execute_result"
    }
   ],
   "source": [
    "df['family_status'].unique()"
   ]
  },
  {
   "cell_type": "markdown",
   "metadata": {},
   "source": [
    "Видим, что данные не дублируются.\n",
    "\n",
    "*Заметим, что значение признака \\\"Не женат / не замужем\\\" начинается с заглавной буквы в отличие от остальных значений, но в нашем случае это не принципиально.*"
   ]
  },
  {
   "cell_type": "code",
   "execution_count": 101,
   "metadata": {},
   "outputs": [
    {
     "data": {
      "text/plain": [
       "True"
      ]
     },
     "execution_count": 101,
     "metadata": {},
     "output_type": "execute_result"
    }
   ],
   "source": [
    "len(df['family_status']) == len(df['family_status_id'])"
   ]
  },
  {
   "cell_type": "markdown",
   "metadata": {},
   "source": [
    "Количество значений признака также совпадает."
   ]
  },
  {
   "cell_type": "markdown",
   "metadata": {},
   "source": [
    "### Вывод"
   ]
  },
  {
   "cell_type": "markdown",
   "metadata": {},
   "source": [
    "1. Категоризация – важная часть работы по анализу данных. Категории позволяют лучше структурировать данные и генерировать новые категориальные признаки, исходя из бизнес-логики предмета исследования.\n",
    "2. В данной задаче были созданы 4 новых категориальных признака `credit_type`,\t`children_type`,\t`dob_years_type`,\t`total_income_type`. На основании данных признаков можно построить простой алгоритм принятия решения о выдаче кредита.\n",
    "3. В процессе создания новых признаков, данные на основе которых они создавались, были дополнительно более глубоко исследованы. В реузльтате такого исследования были выявлены и устранены пропуски, аномалии и выбросы в данных.\n",
    "4. Также были исследованы остальные данные, которые не были категоризированы. В целом датасет готов к анализу."
   ]
  },
  {
   "cell_type": "markdown",
   "metadata": {},
   "source": [
    "### Шаг 3. Ответьте на вопросы"
   ]
  },
  {
   "cell_type": "markdown",
   "metadata": {},
   "source": [
    "***- Есть ли зависимость между наличием детей и возвратом кредита в срок?***"
   ]
  },
  {
   "cell_type": "markdown",
   "metadata": {},
   "source": [
    "Для ответа на этот впрос посмотрим количество долгов по кредитам для клиентов с различным количеством детей:"
   ]
  },
  {
   "cell_type": "code",
   "execution_count": 102,
   "metadata": {},
   "outputs": [
    {
     "data": {
      "text/plain": [
       "children\n",
       "0    1063\n",
       "1     444\n",
       "2     202\n",
       "3      27\n",
       "4       4\n",
       "5       0\n",
       "Name: debt, dtype: int64"
      ]
     },
     "execution_count": 102,
     "metadata": {},
     "output_type": "execute_result"
    }
   ],
   "source": [
    "df.groupby(by='children')['debt'].sum() "
   ]
  },
  {
   "cell_type": "markdown",
   "metadata": {},
   "source": [
    "В абсолютных значениях больше всего долгов имеют клиенты без детей, и с возрастание количества детей – количество должников уменьшается. Посмотрим на количество долгов по кредитам в относительных величинах:"
   ]
  },
  {
   "cell_type": "code",
   "execution_count": 103,
   "metadata": {},
   "outputs": [
    {
     "data": {
      "text/plain": [
       "children\n",
       "4    0.097561\n",
       "2    0.094925\n",
       "1    0.092327\n",
       "3    0.081818\n",
       "0    0.075358\n",
       "5    0.000000\n",
       "Name: debt, dtype: float64"
      ]
     },
     "execution_count": 103,
     "metadata": {},
     "output_type": "execute_result"
    }
   ],
   "source": [
    "(df.groupby(by='children')['debt'].sum() / df.groupby(by='children')['debt'].count()).sort_values(ascending=False)"
   ]
  },
  {
   "cell_type": "markdown",
   "metadata": {},
   "source": [
    "В относительных величинах – картина другая: больше всего долгов по кредитам у семей или несемейных с 4-мя детьми, хотя это и приблизительно равно с теми у кого 1, 2 или 3 ребенка. Другая ситуация с многодетными – у них долгов по кредитам нет. Несколько меньше долгов у бездетных клиентов.\n",
    "\n",
    "Посмотрим на эти данные по категориям многодетности:"
   ]
  },
  {
   "cell_type": "code",
   "execution_count": 104,
   "metadata": {},
   "outputs": [
    {
     "data": {
      "text/plain": [
       "children_type\n",
       "1    0.093124\n",
       "2    0.081579\n",
       "0    0.075358\n",
       "Name: debt, dtype: float64"
      ]
     },
     "execution_count": 104,
     "metadata": {},
     "output_type": "execute_result"
    }
   ],
   "source": [
    "(df.groupby(by='children_type')['debt'].sum() / df.groupby(by='children_type')['debt'].count()).sort_values(ascending=False)"
   ]
  },
  {
   "cell_type": "markdown",
   "metadata": {},
   "source": [
    "Распределение выглядит по другому:\n",
    "* семьи с 1 или 2 детьми больше всех имеют задолженности по кредитам;\n",
    "* многодетные семьи на втором месте, сказалось высокое количество долгов у семей с 4 детьми, а \"идеальная\" кредитная история семей с 5 детьми не смогла повлиять на общий показатель в силу своей малочисленности;\n",
    "* бездетные клиенты оказались самыми дисциплинированными и имеют наименьшее количество долгов."
   ]
  },
  {
   "cell_type": "markdown",
   "metadata": {},
   "source": [
    "Дополнительно посмотрим на коэффициент корреляции Спирмана для категориальных данных. Коэффициент ранговой корреляции Спирмена – это непараметрический метод, который используется с целью статистического изучения связи между явлениями. В этом случае определяется фактическая степень параллелизма между двумя количественными рядами изучаемых признаков и дается оценка тесноты установленной связи с помощью количественно выраженного коэффициента.\n",
    "\n",
    "Коэффициент корреляции Спирмена обладает следующими свойствами:\n",
    "* коэффициент корреляции может принимать значения от минус единицы до единицы, причем при $rs=1$ имеет место строго прямая связь, а при $rs= -1$ – строго обратная связь;\n",
    "* если коэффициент корреляции отрицательный, то имеет место обратная связь, если положительный, то – прямая связь;\n",
    "* если коэффициент корреляции равен нулю, то связь между величинами практически отсутствует;\n",
    "* чем ближе модуль коэффициента корреляции к единице, тем более сильной является связь между измеряемыми величинами."
   ]
  },
  {
   "cell_type": "code",
   "execution_count": 105,
   "metadata": {},
   "outputs": [
    {
     "data": {
      "text/html": [
       "<div>\n",
       "<style scoped>\n",
       "    .dataframe tbody tr th:only-of-type {\n",
       "        vertical-align: middle;\n",
       "    }\n",
       "\n",
       "    .dataframe tbody tr th {\n",
       "        vertical-align: top;\n",
       "    }\n",
       "\n",
       "    .dataframe thead th {\n",
       "        text-align: right;\n",
       "    }\n",
       "</style>\n",
       "<table border=\"1\" class=\"dataframe\">\n",
       "  <thead>\n",
       "    <tr style=\"text-align: right;\">\n",
       "      <th></th>\n",
       "      <th>children_type</th>\n",
       "      <th>debt</th>\n",
       "    </tr>\n",
       "  </thead>\n",
       "  <tbody>\n",
       "    <tr>\n",
       "      <td>children_type</td>\n",
       "      <td>1.000000</td>\n",
       "      <td>0.029162</td>\n",
       "    </tr>\n",
       "    <tr>\n",
       "      <td>debt</td>\n",
       "      <td>0.029162</td>\n",
       "      <td>1.000000</td>\n",
       "    </tr>\n",
       "  </tbody>\n",
       "</table>\n",
       "</div>"
      ],
      "text/plain": [
       "               children_type      debt\n",
       "children_type       1.000000  0.029162\n",
       "debt                0.029162  1.000000"
      ]
     },
     "execution_count": 105,
     "metadata": {},
     "output_type": "execute_result"
    }
   ],
   "source": [
    "df[['children_type', 'debt']].corr(method='spearman')"
   ]
  },
  {
   "cell_type": "markdown",
   "metadata": {},
   "source": [
    "### Вывод"
   ]
  },
  {
   "cell_type": "markdown",
   "metadata": {},
   "source": [
    "Зависимость между количесвом детей и количеством долгов по кредиту слабая и прослеживается следующим образом: бездетные клиенты имеют меньше всего задолженностей, семьи с 1-2 детьми – самые большие, многодетные семьи на втором месте по количеству долгов. Особо выделяются две категории – семьи с 4 и семьи с 5 детьми – первые чемпионы по количеству долгов по кредитам, вторые наоборот – авбсолютно не имеют долгов!"
   ]
  },
  {
   "cell_type": "markdown",
   "metadata": {},
   "source": [
    "***- Есть ли зависимость между семейным положением и возвратом кредита в срок?***"
   ]
  },
  {
   "cell_type": "markdown",
   "metadata": {},
   "source": [
    "Аналогично посмотрим ка данные в контексте семейного положения:"
   ]
  },
  {
   "cell_type": "code",
   "execution_count": 106,
   "metadata": {},
   "outputs": [
    {
     "data": {
      "text/plain": [
       "family_status\n",
       "женат / замужем          930\n",
       "гражданский брак         388\n",
       "Не женат / не замужем    274\n",
       "в разводе                 85\n",
       "вдовец / вдова            63\n",
       "Name: debt, dtype: int64"
      ]
     },
     "execution_count": 106,
     "metadata": {},
     "output_type": "execute_result"
    }
   ],
   "source": [
    "df.groupby(by='family_status')['debt'].sum().sort_values(ascending=False)"
   ]
  },
  {
   "cell_type": "markdown",
   "metadata": {},
   "source": [
    "Предварительно семейные клиенты выглядят самыми недисциплинированными, в отличие от вдовцов или вдовиц. Посмотрим на относительные данные:"
   ]
  },
  {
   "cell_type": "code",
   "execution_count": 107,
   "metadata": {},
   "outputs": [
    {
     "data": {
      "text/plain": [
       "family_status\n",
       "Не женат / не замужем    0.097683\n",
       "гражданский брак         0.093337\n",
       "женат / замужем          0.075518\n",
       "в разводе                0.071369\n",
       "вдовец / вдова           0.065969\n",
       "Name: debt, dtype: float64"
      ]
     },
     "execution_count": 107,
     "metadata": {},
     "output_type": "execute_result"
    }
   ],
   "source": [
    "(df.groupby(by='family_status')['debt'].sum() / df.groupby(by='family_status')['debt'].count()).sort_values(ascending=False)"
   ]
  },
  {
   "cell_type": "markdown",
   "metadata": {},
   "source": [
    "Относительные данные говорят о другом – самыми безответственными клиентами являются не женатые / не замужние, вдовцы / вдовицы – остаются в числе самых ответственных."
   ]
  },
  {
   "cell_type": "markdown",
   "metadata": {},
   "source": [
    "Посмотрим на коэффициент корреляции Спирмана:"
   ]
  },
  {
   "cell_type": "code",
   "execution_count": 108,
   "metadata": {},
   "outputs": [
    {
     "data": {
      "text/html": [
       "<div>\n",
       "<style scoped>\n",
       "    .dataframe tbody tr th:only-of-type {\n",
       "        vertical-align: middle;\n",
       "    }\n",
       "\n",
       "    .dataframe tbody tr th {\n",
       "        vertical-align: top;\n",
       "    }\n",
       "\n",
       "    .dataframe thead th {\n",
       "        text-align: right;\n",
       "    }\n",
       "</style>\n",
       "<table border=\"1\" class=\"dataframe\">\n",
       "  <thead>\n",
       "    <tr style=\"text-align: right;\">\n",
       "      <th></th>\n",
       "      <th>family_status_id</th>\n",
       "      <th>debt</th>\n",
       "    </tr>\n",
       "  </thead>\n",
       "  <tbody>\n",
       "    <tr>\n",
       "      <td>family_status_id</td>\n",
       "      <td>1.000000</td>\n",
       "      <td>0.023428</td>\n",
       "    </tr>\n",
       "    <tr>\n",
       "      <td>debt</td>\n",
       "      <td>0.023428</td>\n",
       "      <td>1.000000</td>\n",
       "    </tr>\n",
       "  </tbody>\n",
       "</table>\n",
       "</div>"
      ],
      "text/plain": [
       "                  family_status_id      debt\n",
       "family_status_id          1.000000  0.023428\n",
       "debt                      0.023428  1.000000"
      ]
     },
     "execution_count": 108,
     "metadata": {},
     "output_type": "execute_result"
    }
   ],
   "source": [
    "df[['family_status_id', 'debt']].corr(method='spearman')"
   ]
  },
  {
   "cell_type": "markdown",
   "metadata": {},
   "source": [
    "### Вывод"
   ]
  },
  {
   "cell_type": "markdown",
   "metadata": {},
   "source": [
    "Связь между семейным положением и задолженность по кредиту еще меньше, чем между количеством детей и кредитной задолженностью. Примерно одинаковое количество долгов имеют не женатые / не замужние и клиенты, находящиеся в гражданском браке. Также приблизительно равны значения кредитного долга у женатых и тех, кто находится в разводе. Чуть меньше задолжненость только у овдовевших клиентов."
   ]
  },
  {
   "cell_type": "markdown",
   "metadata": {},
   "source": [
    "***- Есть ли зависимость между уровнем дохода и возвратом кредита в срок?***"
   ]
  },
  {
   "cell_type": "markdown",
   "metadata": {},
   "source": [
    "Проанализируем аналогично данные в разрезе уровня дохода:"
   ]
  },
  {
   "cell_type": "code",
   "execution_count": 109,
   "metadata": {},
   "outputs": [
    {
     "data": {
      "text/plain": [
       "total_income_type\n",
       "2    801\n",
       "1    450\n",
       "3    380\n",
       "0    101\n",
       "4      8\n",
       "Name: debt, dtype: int64"
      ]
     },
     "execution_count": 109,
     "metadata": {},
     "output_type": "execute_result"
    }
   ],
   "source": [
    "df.groupby(by='total_income_type')['debt'].sum().sort_values(ascending=False)"
   ]
  },
  {
   "cell_type": "markdown",
   "metadata": {},
   "source": [
    "Клиенты со средним доходом (от 120000 до 200000 руб.) больше всех имеют задолженностей по кредитам, в отличие от клиентов с самым маленьким и с самым большим доходом.\n",
    "\n",
    "Посмотрим на относительные данные:"
   ]
  },
  {
   "cell_type": "code",
   "execution_count": 110,
   "metadata": {},
   "outputs": [
    {
     "data": {
      "text/plain": [
       "total_income_type\n",
       "2    0.088694\n",
       "1    0.083908\n",
       "4    0.073394\n",
       "3    0.069712\n",
       "0    0.068754\n",
       "Name: debt, dtype: float64"
      ]
     },
     "execution_count": 110,
     "metadata": {},
     "output_type": "execute_result"
    }
   ],
   "source": [
    "(df.groupby(by='total_income_type')['debt'].sum() / df.groupby(by='total_income_type')['debt'].count()).sort_values(ascending=False)"
   ]
  },
  {
   "cell_type": "code",
   "execution_count": 111,
   "metadata": {},
   "outputs": [
    {
     "data": {
      "text/plain": [
       "0.000000    0.915388\n",
       "1.000000    0.078257\n",
       "0.500000    0.005763\n",
       "0.333333    0.000377\n",
       "0.048276    0.000054\n",
       "0.089059    0.000054\n",
       "0.090994    0.000054\n",
       "0.059761    0.000054\n",
       "Name: debt, dtype: float64"
      ]
     },
     "execution_count": 111,
     "metadata": {},
     "output_type": "execute_result"
    }
   ],
   "source": [
    "debts_income = (df.groupby(by='total_income')['debt'].sum() / df.groupby(by='total_income')['debt'].count()).sort_values(ascending=False)\n",
    "debts_income.value_counts(normalize=True)"
   ]
  },
  {
   "cell_type": "markdown",
   "metadata": {},
   "source": [
    "В относительных цифрах клиенты со средним доходом также самые недисциплинированные (две категории от 70000 до 120000 и от 120000 до 200000 руб.), однако на третьем месте по количеству долгов переместились клиенты с самым высоким доходом (свыше 600000 руб.). Самыми же дисциплинированными отстались клиенты с самым низким уровнем доходов. \n",
    "\n",
    "Посмотрим на корреляцию Спирмана:"
   ]
  },
  {
   "cell_type": "code",
   "execution_count": 113,
   "metadata": {},
   "outputs": [
    {
     "data": {
      "text/html": [
       "<div>\n",
       "<style scoped>\n",
       "    .dataframe tbody tr th:only-of-type {\n",
       "        vertical-align: middle;\n",
       "    }\n",
       "\n",
       "    .dataframe tbody tr th {\n",
       "        vertical-align: top;\n",
       "    }\n",
       "\n",
       "    .dataframe thead th {\n",
       "        text-align: right;\n",
       "    }\n",
       "</style>\n",
       "<table border=\"1\" class=\"dataframe\">\n",
       "  <thead>\n",
       "    <tr style=\"text-align: right;\">\n",
       "      <th></th>\n",
       "      <th>total_income_type</th>\n",
       "      <th>debt</th>\n",
       "    </tr>\n",
       "  </thead>\n",
       "  <tbody>\n",
       "    <tr>\n",
       "      <td>total_income_type</td>\n",
       "      <td>1.000000</td>\n",
       "      <td>-0.010885</td>\n",
       "    </tr>\n",
       "    <tr>\n",
       "      <td>debt</td>\n",
       "      <td>-0.010885</td>\n",
       "      <td>1.000000</td>\n",
       "    </tr>\n",
       "  </tbody>\n",
       "</table>\n",
       "</div>"
      ],
      "text/plain": [
       "                   total_income_type      debt\n",
       "total_income_type           1.000000 -0.010885\n",
       "debt                       -0.010885  1.000000"
      ]
     },
     "execution_count": 113,
     "metadata": {},
     "output_type": "execute_result"
    }
   ],
   "source": [
    "df[['total_income_type', 'debt']].corr(method='spearman')"
   ]
  },
  {
   "cell_type": "markdown",
   "metadata": {},
   "source": [
    "Отрицательное значение коэффициента корреляции говорит о наличии обратной связи между количеством долгов и уровнем дохода клиента, но поскольку значение корреляции близко к 0 говорить об устойчивой зависимости между этими признаками не приходится."
   ]
  },
  {
   "cell_type": "markdown",
   "metadata": {},
   "source": [
    "### Вывод"
   ]
  },
  {
   "cell_type": "markdown",
   "metadata": {},
   "source": [
    "Между уровнем дохода и возвратом кредита в срок есть слабая обратная корреляция, но поскульку она близка к нулю – как таковой зависимости между этими признакми нет. Количество долгов по кредитам приблизительно равно между всеми группами по уровню доходов. Больше всего долгов у клиентов с средним доходом (до 200000 руб.), чуть меньше у клиентов с высоким уровнем доходов (более 200000 руб.), меньше всего у клиентов с доходом менее 70000 руб. Также видно, что большинство клиентов (92%) вовсе не имеют долгов, в то время как 7.8% имеют долги."
   ]
  },
  {
   "cell_type": "markdown",
   "metadata": {},
   "source": [
    "***- Как разные цели кредита влияют на его возврат в срок?***"
   ]
  },
  {
   "cell_type": "markdown",
   "metadata": {},
   "source": [
    "Посмотрим на наличие долгов по кредиту в контексте целей кредита:"
   ]
  },
  {
   "cell_type": "code",
   "execution_count": 114,
   "metadata": {},
   "outputs": [
    {
     "data": {
      "text/plain": [
       "credit_type\n",
       "ипотека                   782\n",
       "автокредит                402\n",
       "кредит на образование     370\n",
       "потребительский кредит    186\n",
       "Name: debt, dtype: int64"
      ]
     },
     "execution_count": 114,
     "metadata": {},
     "output_type": "execute_result"
    }
   ],
   "source": [
    "df.groupby(by='credit_type')['debt'].sum().sort_values(ascending=False)"
   ]
  },
  {
   "cell_type": "markdown",
   "metadata": {},
   "source": [
    "Большинство долгов приходится на ипотечные кредиты, менбше всего на потребительские.\n",
    "\n",
    "Посмотрим на относительные значения:"
   ]
  },
  {
   "cell_type": "code",
   "execution_count": 115,
   "metadata": {},
   "outputs": [
    {
     "data": {
      "text/plain": [
       "credit_type\n",
       "автокредит                0.093554\n",
       "кредит на образование     0.092408\n",
       "потребительский кредит    0.079726\n",
       "ипотека                   0.072481\n",
       "Name: debt, dtype: float64"
      ]
     },
     "execution_count": 115,
     "metadata": {},
     "output_type": "execute_result"
    }
   ],
   "source": [
    "(df.groupby(by='credit_type')['debt'].sum() / df.groupby(by='credit_type')['debt'].count()).sort_values(ascending=False)"
   ]
  },
  {
   "cell_type": "markdown",
   "metadata": {},
   "source": [
    "Видим как крединты по количеству долгов разделились на две группы: в лидерах по долгам – автокредит и кредит на образование, лучше дела обстоят с потребительским кредитом и ипотекой.\n",
    "\n",
    "Рассчитаем корреляцию Спирмана, для этого добавим в датафрейм столбец с числовым представлением типа кредита."
   ]
  },
  {
   "cell_type": "code",
   "execution_count": 116,
   "metadata": {},
   "outputs": [],
   "source": [
    "# Создать словарь с парами значений старое строковое значение: новое числовое\n",
    "credit_type_mapper = {}\n",
    "for i, credit_type in enumerate(df['credit_type'].unique()):\n",
    "    credit_type_mapper[credit_type] = i\n",
    "credit_type_mapper\n",
    "\n",
    "# Добавить новый столбец в датафрейм\n",
    "df['credit_type_id'] = df['credit_type'].apply(lambda x: credit_type_mapper[x])"
   ]
  },
  {
   "cell_type": "markdown",
   "metadata": {},
   "source": [
    "Теперь можем рассчитать коэффициент корреляции:"
   ]
  },
  {
   "cell_type": "code",
   "execution_count": 117,
   "metadata": {},
   "outputs": [
    {
     "data": {
      "text/html": [
       "<div>\n",
       "<style scoped>\n",
       "    .dataframe tbody tr th:only-of-type {\n",
       "        vertical-align: middle;\n",
       "    }\n",
       "\n",
       "    .dataframe tbody tr th {\n",
       "        vertical-align: top;\n",
       "    }\n",
       "\n",
       "    .dataframe thead th {\n",
       "        text-align: right;\n",
       "    }\n",
       "</style>\n",
       "<table border=\"1\" class=\"dataframe\">\n",
       "  <thead>\n",
       "    <tr style=\"text-align: right;\">\n",
       "      <th></th>\n",
       "      <th>credit_type_id</th>\n",
       "      <th>debt</th>\n",
       "    </tr>\n",
       "  </thead>\n",
       "  <tbody>\n",
       "    <tr>\n",
       "      <td>credit_type_id</td>\n",
       "      <td>1.000000</td>\n",
       "      <td>0.026025</td>\n",
       "    </tr>\n",
       "    <tr>\n",
       "      <td>debt</td>\n",
       "      <td>0.026025</td>\n",
       "      <td>1.000000</td>\n",
       "    </tr>\n",
       "  </tbody>\n",
       "</table>\n",
       "</div>"
      ],
      "text/plain": [
       "                credit_type_id      debt\n",
       "credit_type_id        1.000000  0.026025\n",
       "debt                  0.026025  1.000000"
      ]
     },
     "execution_count": 117,
     "metadata": {},
     "output_type": "execute_result"
    }
   ],
   "source": [
    "df[['credit_type_id', 'debt']].corr(method='spearman')"
   ]
  },
  {
   "cell_type": "markdown",
   "metadata": {},
   "source": [
    "Видно, что присутствует слабая прямая зависимость между признаками."
   ]
  },
  {
   "cell_type": "markdown",
   "metadata": {},
   "source": [
    "### Вывод"
   ]
  },
  {
   "cell_type": "markdown",
   "metadata": {},
   "source": [
    "Между типом кредита и количеством задолженностей по нему есть слабая прямая корреляция. При этом также видно разделение на две группы: по автокредиту и кредиту на образование – большее количество должников, по потребительским кредитам и ипотеке – количество должников несколько меньше."
   ]
  },
  {
   "cell_type": "markdown",
   "metadata": {},
   "source": [
    "##### Поиск дополнительных зависимостей "
   ]
  },
  {
   "cell_type": "markdown",
   "metadata": {},
   "source": [
    "##### Поиск зависимости между образованием и наличием долгов по кредиту"
   ]
  },
  {
   "cell_type": "code",
   "execution_count": 120,
   "metadata": {},
   "outputs": [
    {
     "data": {
      "text/plain": [
       "education\n",
       "начальное              0.109929\n",
       "неоконченное высшее    0.091644\n",
       "среднее                0.089961\n",
       "высшее                 0.053033\n",
       "ученая степень         0.000000\n",
       "Name: debt, dtype: float64"
      ]
     },
     "execution_count": 120,
     "metadata": {},
     "output_type": "execute_result"
    }
   ],
   "source": [
    "(df.groupby(by='education')['debt'].sum() / df.groupby(by='education')['debt'].count()).sort_values(ascending=False)"
   ]
  },
  {
   "cell_type": "markdown",
   "metadata": {},
   "source": [
    "Посчитаем коэффициент корреляции Спирмена:"
   ]
  },
  {
   "cell_type": "code",
   "execution_count": 121,
   "metadata": {},
   "outputs": [
    {
     "data": {
      "text/html": [
       "<div>\n",
       "<style scoped>\n",
       "    .dataframe tbody tr th:only-of-type {\n",
       "        vertical-align: middle;\n",
       "    }\n",
       "\n",
       "    .dataframe tbody tr th {\n",
       "        vertical-align: top;\n",
       "    }\n",
       "\n",
       "    .dataframe thead th {\n",
       "        text-align: right;\n",
       "    }\n",
       "</style>\n",
       "<table border=\"1\" class=\"dataframe\">\n",
       "  <thead>\n",
       "    <tr style=\"text-align: right;\">\n",
       "      <th></th>\n",
       "      <th>education_id</th>\n",
       "      <th>debt</th>\n",
       "    </tr>\n",
       "  </thead>\n",
       "  <tbody>\n",
       "    <tr>\n",
       "      <td>education_id</td>\n",
       "      <td>1.000000</td>\n",
       "      <td>0.056755</td>\n",
       "    </tr>\n",
       "    <tr>\n",
       "      <td>debt</td>\n",
       "      <td>0.056755</td>\n",
       "      <td>1.000000</td>\n",
       "    </tr>\n",
       "  </tbody>\n",
       "</table>\n",
       "</div>"
      ],
      "text/plain": [
       "              education_id      debt\n",
       "education_id      1.000000  0.056755\n",
       "debt              0.056755  1.000000"
      ]
     },
     "execution_count": 121,
     "metadata": {},
     "output_type": "execute_result"
    }
   ],
   "source": [
    "df[['education_id', 'debt']].corr(method='spearman')"
   ]
  },
  {
   "cell_type": "markdown",
   "metadata": {},
   "source": [
    "Посмотрим на процет долгов по кредиту в разрезе уровня образования и доходов:"
   ]
  },
  {
   "cell_type": "code",
   "execution_count": 137,
   "metadata": {},
   "outputs": [
    {
     "data": {
      "text/html": [
       "<div>\n",
       "<style scoped>\n",
       "    .dataframe tbody tr th:only-of-type {\n",
       "        vertical-align: middle;\n",
       "    }\n",
       "\n",
       "    .dataframe tbody tr th {\n",
       "        vertical-align: top;\n",
       "    }\n",
       "\n",
       "    .dataframe thead th {\n",
       "        text-align: right;\n",
       "    }\n",
       "</style>\n",
       "<table border=\"1\" class=\"dataframe\">\n",
       "  <thead>\n",
       "    <tr style=\"text-align: right;\">\n",
       "      <th></th>\n",
       "      <th>credit_type</th>\n",
       "      <th>автокредит</th>\n",
       "      <th>ипотека</th>\n",
       "      <th>кредит на образование</th>\n",
       "      <th>потребительский кредит</th>\n",
       "    </tr>\n",
       "    <tr>\n",
       "      <th>education</th>\n",
       "      <th>total_income_type</th>\n",
       "      <th></th>\n",
       "      <th></th>\n",
       "      <th></th>\n",
       "      <th></th>\n",
       "    </tr>\n",
       "  </thead>\n",
       "  <tbody>\n",
       "    <tr>\n",
       "      <td rowspan=\"5\" valign=\"top\">высшее</td>\n",
       "      <td>0</td>\n",
       "      <td>0.031250</td>\n",
       "      <td>0.086420</td>\n",
       "      <td>0.043478</td>\n",
       "      <td>0.000000</td>\n",
       "    </tr>\n",
       "    <tr>\n",
       "      <td>1</td>\n",
       "      <td>0.076087</td>\n",
       "      <td>0.033784</td>\n",
       "      <td>0.060403</td>\n",
       "      <td>0.028302</td>\n",
       "    </tr>\n",
       "    <tr>\n",
       "      <td>2</td>\n",
       "      <td>0.082725</td>\n",
       "      <td>0.056655</td>\n",
       "      <td>0.064433</td>\n",
       "      <td>0.059322</td>\n",
       "    </tr>\n",
       "    <tr>\n",
       "      <td>3</td>\n",
       "      <td>0.045570</td>\n",
       "      <td>0.042381</td>\n",
       "      <td>0.049587</td>\n",
       "      <td>0.042553</td>\n",
       "    </tr>\n",
       "    <tr>\n",
       "      <td>4</td>\n",
       "      <td>0.000000</td>\n",
       "      <td>0.043478</td>\n",
       "      <td>0.200000</td>\n",
       "      <td>0.000000</td>\n",
       "    </tr>\n",
       "    <tr>\n",
       "      <td rowspan=\"4\" valign=\"top\">начальное</td>\n",
       "      <td>0</td>\n",
       "      <td>0.000000</td>\n",
       "      <td>0.000000</td>\n",
       "      <td>0.000000</td>\n",
       "      <td>0.000000</td>\n",
       "    </tr>\n",
       "    <tr>\n",
       "      <td>1</td>\n",
       "      <td>0.055556</td>\n",
       "      <td>0.137255</td>\n",
       "      <td>0.117647</td>\n",
       "      <td>0.200000</td>\n",
       "    </tr>\n",
       "    <tr>\n",
       "      <td>2</td>\n",
       "      <td>0.105263</td>\n",
       "      <td>0.145455</td>\n",
       "      <td>0.125000</td>\n",
       "      <td>0.142857</td>\n",
       "    </tr>\n",
       "    <tr>\n",
       "      <td>3</td>\n",
       "      <td>0.300000</td>\n",
       "      <td>0.055556</td>\n",
       "      <td>0.000000</td>\n",
       "      <td>0.166667</td>\n",
       "    </tr>\n",
       "    <tr>\n",
       "      <td rowspan=\"5\" valign=\"top\">неоконченное высшее</td>\n",
       "      <td>0</td>\n",
       "      <td>0.000000</td>\n",
       "      <td>0.071429</td>\n",
       "      <td>0.000000</td>\n",
       "      <td>0.000000</td>\n",
       "    </tr>\n",
       "    <tr>\n",
       "      <td>1</td>\n",
       "      <td>0.090909</td>\n",
       "      <td>0.089888</td>\n",
       "      <td>0.103448</td>\n",
       "      <td>0.125000</td>\n",
       "    </tr>\n",
       "    <tr>\n",
       "      <td>2</td>\n",
       "      <td>0.095238</td>\n",
       "      <td>0.063694</td>\n",
       "      <td>0.093750</td>\n",
       "      <td>0.062500</td>\n",
       "    </tr>\n",
       "    <tr>\n",
       "      <td>3</td>\n",
       "      <td>0.115385</td>\n",
       "      <td>0.129310</td>\n",
       "      <td>0.060606</td>\n",
       "      <td>0.064516</td>\n",
       "    </tr>\n",
       "    <tr>\n",
       "      <td>4</td>\n",
       "      <td>1.000000</td>\n",
       "      <td>0.000000</td>\n",
       "      <td>1.000000</td>\n",
       "      <td>NaN</td>\n",
       "    </tr>\n",
       "    <tr>\n",
       "      <td rowspan=\"5\" valign=\"top\">среднее</td>\n",
       "      <td>0</td>\n",
       "      <td>0.098814</td>\n",
       "      <td>0.056361</td>\n",
       "      <td>0.067460</td>\n",
       "      <td>0.109375</td>\n",
       "    </tr>\n",
       "    <tr>\n",
       "      <td>1</td>\n",
       "      <td>0.096852</td>\n",
       "      <td>0.076186</td>\n",
       "      <td>0.116708</td>\n",
       "      <td>0.096509</td>\n",
       "    </tr>\n",
       "    <tr>\n",
       "      <td>2</td>\n",
       "      <td>0.108169</td>\n",
       "      <td>0.089385</td>\n",
       "      <td>0.105777</td>\n",
       "      <td>0.095791</td>\n",
       "    </tr>\n",
       "    <tr>\n",
       "      <td>3</td>\n",
       "      <td>0.100154</td>\n",
       "      <td>0.073082</td>\n",
       "      <td>0.094178</td>\n",
       "      <td>0.069401</td>\n",
       "    </tr>\n",
       "    <tr>\n",
       "      <td>4</td>\n",
       "      <td>0.000000</td>\n",
       "      <td>0.062500</td>\n",
       "      <td>0.200000</td>\n",
       "      <td>0.000000</td>\n",
       "    </tr>\n",
       "    <tr>\n",
       "      <td rowspan=\"3\" valign=\"top\">ученая степень</td>\n",
       "      <td>1</td>\n",
       "      <td>NaN</td>\n",
       "      <td>0.000000</td>\n",
       "      <td>NaN</td>\n",
       "      <td>NaN</td>\n",
       "    </tr>\n",
       "    <tr>\n",
       "      <td>2</td>\n",
       "      <td>NaN</td>\n",
       "      <td>0.000000</td>\n",
       "      <td>NaN</td>\n",
       "      <td>NaN</td>\n",
       "    </tr>\n",
       "    <tr>\n",
       "      <td>3</td>\n",
       "      <td>NaN</td>\n",
       "      <td>0.000000</td>\n",
       "      <td>0.000000</td>\n",
       "      <td>NaN</td>\n",
       "    </tr>\n",
       "  </tbody>\n",
       "</table>\n",
       "</div>"
      ],
      "text/plain": [
       "credit_type                            автокредит   ипотека  \\\n",
       "education           total_income_type                         \n",
       "высшее              0                    0.031250  0.086420   \n",
       "                    1                    0.076087  0.033784   \n",
       "                    2                    0.082725  0.056655   \n",
       "                    3                    0.045570  0.042381   \n",
       "                    4                    0.000000  0.043478   \n",
       "начальное           0                    0.000000  0.000000   \n",
       "                    1                    0.055556  0.137255   \n",
       "                    2                    0.105263  0.145455   \n",
       "                    3                    0.300000  0.055556   \n",
       "неоконченное высшее 0                    0.000000  0.071429   \n",
       "                    1                    0.090909  0.089888   \n",
       "                    2                    0.095238  0.063694   \n",
       "                    3                    0.115385  0.129310   \n",
       "                    4                    1.000000  0.000000   \n",
       "среднее             0                    0.098814  0.056361   \n",
       "                    1                    0.096852  0.076186   \n",
       "                    2                    0.108169  0.089385   \n",
       "                    3                    0.100154  0.073082   \n",
       "                    4                    0.000000  0.062500   \n",
       "ученая степень      1                         NaN  0.000000   \n",
       "                    2                         NaN  0.000000   \n",
       "                    3                         NaN  0.000000   \n",
       "\n",
       "credit_type                            кредит на образование  \\\n",
       "education           total_income_type                          \n",
       "высшее              0                               0.043478   \n",
       "                    1                               0.060403   \n",
       "                    2                               0.064433   \n",
       "                    3                               0.049587   \n",
       "                    4                               0.200000   \n",
       "начальное           0                               0.000000   \n",
       "                    1                               0.117647   \n",
       "                    2                               0.125000   \n",
       "                    3                               0.000000   \n",
       "неоконченное высшее 0                               0.000000   \n",
       "                    1                               0.103448   \n",
       "                    2                               0.093750   \n",
       "                    3                               0.060606   \n",
       "                    4                               1.000000   \n",
       "среднее             0                               0.067460   \n",
       "                    1                               0.116708   \n",
       "                    2                               0.105777   \n",
       "                    3                               0.094178   \n",
       "                    4                               0.200000   \n",
       "ученая степень      1                                    NaN   \n",
       "                    2                                    NaN   \n",
       "                    3                               0.000000   \n",
       "\n",
       "credit_type                            потребительский кредит  \n",
       "education           total_income_type                          \n",
       "высшее              0                                0.000000  \n",
       "                    1                                0.028302  \n",
       "                    2                                0.059322  \n",
       "                    3                                0.042553  \n",
       "                    4                                0.000000  \n",
       "начальное           0                                0.000000  \n",
       "                    1                                0.200000  \n",
       "                    2                                0.142857  \n",
       "                    3                                0.166667  \n",
       "неоконченное высшее 0                                0.000000  \n",
       "                    1                                0.125000  \n",
       "                    2                                0.062500  \n",
       "                    3                                0.064516  \n",
       "                    4                                     NaN  \n",
       "среднее             0                                0.109375  \n",
       "                    1                                0.096509  \n",
       "                    2                                0.095791  \n",
       "                    3                                0.069401  \n",
       "                    4                                0.000000  \n",
       "ученая степень      1                                     NaN  \n",
       "                    2                                     NaN  \n",
       "                    3                                     NaN  "
      ]
     },
     "execution_count": 137,
     "metadata": {},
     "output_type": "execute_result"
    }
   ],
   "source": [
    "pd.pivot_table(data=df, columns='credit_type', values='debt', index=['education', 'total_income_type'])"
   ]
  },
  {
   "cell_type": "markdown",
   "metadata": {},
   "source": [
    "Посмотрим на процет долгов по кредиту в разрезе количества детей и доходов:"
   ]
  },
  {
   "cell_type": "code",
   "execution_count": 138,
   "metadata": {},
   "outputs": [
    {
     "data": {
      "text/html": [
       "<div>\n",
       "<style scoped>\n",
       "    .dataframe tbody tr th:only-of-type {\n",
       "        vertical-align: middle;\n",
       "    }\n",
       "\n",
       "    .dataframe tbody tr th {\n",
       "        vertical-align: top;\n",
       "    }\n",
       "\n",
       "    .dataframe thead th {\n",
       "        text-align: right;\n",
       "    }\n",
       "</style>\n",
       "<table border=\"1\" class=\"dataframe\">\n",
       "  <thead>\n",
       "    <tr style=\"text-align: right;\">\n",
       "      <th></th>\n",
       "      <th>credit_type</th>\n",
       "      <th>автокредит</th>\n",
       "      <th>ипотека</th>\n",
       "      <th>кредит на образование</th>\n",
       "      <th>потребительский кредит</th>\n",
       "    </tr>\n",
       "    <tr>\n",
       "      <th>children</th>\n",
       "      <th>total_income_type</th>\n",
       "      <th></th>\n",
       "      <th></th>\n",
       "      <th></th>\n",
       "      <th></th>\n",
       "    </tr>\n",
       "  </thead>\n",
       "  <tbody>\n",
       "    <tr>\n",
       "      <td rowspan=\"5\" valign=\"top\">0</td>\n",
       "      <td>0</td>\n",
       "      <td>0.073394</td>\n",
       "      <td>0.054924</td>\n",
       "      <td>0.068063</td>\n",
       "      <td>0.058824</td>\n",
       "    </tr>\n",
       "    <tr>\n",
       "      <td>1</td>\n",
       "      <td>0.089636</td>\n",
       "      <td>0.062783</td>\n",
       "      <td>0.103048</td>\n",
       "      <td>0.071942</td>\n",
       "    </tr>\n",
       "    <tr>\n",
       "      <td>2</td>\n",
       "      <td>0.088576</td>\n",
       "      <td>0.076715</td>\n",
       "      <td>0.088528</td>\n",
       "      <td>0.083596</td>\n",
       "    </tr>\n",
       "    <tr>\n",
       "      <td>3</td>\n",
       "      <td>0.078571</td>\n",
       "      <td>0.060045</td>\n",
       "      <td>0.068217</td>\n",
       "      <td>0.067885</td>\n",
       "    </tr>\n",
       "    <tr>\n",
       "      <td>4</td>\n",
       "      <td>0.142857</td>\n",
       "      <td>0.051282</td>\n",
       "      <td>0.272727</td>\n",
       "      <td>0.000000</td>\n",
       "    </tr>\n",
       "    <tr>\n",
       "      <td rowspan=\"5\" valign=\"top\">1</td>\n",
       "      <td>0</td>\n",
       "      <td>0.103448</td>\n",
       "      <td>0.057971</td>\n",
       "      <td>0.051724</td>\n",
       "      <td>0.137931</td>\n",
       "    </tr>\n",
       "    <tr>\n",
       "      <td>1</td>\n",
       "      <td>0.100000</td>\n",
       "      <td>0.086806</td>\n",
       "      <td>0.106061</td>\n",
       "      <td>0.121429</td>\n",
       "    </tr>\n",
       "    <tr>\n",
       "      <td>2</td>\n",
       "      <td>0.131514</td>\n",
       "      <td>0.084349</td>\n",
       "      <td>0.121447</td>\n",
       "      <td>0.103139</td>\n",
       "    </tr>\n",
       "    <tr>\n",
       "      <td>3</td>\n",
       "      <td>0.079545</td>\n",
       "      <td>0.078341</td>\n",
       "      <td>0.085973</td>\n",
       "      <td>0.051471</td>\n",
       "    </tr>\n",
       "    <tr>\n",
       "      <td>4</td>\n",
       "      <td>0.000000</td>\n",
       "      <td>0.066667</td>\n",
       "      <td>0.000000</td>\n",
       "      <td>0.000000</td>\n",
       "    </tr>\n",
       "    <tr>\n",
       "      <td rowspan=\"5\" valign=\"top\">2</td>\n",
       "      <td>0</td>\n",
       "      <td>0.222222</td>\n",
       "      <td>0.070175</td>\n",
       "      <td>0.057143</td>\n",
       "      <td>0.066667</td>\n",
       "    </tr>\n",
       "    <tr>\n",
       "      <td>1</td>\n",
       "      <td>0.089109</td>\n",
       "      <td>0.092527</td>\n",
       "      <td>0.150442</td>\n",
       "      <td>0.103448</td>\n",
       "    </tr>\n",
       "    <tr>\n",
       "      <td>2</td>\n",
       "      <td>0.137143</td>\n",
       "      <td>0.095890</td>\n",
       "      <td>0.089820</td>\n",
       "      <td>0.066667</td>\n",
       "    </tr>\n",
       "    <tr>\n",
       "      <td>3</td>\n",
       "      <td>0.110169</td>\n",
       "      <td>0.062718</td>\n",
       "      <td>0.118812</td>\n",
       "      <td>0.033333</td>\n",
       "    </tr>\n",
       "    <tr>\n",
       "      <td>4</td>\n",
       "      <td>0.000000</td>\n",
       "      <td>0.000000</td>\n",
       "      <td>0.500000</td>\n",
       "      <td>0.000000</td>\n",
       "    </tr>\n",
       "    <tr>\n",
       "      <td rowspan=\"5\" valign=\"top\">3</td>\n",
       "      <td>0</td>\n",
       "      <td>0.000000</td>\n",
       "      <td>0.166667</td>\n",
       "      <td>0.000000</td>\n",
       "      <td>0.750000</td>\n",
       "    </tr>\n",
       "    <tr>\n",
       "      <td>1</td>\n",
       "      <td>0.153846</td>\n",
       "      <td>0.022222</td>\n",
       "      <td>0.000000</td>\n",
       "      <td>0.333333</td>\n",
       "    </tr>\n",
       "    <tr>\n",
       "      <td>2</td>\n",
       "      <td>0.041667</td>\n",
       "      <td>0.119403</td>\n",
       "      <td>0.105263</td>\n",
       "      <td>0.066667</td>\n",
       "    </tr>\n",
       "    <tr>\n",
       "      <td>3</td>\n",
       "      <td>0.100000</td>\n",
       "      <td>0.046512</td>\n",
       "      <td>0.000000</td>\n",
       "      <td>0.000000</td>\n",
       "    </tr>\n",
       "    <tr>\n",
       "      <td>4</td>\n",
       "      <td>NaN</td>\n",
       "      <td>0.000000</td>\n",
       "      <td>0.000000</td>\n",
       "      <td>0.000000</td>\n",
       "    </tr>\n",
       "    <tr>\n",
       "      <td rowspan=\"3\" valign=\"top\">4</td>\n",
       "      <td>1</td>\n",
       "      <td>0.000000</td>\n",
       "      <td>0.250000</td>\n",
       "      <td>0.000000</td>\n",
       "      <td>0.000000</td>\n",
       "    </tr>\n",
       "    <tr>\n",
       "      <td>2</td>\n",
       "      <td>0.000000</td>\n",
       "      <td>0.133333</td>\n",
       "      <td>0.000000</td>\n",
       "      <td>0.000000</td>\n",
       "    </tr>\n",
       "    <tr>\n",
       "      <td>3</td>\n",
       "      <td>0.250000</td>\n",
       "      <td>0.000000</td>\n",
       "      <td>NaN</td>\n",
       "      <td>0.000000</td>\n",
       "    </tr>\n",
       "    <tr>\n",
       "      <td rowspan=\"4\" valign=\"top\">5</td>\n",
       "      <td>0</td>\n",
       "      <td>NaN</td>\n",
       "      <td>0.000000</td>\n",
       "      <td>NaN</td>\n",
       "      <td>NaN</td>\n",
       "    </tr>\n",
       "    <tr>\n",
       "      <td>1</td>\n",
       "      <td>0.000000</td>\n",
       "      <td>NaN</td>\n",
       "      <td>NaN</td>\n",
       "      <td>NaN</td>\n",
       "    </tr>\n",
       "    <tr>\n",
       "      <td>2</td>\n",
       "      <td>0.000000</td>\n",
       "      <td>0.000000</td>\n",
       "      <td>NaN</td>\n",
       "      <td>0.000000</td>\n",
       "    </tr>\n",
       "    <tr>\n",
       "      <td>3</td>\n",
       "      <td>NaN</td>\n",
       "      <td>0.000000</td>\n",
       "      <td>0.000000</td>\n",
       "      <td>NaN</td>\n",
       "    </tr>\n",
       "  </tbody>\n",
       "</table>\n",
       "</div>"
      ],
      "text/plain": [
       "credit_type                 автокредит   ипотека  кредит на образование  \\\n",
       "children total_income_type                                                \n",
       "0        0                    0.073394  0.054924               0.068063   \n",
       "         1                    0.089636  0.062783               0.103048   \n",
       "         2                    0.088576  0.076715               0.088528   \n",
       "         3                    0.078571  0.060045               0.068217   \n",
       "         4                    0.142857  0.051282               0.272727   \n",
       "1        0                    0.103448  0.057971               0.051724   \n",
       "         1                    0.100000  0.086806               0.106061   \n",
       "         2                    0.131514  0.084349               0.121447   \n",
       "         3                    0.079545  0.078341               0.085973   \n",
       "         4                    0.000000  0.066667               0.000000   \n",
       "2        0                    0.222222  0.070175               0.057143   \n",
       "         1                    0.089109  0.092527               0.150442   \n",
       "         2                    0.137143  0.095890               0.089820   \n",
       "         3                    0.110169  0.062718               0.118812   \n",
       "         4                    0.000000  0.000000               0.500000   \n",
       "3        0                    0.000000  0.166667               0.000000   \n",
       "         1                    0.153846  0.022222               0.000000   \n",
       "         2                    0.041667  0.119403               0.105263   \n",
       "         3                    0.100000  0.046512               0.000000   \n",
       "         4                         NaN  0.000000               0.000000   \n",
       "4        1                    0.000000  0.250000               0.000000   \n",
       "         2                    0.000000  0.133333               0.000000   \n",
       "         3                    0.250000  0.000000                    NaN   \n",
       "5        0                         NaN  0.000000                    NaN   \n",
       "         1                    0.000000       NaN                    NaN   \n",
       "         2                    0.000000  0.000000                    NaN   \n",
       "         3                         NaN  0.000000               0.000000   \n",
       "\n",
       "credit_type                 потребительский кредит  \n",
       "children total_income_type                          \n",
       "0        0                                0.058824  \n",
       "         1                                0.071942  \n",
       "         2                                0.083596  \n",
       "         3                                0.067885  \n",
       "         4                                0.000000  \n",
       "1        0                                0.137931  \n",
       "         1                                0.121429  \n",
       "         2                                0.103139  \n",
       "         3                                0.051471  \n",
       "         4                                0.000000  \n",
       "2        0                                0.066667  \n",
       "         1                                0.103448  \n",
       "         2                                0.066667  \n",
       "         3                                0.033333  \n",
       "         4                                0.000000  \n",
       "3        0                                0.750000  \n",
       "         1                                0.333333  \n",
       "         2                                0.066667  \n",
       "         3                                0.000000  \n",
       "         4                                0.000000  \n",
       "4        1                                0.000000  \n",
       "         2                                0.000000  \n",
       "         3                                0.000000  \n",
       "5        0                                     NaN  \n",
       "         1                                     NaN  \n",
       "         2                                0.000000  \n",
       "         3                                     NaN  "
      ]
     },
     "execution_count": 138,
     "metadata": {},
     "output_type": "execute_result"
    }
   ],
   "source": [
    "pd.pivot_table(data=df, columns='credit_type', values='debt', index=['children', 'total_income_type'])"
   ]
  },
  {
   "cell_type": "markdown",
   "metadata": {},
   "source": [
    "Посмотрим на процет долгов по кредиту в разрезе количества детей и семейного положения:"
   ]
  },
  {
   "cell_type": "code",
   "execution_count": 139,
   "metadata": {},
   "outputs": [
    {
     "data": {
      "text/html": [
       "<div>\n",
       "<style scoped>\n",
       "    .dataframe tbody tr th:only-of-type {\n",
       "        vertical-align: middle;\n",
       "    }\n",
       "\n",
       "    .dataframe tbody tr th {\n",
       "        vertical-align: top;\n",
       "    }\n",
       "\n",
       "    .dataframe thead th {\n",
       "        text-align: right;\n",
       "    }\n",
       "</style>\n",
       "<table border=\"1\" class=\"dataframe\">\n",
       "  <thead>\n",
       "    <tr style=\"text-align: right;\">\n",
       "      <th></th>\n",
       "      <th>credit_type</th>\n",
       "      <th>автокредит</th>\n",
       "      <th>ипотека</th>\n",
       "      <th>кредит на образование</th>\n",
       "      <th>потребительский кредит</th>\n",
       "    </tr>\n",
       "    <tr>\n",
       "      <th>children</th>\n",
       "      <th>family_status</th>\n",
       "      <th></th>\n",
       "      <th></th>\n",
       "      <th></th>\n",
       "      <th></th>\n",
       "    </tr>\n",
       "  </thead>\n",
       "  <tbody>\n",
       "    <tr>\n",
       "      <td rowspan=\"5\" valign=\"top\">0</td>\n",
       "      <td>Не женат / не замужем</td>\n",
       "      <td>0.123552</td>\n",
       "      <td>0.073815</td>\n",
       "      <td>0.111597</td>\n",
       "      <td>NaN</td>\n",
       "    </tr>\n",
       "    <tr>\n",
       "      <td>в разводе</td>\n",
       "      <td>0.066667</td>\n",
       "      <td>0.067285</td>\n",
       "      <td>0.082278</td>\n",
       "      <td>NaN</td>\n",
       "    </tr>\n",
       "    <tr>\n",
       "      <td>вдовец / вдова</td>\n",
       "      <td>0.094527</td>\n",
       "      <td>0.046809</td>\n",
       "      <td>0.068182</td>\n",
       "      <td>NaN</td>\n",
       "    </tr>\n",
       "    <tr>\n",
       "      <td>гражданский брак</td>\n",
       "      <td>0.099291</td>\n",
       "      <td>0.078582</td>\n",
       "      <td>0.130112</td>\n",
       "      <td>0.074675</td>\n",
       "    </tr>\n",
       "    <tr>\n",
       "      <td>женат / замужем</td>\n",
       "      <td>0.072078</td>\n",
       "      <td>0.065817</td>\n",
       "      <td>0.074542</td>\n",
       "      <td>NaN</td>\n",
       "    </tr>\n",
       "    <tr>\n",
       "      <td rowspan=\"5\" valign=\"top\">1</td>\n",
       "      <td>Не женат / не замужем</td>\n",
       "      <td>0.139785</td>\n",
       "      <td>0.113725</td>\n",
       "      <td>0.099010</td>\n",
       "      <td>NaN</td>\n",
       "    </tr>\n",
       "    <tr>\n",
       "      <td>в разводе</td>\n",
       "      <td>0.088235</td>\n",
       "      <td>0.071038</td>\n",
       "      <td>0.032787</td>\n",
       "      <td>NaN</td>\n",
       "    </tr>\n",
       "    <tr>\n",
       "      <td>вдовец / вдова</td>\n",
       "      <td>0.000000</td>\n",
       "      <td>0.081633</td>\n",
       "      <td>0.176471</td>\n",
       "      <td>NaN</td>\n",
       "    </tr>\n",
       "    <tr>\n",
       "      <td>гражданский брак</td>\n",
       "      <td>0.160377</td>\n",
       "      <td>0.122605</td>\n",
       "      <td>0.187500</td>\n",
       "      <td>0.095685</td>\n",
       "    </tr>\n",
       "    <tr>\n",
       "      <td>женат / замужем</td>\n",
       "      <td>0.097810</td>\n",
       "      <td>0.071807</td>\n",
       "      <td>0.096447</td>\n",
       "      <td>NaN</td>\n",
       "    </tr>\n",
       "    <tr>\n",
       "      <td rowspan=\"5\" valign=\"top\">2</td>\n",
       "      <td>Не женат / не замужем</td>\n",
       "      <td>0.238095</td>\n",
       "      <td>0.083333</td>\n",
       "      <td>0.066667</td>\n",
       "      <td>NaN</td>\n",
       "    </tr>\n",
       "    <tr>\n",
       "      <td>в разводе</td>\n",
       "      <td>0.142857</td>\n",
       "      <td>0.080000</td>\n",
       "      <td>0.105263</td>\n",
       "      <td>NaN</td>\n",
       "    </tr>\n",
       "    <tr>\n",
       "      <td>вдовец / вдова</td>\n",
       "      <td>0.166667</td>\n",
       "      <td>0.125000</td>\n",
       "      <td>0.000000</td>\n",
       "      <td>NaN</td>\n",
       "    </tr>\n",
       "    <tr>\n",
       "      <td>гражданский брак</td>\n",
       "      <td>0.108108</td>\n",
       "      <td>0.129032</td>\n",
       "      <td>0.187500</td>\n",
       "      <td>0.066964</td>\n",
       "    </tr>\n",
       "    <tr>\n",
       "      <td>женат / замужем</td>\n",
       "      <td>0.112760</td>\n",
       "      <td>0.080447</td>\n",
       "      <td>0.108571</td>\n",
       "      <td>NaN</td>\n",
       "    </tr>\n",
       "    <tr>\n",
       "      <td rowspan=\"5\" valign=\"top\">3</td>\n",
       "      <td>Не женат / не замужем</td>\n",
       "      <td>0.000000</td>\n",
       "      <td>0.500000</td>\n",
       "      <td>0.000000</td>\n",
       "      <td>NaN</td>\n",
       "    </tr>\n",
       "    <tr>\n",
       "      <td>в разводе</td>\n",
       "      <td>0.000000</td>\n",
       "      <td>0.100000</td>\n",
       "      <td>NaN</td>\n",
       "      <td>NaN</td>\n",
       "    </tr>\n",
       "    <tr>\n",
       "      <td>вдовец / вдова</td>\n",
       "      <td>NaN</td>\n",
       "      <td>0.000000</td>\n",
       "      <td>0.000000</td>\n",
       "      <td>NaN</td>\n",
       "    </tr>\n",
       "    <tr>\n",
       "      <td>гражданский брак</td>\n",
       "      <td>0.400000</td>\n",
       "      <td>0.000000</td>\n",
       "      <td>0.166667</td>\n",
       "      <td>0.156250</td>\n",
       "    </tr>\n",
       "    <tr>\n",
       "      <td>женат / замужем</td>\n",
       "      <td>0.060000</td>\n",
       "      <td>0.078014</td>\n",
       "      <td>0.051724</td>\n",
       "      <td>NaN</td>\n",
       "    </tr>\n",
       "    <tr>\n",
       "      <td rowspan=\"5\" valign=\"top\">4</td>\n",
       "      <td>Не женат / не замужем</td>\n",
       "      <td>NaN</td>\n",
       "      <td>1.000000</td>\n",
       "      <td>0.000000</td>\n",
       "      <td>NaN</td>\n",
       "    </tr>\n",
       "    <tr>\n",
       "      <td>в разводе</td>\n",
       "      <td>0.000000</td>\n",
       "      <td>NaN</td>\n",
       "      <td>NaN</td>\n",
       "      <td>NaN</td>\n",
       "    </tr>\n",
       "    <tr>\n",
       "      <td>вдовец / вдова</td>\n",
       "      <td>NaN</td>\n",
       "      <td>0.000000</td>\n",
       "      <td>NaN</td>\n",
       "      <td>NaN</td>\n",
       "    </tr>\n",
       "    <tr>\n",
       "      <td>гражданский брак</td>\n",
       "      <td>0.000000</td>\n",
       "      <td>0.000000</td>\n",
       "      <td>NaN</td>\n",
       "      <td>0.000000</td>\n",
       "    </tr>\n",
       "    <tr>\n",
       "      <td>женат / замужем</td>\n",
       "      <td>0.125000</td>\n",
       "      <td>0.133333</td>\n",
       "      <td>0.000000</td>\n",
       "      <td>NaN</td>\n",
       "    </tr>\n",
       "    <tr>\n",
       "      <td rowspan=\"2\" valign=\"top\">5</td>\n",
       "      <td>гражданский брак</td>\n",
       "      <td>0.000000</td>\n",
       "      <td>NaN</td>\n",
       "      <td>NaN</td>\n",
       "      <td>0.000000</td>\n",
       "    </tr>\n",
       "    <tr>\n",
       "      <td>женат / замужем</td>\n",
       "      <td>0.000000</td>\n",
       "      <td>0.000000</td>\n",
       "      <td>0.000000</td>\n",
       "      <td>NaN</td>\n",
       "    </tr>\n",
       "  </tbody>\n",
       "</table>\n",
       "</div>"
      ],
      "text/plain": [
       "credit_type                     автокредит   ипотека  кредит на образование  \\\n",
       "children family_status                                                        \n",
       "0        Не женат / не замужем    0.123552  0.073815               0.111597   \n",
       "         в разводе                0.066667  0.067285               0.082278   \n",
       "         вдовец / вдова           0.094527  0.046809               0.068182   \n",
       "         гражданский брак         0.099291  0.078582               0.130112   \n",
       "         женат / замужем          0.072078  0.065817               0.074542   \n",
       "1        Не женат / не замужем    0.139785  0.113725               0.099010   \n",
       "         в разводе                0.088235  0.071038               0.032787   \n",
       "         вдовец / вдова           0.000000  0.081633               0.176471   \n",
       "         гражданский брак         0.160377  0.122605               0.187500   \n",
       "         женат / замужем          0.097810  0.071807               0.096447   \n",
       "2        Не женат / не замужем    0.238095  0.083333               0.066667   \n",
       "         в разводе                0.142857  0.080000               0.105263   \n",
       "         вдовец / вдова           0.166667  0.125000               0.000000   \n",
       "         гражданский брак         0.108108  0.129032               0.187500   \n",
       "         женат / замужем          0.112760  0.080447               0.108571   \n",
       "3        Не женат / не замужем    0.000000  0.500000               0.000000   \n",
       "         в разводе                0.000000  0.100000                    NaN   \n",
       "         вдовец / вдова                NaN  0.000000               0.000000   \n",
       "         гражданский брак         0.400000  0.000000               0.166667   \n",
       "         женат / замужем          0.060000  0.078014               0.051724   \n",
       "4        Не женат / не замужем         NaN  1.000000               0.000000   \n",
       "         в разводе                0.000000       NaN                    NaN   \n",
       "         вдовец / вдова                NaN  0.000000                    NaN   \n",
       "         гражданский брак         0.000000  0.000000                    NaN   \n",
       "         женат / замужем          0.125000  0.133333               0.000000   \n",
       "5        гражданский брак         0.000000       NaN                    NaN   \n",
       "         женат / замужем          0.000000  0.000000               0.000000   \n",
       "\n",
       "credit_type                     потребительский кредит  \n",
       "children family_status                                  \n",
       "0        Не женат / не замужем                     NaN  \n",
       "         в разводе                                 NaN  \n",
       "         вдовец / вдова                            NaN  \n",
       "         гражданский брак                     0.074675  \n",
       "         женат / замужем                           NaN  \n",
       "1        Не женат / не замужем                     NaN  \n",
       "         в разводе                                 NaN  \n",
       "         вдовец / вдова                            NaN  \n",
       "         гражданский брак                     0.095685  \n",
       "         женат / замужем                           NaN  \n",
       "2        Не женат / не замужем                     NaN  \n",
       "         в разводе                                 NaN  \n",
       "         вдовец / вдова                            NaN  \n",
       "         гражданский брак                     0.066964  \n",
       "         женат / замужем                           NaN  \n",
       "3        Не женат / не замужем                     NaN  \n",
       "         в разводе                                 NaN  \n",
       "         вдовец / вдова                            NaN  \n",
       "         гражданский брак                     0.156250  \n",
       "         женат / замужем                           NaN  \n",
       "4        Не женат / не замужем                     NaN  \n",
       "         в разводе                                 NaN  \n",
       "         вдовец / вдова                            NaN  \n",
       "         гражданский брак                     0.000000  \n",
       "         женат / замужем                           NaN  \n",
       "5        гражданский брак                     0.000000  \n",
       "         женат / замужем                           NaN  "
      ]
     },
     "execution_count": 139,
     "metadata": {},
     "output_type": "execute_result"
    }
   ],
   "source": [
    "pd.pivot_table(data=df, columns='credit_type', values='debt', index=['children', 'family_status'])"
   ]
  },
  {
   "cell_type": "markdown",
   "metadata": {},
   "source": [
    "Посмотрим на процет долгов по кредиту в разрезе пола и типа доходов (женщины закодированы `0`, мужчины – `1`):"
   ]
  },
  {
   "cell_type": "code",
   "execution_count": 142,
   "metadata": {},
   "outputs": [
    {
     "data": {
      "text/html": [
       "<div>\n",
       "<style scoped>\n",
       "    .dataframe tbody tr th:only-of-type {\n",
       "        vertical-align: middle;\n",
       "    }\n",
       "\n",
       "    .dataframe tbody tr th {\n",
       "        vertical-align: top;\n",
       "    }\n",
       "\n",
       "    .dataframe thead th {\n",
       "        text-align: right;\n",
       "    }\n",
       "</style>\n",
       "<table border=\"1\" class=\"dataframe\">\n",
       "  <thead>\n",
       "    <tr style=\"text-align: right;\">\n",
       "      <th></th>\n",
       "      <th>credit_type</th>\n",
       "      <th>автокредит</th>\n",
       "      <th>ипотека</th>\n",
       "      <th>кредит на образование</th>\n",
       "      <th>потребительский кредит</th>\n",
       "    </tr>\n",
       "    <tr>\n",
       "      <th>gender</th>\n",
       "      <th>income_type</th>\n",
       "      <th></th>\n",
       "      <th></th>\n",
       "      <th></th>\n",
       "      <th></th>\n",
       "    </tr>\n",
       "  </thead>\n",
       "  <tbody>\n",
       "    <tr>\n",
       "      <td rowspan=\"7\" valign=\"top\">0</td>\n",
       "      <td>безработный</td>\n",
       "      <td>NaN</td>\n",
       "      <td>0.000000</td>\n",
       "      <td>NaN</td>\n",
       "      <td>NaN</td>\n",
       "    </tr>\n",
       "    <tr>\n",
       "      <td>в декрете</td>\n",
       "      <td>1.000000</td>\n",
       "      <td>NaN</td>\n",
       "      <td>NaN</td>\n",
       "      <td>NaN</td>\n",
       "    </tr>\n",
       "    <tr>\n",
       "      <td>госслужащий</td>\n",
       "      <td>0.072464</td>\n",
       "      <td>0.043165</td>\n",
       "      <td>0.081081</td>\n",
       "      <td>0.033058</td>\n",
       "    </tr>\n",
       "    <tr>\n",
       "      <td>компаньон</td>\n",
       "      <td>0.069018</td>\n",
       "      <td>0.063012</td>\n",
       "      <td>0.061789</td>\n",
       "      <td>0.084592</td>\n",
       "    </tr>\n",
       "    <tr>\n",
       "      <td>пенсионер</td>\n",
       "      <td>0.062121</td>\n",
       "      <td>0.043109</td>\n",
       "      <td>0.062185</td>\n",
       "      <td>0.060519</td>\n",
       "    </tr>\n",
       "    <tr>\n",
       "      <td>предприниматель</td>\n",
       "      <td>NaN</td>\n",
       "      <td>NaN</td>\n",
       "      <td>NaN</td>\n",
       "      <td>0.000000</td>\n",
       "    </tr>\n",
       "    <tr>\n",
       "      <td>сотрудник</td>\n",
       "      <td>0.098951</td>\n",
       "      <td>0.074838</td>\n",
       "      <td>0.092417</td>\n",
       "      <td>0.071429</td>\n",
       "    </tr>\n",
       "    <tr>\n",
       "      <td rowspan=\"7\" valign=\"top\">1</td>\n",
       "      <td>безработный</td>\n",
       "      <td>NaN</td>\n",
       "      <td>1.000000</td>\n",
       "      <td>NaN</td>\n",
       "      <td>NaN</td>\n",
       "    </tr>\n",
       "    <tr>\n",
       "      <td>госслужащий</td>\n",
       "      <td>0.089744</td>\n",
       "      <td>0.060914</td>\n",
       "      <td>0.083333</td>\n",
       "      <td>0.081081</td>\n",
       "    </tr>\n",
       "    <tr>\n",
       "      <td>компаньон</td>\n",
       "      <td>0.100503</td>\n",
       "      <td>0.070304</td>\n",
       "      <td>0.100592</td>\n",
       "      <td>0.122449</td>\n",
       "    </tr>\n",
       "    <tr>\n",
       "      <td>пенсионер</td>\n",
       "      <td>0.074627</td>\n",
       "      <td>0.073034</td>\n",
       "      <td>0.088000</td>\n",
       "      <td>0.049383</td>\n",
       "    </tr>\n",
       "    <tr>\n",
       "      <td>предприниматель</td>\n",
       "      <td>NaN</td>\n",
       "      <td>0.000000</td>\n",
       "      <td>NaN</td>\n",
       "      <td>NaN</td>\n",
       "    </tr>\n",
       "    <tr>\n",
       "      <td>сотрудник</td>\n",
       "      <td>0.133253</td>\n",
       "      <td>0.104930</td>\n",
       "      <td>0.138614</td>\n",
       "      <td>0.104677</td>\n",
       "    </tr>\n",
       "    <tr>\n",
       "      <td>студент</td>\n",
       "      <td>NaN</td>\n",
       "      <td>0.000000</td>\n",
       "      <td>NaN</td>\n",
       "      <td>NaN</td>\n",
       "    </tr>\n",
       "  </tbody>\n",
       "</table>\n",
       "</div>"
      ],
      "text/plain": [
       "credit_type             автокредит   ипотека  кредит на образование  \\\n",
       "gender income_type                                                    \n",
       "0      безработный             NaN  0.000000                    NaN   \n",
       "       в декрете          1.000000       NaN                    NaN   \n",
       "       госслужащий        0.072464  0.043165               0.081081   \n",
       "       компаньон          0.069018  0.063012               0.061789   \n",
       "       пенсионер          0.062121  0.043109               0.062185   \n",
       "       предприниматель         NaN       NaN                    NaN   \n",
       "       сотрудник          0.098951  0.074838               0.092417   \n",
       "1      безработный             NaN  1.000000                    NaN   \n",
       "       госслужащий        0.089744  0.060914               0.083333   \n",
       "       компаньон          0.100503  0.070304               0.100592   \n",
       "       пенсионер          0.074627  0.073034               0.088000   \n",
       "       предприниматель         NaN  0.000000                    NaN   \n",
       "       сотрудник          0.133253  0.104930               0.138614   \n",
       "       студент                 NaN  0.000000                    NaN   \n",
       "\n",
       "credit_type             потребительский кредит  \n",
       "gender income_type                              \n",
       "0      безработный                         NaN  \n",
       "       в декрете                           NaN  \n",
       "       госслужащий                    0.033058  \n",
       "       компаньон                      0.084592  \n",
       "       пенсионер                      0.060519  \n",
       "       предприниматель                0.000000  \n",
       "       сотрудник                      0.071429  \n",
       "1      безработный                         NaN  \n",
       "       госслужащий                    0.081081  \n",
       "       компаньон                      0.122449  \n",
       "       пенсионер                      0.049383  \n",
       "       предприниматель                     NaN  \n",
       "       сотрудник                      0.104677  \n",
       "       студент                             NaN  "
      ]
     },
     "execution_count": 142,
     "metadata": {},
     "output_type": "execute_result"
    }
   ],
   "source": [
    "pd.pivot_table(data=df, columns='credit_type', values='debt', index=['gender', 'income_type'])"
   ]
  },
  {
   "cell_type": "markdown",
   "metadata": {},
   "source": [
    "Доля выданных кредитов"
   ]
  },
  {
   "cell_type": "code",
   "execution_count": 144,
   "metadata": {},
   "outputs": [
    {
     "data": {
      "text/plain": [
       "ипотека                   0.503618\n",
       "автокредит                0.200579\n",
       "кредит на образование     0.186902\n",
       "потребительский кредит    0.108902\n",
       "Name: credit_type, dtype: float64"
      ]
     },
     "execution_count": 144,
     "metadata": {},
     "output_type": "execute_result"
    }
   ],
   "source": [
    "df['credit_type'].value_counts(normalize=True)"
   ]
  },
  {
   "cell_type": "markdown",
   "metadata": {},
   "source": [
    "Посмотрим на некоторые социально-демографические показатели (вторая колонка количество выданных кредитов):\n",
    "\n",
    "*- уровень образования*"
   ]
  },
  {
   "cell_type": "code",
   "execution_count": 167,
   "metadata": {},
   "outputs": [
    {
     "data": {
      "text/plain": [
       "education\n",
       "среднее                15151\n",
       "высшее                  5242\n",
       "неоконченное высшее      742\n",
       "начальное                282\n",
       "ученая степень             6\n",
       "Name: credit_type, dtype: int64"
      ]
     },
     "execution_count": 167,
     "metadata": {},
     "output_type": "execute_result"
    }
   ],
   "source": [
    "df.groupby(by='education')['credit_type'].count().sort_values(ascending=False)"
   ]
  },
  {
   "cell_type": "markdown",
   "metadata": {},
   "source": [
    "*- семейное положение*"
   ]
  },
  {
   "cell_type": "code",
   "execution_count": 168,
   "metadata": {},
   "outputs": [
    {
     "data": {
      "text/plain": [
       "family_status\n",
       "женат / замужем          12315\n",
       "гражданский брак          4157\n",
       "Не женат / не замужем     2805\n",
       "в разводе                 1191\n",
       "вдовец / вдова             955\n",
       "Name: credit_type, dtype: int64"
      ]
     },
     "execution_count": 168,
     "metadata": {},
     "output_type": "execute_result"
    }
   ],
   "source": [
    "df.groupby(by='family_status')['credit_type'].count().sort_values(ascending=False)"
   ]
  },
  {
   "cell_type": "markdown",
   "metadata": {},
   "source": [
    "*- пол*"
   ]
  },
  {
   "cell_type": "code",
   "execution_count": 169,
   "metadata": {},
   "outputs": [
    {
     "data": {
      "text/plain": [
       "gender\n",
       "0    14154\n",
       "1     7269\n",
       "Name: credit_type, dtype: int64"
      ]
     },
     "execution_count": 169,
     "metadata": {},
     "output_type": "execute_result"
    }
   ],
   "source": [
    "df.groupby(by='gender')['credit_type'].count().sort_values(ascending=False)"
   ]
  },
  {
   "cell_type": "markdown",
   "metadata": {},
   "source": [
    "*- тип занятости*"
   ]
  },
  {
   "cell_type": "code",
   "execution_count": 170,
   "metadata": {},
   "outputs": [
    {
     "data": {
      "text/plain": [
       "income_type\n",
       "сотрудник          11065\n",
       "компаньон           5070\n",
       "пенсионер           3829\n",
       "госслужащий         1453\n",
       "предприниматель        2\n",
       "безработный            2\n",
       "студент                1\n",
       "в декрете              1\n",
       "Name: credit_type, dtype: int64"
      ]
     },
     "execution_count": 170,
     "metadata": {},
     "output_type": "execute_result"
    }
   ],
   "source": [
    "df.groupby(by='income_type')['credit_type'].count().sort_values(ascending=False)"
   ]
  },
  {
   "cell_type": "markdown",
   "metadata": {},
   "source": [
    "*- уровень дохода*"
   ]
  },
  {
   "cell_type": "code",
   "execution_count": 171,
   "metadata": {},
   "outputs": [
    {
     "data": {
      "text/plain": [
       "total_income_type\n",
       "2    9031\n",
       "3    5451\n",
       "1    5363\n",
       "0    1469\n",
       "4     109\n",
       "Name: credit_type, dtype: int64"
      ]
     },
     "execution_count": 171,
     "metadata": {},
     "output_type": "execute_result"
    }
   ],
   "source": [
    "df.groupby(by='total_income_type')['credit_type'].count().sort_values(ascending=False)"
   ]
  },
  {
   "cell_type": "markdown",
   "metadata": {},
   "source": [
    "*- стаж*"
   ]
  },
  {
   "cell_type": "code",
   "execution_count": 182,
   "metadata": {},
   "outputs": [
    {
     "data": {
      "text/plain": [
       "dob_years_type\n",
       "1    15412\n",
       "2     5137\n",
       "0      874\n",
       "Name: credit_type, dtype: int64"
      ]
     },
     "execution_count": 182,
     "metadata": {},
     "output_type": "execute_result"
    }
   ],
   "source": [
    "df.groupby(by='dob_years_type')['credit_type'].count().sort_values(ascending=False)"
   ]
  },
  {
   "cell_type": "markdown",
   "metadata": {},
   "source": [
    "*- возраст*"
   ]
  },
  {
   "cell_type": "code",
   "execution_count": 186,
   "metadata": {},
   "outputs": [
    {
     "data": {
      "text/plain": [
       "36.9"
      ]
     },
     "execution_count": 186,
     "metadata": {},
     "output_type": "execute_result"
    }
   ],
   "source": [
    "sum(df.groupby(by='dob_years')['credit_type'].count().sort_values(ascending=False).index[:10]) / 10"
   ]
  },
  {
   "cell_type": "markdown",
   "metadata": {},
   "source": [
    "*- количество детей*"
   ]
  },
  {
   "cell_type": "code",
   "execution_count": 187,
   "metadata": {},
   "outputs": [
    {
     "data": {
      "text/plain": [
       "children\n",
       "0    14106\n",
       "1     4809\n",
       "2     2128\n",
       "3      330\n",
       "4       41\n",
       "5        9\n",
       "Name: credit_type, dtype: int64"
      ]
     },
     "execution_count": 187,
     "metadata": {},
     "output_type": "execute_result"
    }
   ],
   "source": [
    "df.groupby(by='children')['credit_type'].count().sort_values(ascending=False)"
   ]
  },
  {
   "cell_type": "markdown",
   "metadata": {},
   "source": [
    "### Шаг 4. Общий вывод"
   ]
  },
  {
   "cell_type": "markdown",
   "metadata": {},
   "source": [
    "Поиск зависимостей и закономерностей в данных – важная часть задачи кредитного скоринга. Для построения высокоточного предиктивного алгоритма, который сможет предсказывать вернет ли заемщик кредит в срок и без задержек или нет, необходимо выявить ключевые признаки, которые в большей мере влияют на целевую переменную. Из всех представленных признаков в датафрейме ***более всего коррелирует с признаком наличия задолженности по кредиту – признак, описывающий уровень образования у клиента***. Чем ниже уровень образования, тем больший процент задержек по платежам по кредиту есть у клиентов. При этом следует уточнить, что все признаки, включая и уровень образования в общем имеют слабую корреляционную связь с задолженностью по кредиту. Между уровнем дохода и задолженностью по кредиту корреляция и вовсе близка к нулю.\n",
    "\n",
    "Можно выдвинуть гипотезу, что большей корреляцией могут обладать группы категориальных признаков, а не каждый из них по отдельности. *Некоторые пары признаков для примера представлены в таблицах выше.* Тем не менее уже сейчас можно построить простой алгоритм на основе решающих деревье для предсказания вероятности возврата кредита без задержек на данной группе признаков.\n",
    "\n",
    "Общие характеристики выданных кредитов банка можно описать следующим образом:\n",
    "* больше всего было выдано ипотечных кредитов (50.3%), на втором месте автокредит (20.1%), на третьем – кредит на образование (18.7%), последнее место у потребительского кредита (10.9%);\n",
    "* в целом 91.5% клиентов со 100% вероятностью выплачивает кредиты в срок без задержек, 7.8% – со 100% задержками, 0.6% – с задержкой в 50%, остальные – 0.1% с задеркой с вероятностью 33% и менее;\n",
    "* больше всего кредито было выдано клиентам со средним образованием, меньше всего клиентам с ученой степенью;\n",
    "* женщинам было выдано в два раза больше кредитов, чем мужчинам;\n",
    "* основыми клиентами являются сотрудники и компаньоны, а также пенсионеры и госслужащие, предпринимателям было вылано всего 2 кредита;\n",
    "* бездетным выдается больше кредитов, чем клиентам с детьми.\n",
    "\n",
    "\n",
    "\n",
    "<div align=\"center\" border=\"1px\"><strong><br/><br/>Портрет ключевого клиента выглядит следующим образом:<br/>   \n",
    "женщина, 37 лет, сотрудник со средним образованием, замужем, без детей, с доходом от 120000₽ до 200000₽<br/><br/></strong></div>\n",
    "\n",
    "\n",
    "Другие интересные особенности, которые были замечены в процессе исследования данных:\n",
    "* чем больше уровень дохода у клиентов с начальным образованием, тем выше доля долгов по кредиту; этокасается всех типов кредитов, но не кредита на образование – клиенты с  самым высоким доходом всегда закрывают кредит на образование без долгов;\n",
    "* клиенты с ученой степенью всегда погашают кредиты в срок;\n",
    "* у клиентов со средним образованием и показатели по возврату кредитов в срок – тоже средние, это релевантно для всех типов кредитов;\n",
    "* клиенты с высшим образованием с ростом доходов быстрее закрывают ипотеку, во всяком случае доля долгов по ипотекчному кредиту у этой группы с ростом доходов падает;\n",
    "* у клиентов с низким доходом с ростом количества детей растет доля просрочек по ипотечным кредитам;\n",
    "* клиенты с большим количеством детей (больше 3-х) не имеют задолженностей по образовательному и потребительскому кредитам;\n",
    "* все клиенты, имеющие 3-х и более детей – семейные пары и имеют в основном задолженности по авткредиту или по ипотеке;\n",
    "* безработные мужчины могут получить ипотеку (и иметь задолженность по ней в 100% случаев), а безработные женщины могут получить автокредит, также со 100% вероятностью задержать сроки выплат по кредиту;\n",
    "* декрет как правило означает просрочку платежей, в основом за автомобиль;\n",
    "* госслужащие мужчины имеют больше просрочек по кредту, чем их коллеги женщины;\n",
    "* а вот пенсионерки наоборот, задерживают платежи в большей вероятностью, чем пенсионеры.\n",
    "\n",
    "Итак, однозначного признака, от которого зависит возврат кредита не обнаружено. Наиболее коррелирует с вероятностью появления долгов по кредиту признак уровня образования, остальные признаки или имеют слубую корреляцию или не имеют ее вовсе."
   ]
  },
  {
   "cell_type": "markdown",
   "metadata": {},
   "source": [
    "### Чек-лист готовности проекта\n",
    "\n",
    "Поставьте 'x' в выполненных пунктах. Далее нажмите Shift+Enter."
   ]
  },
  {
   "cell_type": "markdown",
   "metadata": {},
   "source": [
    "- [x]  открыт файл;\n",
    "- [x]  файл изучен;\n",
    "- [x]  определены пропущенные значения;\n",
    "- [x]  заполнены пропущенные значения;\n",
    "- [x]  есть пояснение какие пропущенные значения обнаружены;\n",
    "- [x]  описаны возможные причины появления пропусков в данных;\n",
    "- [x]  объяснено по какому принципу заполнены пропуски;\n",
    "- [x]  заменен вещественный тип данных на целочисленный;\n",
    "- [x]  есть пояснение какой метод используется для изменения типа данных и почему;\n",
    "- [x]  удалены дубликаты;\n",
    "- [x]  есть пояснение какой метод используется для поиска и удаления дубликатов;\n",
    "- [x]  описаны возможные причины появления дубликатов в данных;\n",
    "- [x]  выделены леммы в значениях столбца с целями получения кредита;\n",
    "- [x]  описан процесс лемматизации;\n",
    "- [x]  данные категоризированы;\n",
    "- [x]  есть объяснение принципа категоризации данных;\n",
    "- [x]  есть ответ на вопрос \"Есть ли зависимость между наличием детей и возвратом кредита в срок?\";\n",
    "- [x]  есть ответ на вопрос \"Есть ли зависимость между семейным положением и возвратом кредита в срок?\";\n",
    "- [x]  есть ответ на вопрос \"Есть ли зависимость между уровнем дохода и возвратом кредита в срок?\";\n",
    "- [x]  есть ответ на вопрос \"Как разные цели кредита влияют на его возврат в срок?\";\n",
    "- [x]  в каждом этапе есть выводы;\n",
    "- [x]  есть общий вывод."
   ]
  }
 ],
 "metadata": {
  "kernelspec": {
   "display_name": "Python 3",
   "language": "python",
   "name": "python3"
  },
  "language_info": {
   "codemirror_mode": {
    "name": "ipython",
    "version": 3
   },
   "file_extension": ".py",
   "mimetype": "text/x-python",
   "name": "python",
   "nbconvert_exporter": "python",
   "pygments_lexer": "ipython3",
   "version": "3.7.3"
  }
 },
 "nbformat": 4,
 "nbformat_minor": 2
}

{
 "cells": [
  {
   "cell_type": "markdown",
   "metadata": {},
   "source": [
    "# Работа с датой и временем\n",
    "Даты и время (тип `datetime`) часто встречаются во время предобработки данных для машинного обучения, будь то время конкретной продажи или год сбора каких-либо статистических данных общественного здравоохранения. Рассмотрим стратегии обработки временных рядов, включая решение проблемы, связанной с часовыми поясами и создание признаков с запаздыванием во времени с помощью инструментов временных рядов библиотеки pandas.\n",
    "\n",
    "***"
   ]
  },
  {
   "cell_type": "markdown",
   "metadata": {},
   "source": [
    "# Конвертировать строки в метки datetime"
   ]
  },
  {
   "cell_type": "markdown",
   "metadata": {},
   "source": [
    "### 1. Конвертирование строковых значений в даты\n",
    "##### Задача\n",
    "Дан вектор строк, представляющих даты и время, требуется преобразовать их в данные временных рядов\n",
    "##### Решение\n",
    "Используем функцию `to_datetime()` библиотеки pandas с параметром `format=`"
   ]
  },
  {
   "cell_type": "code",
   "execution_count": 40,
   "metadata": {},
   "outputs": [
    {
     "data": {
      "text/plain": [
       "[Timestamp('2019-03-02 23:35:00'),\n",
       " Timestamp('2018-05-23 00:01:00'),\n",
       " Timestamp('2011-05-30 19:55:00')]"
      ]
     },
     "execution_count": 40,
     "metadata": {},
     "output_type": "execute_result"
    }
   ],
   "source": [
    "# Загрузить библиотеки\n",
    "import pandas as pd \n",
    "import numpy as np\n",
    "\n",
    "# Создать строки\n",
    "date_strings = np.array([\n",
    "                    '02-03-2019 11:35 PM',\n",
    "                    '23-05-2018 12:01 AM',\n",
    "                    '30-05-2011 07:55 PM',\n",
    "                ])\n",
    "\n",
    "# Конвертировать строки в метки datetime\n",
    "[pd.to_datetime(date, format='%d-%m-%Y %I:%M %p') for date in date_strings]"
   ]
  },
  {
   "cell_type": "markdown",
   "metadata": {},
   "source": [
    "Возможно возникнет необходимость добавить аргумент в параметр `errors=` для устранения проблем:"
   ]
  },
  {
   "cell_type": "code",
   "execution_count": 4,
   "metadata": {},
   "outputs": [
    {
     "data": {
      "text/plain": [
       "[Timestamp('2019-03-02 23:35:00'),\n",
       " Timestamp('2018-05-23 00:01:00'),\n",
       " Timestamp('2011-05-30 19:55:00')]"
      ]
     },
     "execution_count": 4,
     "metadata": {},
     "output_type": "execute_result"
    }
   ],
   "source": [
    "[pd.to_datetime(date, format='%d-%m-%Y %I:%M %p', errors='coerce') for date in date_strings]"
   ]
  },
  {
   "cell_type": "markdown",
   "metadata": {},
   "source": [
    "Если задан параметр `errors='coerce'`, то любая возникшая проблема не вызовет ошибку (поведение по умолчанию), а вместо этого установит значение, вызывающее ошибку равным `NaT` ( от англ. – $Not$ $a$ $Time$).\n",
    "\n",
    "Когда даты и время поступают в виде строковых значений, требуется их преобразовать в тип данных, который Python сможет понять. Хотя существует ряд инструментов самого языка Python для преобразования строк в тип `datetime`, для ускорения процесса приведения типов рекомендуется применять функцию `to_datetime()` библиотеки pandas.\n",
    "\n",
    "Одним из препятствий для преобразования строк в дату и время является то, что формат записи значений даты и времени в строку может отличаться от источника к источнику данных. Например, один вектор дат может быть записан в формате: `23 марта 1997 г.`, другой как `03-23-97`, а третий – `23/3/1997` и т.д. Для указания точного соответствия текстовому формату записи используется парметр `format=`.\n",
    "\n",
    "| Код | Описание | Пример |\n",
    "|-----|----------|--------|\n",
    "|%Y|Полный год|2001|\n",
    "|%m|Месяц с дополнительным нулем|04|\n",
    "|%d|День месяца с дополнительным нулем|09|\n",
    "|%I|Час (12-ти часовое измерени) с дополнительным нулем|02|\n",
    "|%p|AM (до полудня) или PM (после полудня)|AM|\n",
    "|%M|Минута с дополнительным нулем|06|\n",
    "|%S|Секунда с дополнительным нулем|05|\n",
    "\n",
    "##### Дополнительные материалы\n",
    "* [Полный список строковых кодов Python](https://strftime.org/)"
   ]
  },
  {
   "cell_type": "markdown",
   "metadata": {},
   "source": [
    "### 2. Обработка часовых поясов\n",
    "##### Задача\n",
    "Дан временной ряд, требуется добавить или изменить информацию о часовом поясе\n",
    "##### Решение\n",
    "Если не указано иное, объекты pandas часового пояса не имеют. Вместе с тем можно добавить часовой пояс с помощью парметра `tz=` во время создания:"
   ]
  },
  {
   "cell_type": "code",
   "execution_count": 5,
   "metadata": {},
   "outputs": [
    {
     "data": {
      "text/plain": [
       "Timestamp('2020-01-18 11:47:00+0300', tz='Europe/Moscow')"
      ]
     },
     "execution_count": 5,
     "metadata": {},
     "output_type": "execute_result"
    }
   ],
   "source": [
    "# Создать метку datetime\n",
    "pd.Timestamp('2020-01-18 11:47', tz='Europe/Moscow')"
   ]
  },
  {
   "cell_type": "markdown",
   "metadata": {},
   "source": [
    "Часовой пояс можно добавить к ранее созданной метке времени `datetime` с помощью метода `tz_localize()`:"
   ]
  },
  {
   "cell_type": "code",
   "execution_count": 6,
   "metadata": {},
   "outputs": [
    {
     "data": {
      "text/plain": [
       "Timestamp('2020-01-01 01:01:00+0300', tz='Europe/Moscow')"
      ]
     },
     "execution_count": 6,
     "metadata": {},
     "output_type": "execute_result"
    }
   ],
   "source": [
    "# Создать метку datetime\n",
    "date = pd.Timestamp('2020-01-01 01:01')\n",
    "\n",
    "# Задачть часовой пояс\n",
    "date_in_Moscow = date.tz_localize('Europe/Moscow')\n",
    "\n",
    "# Показать метку datetime\n",
    "date_in_Moscow"
   ]
  },
  {
   "cell_type": "markdown",
   "metadata": {},
   "source": [
    "Также можно выполнить преобразование в другой часовой пояс:"
   ]
  },
  {
   "cell_type": "code",
   "execution_count": 7,
   "metadata": {},
   "outputs": [
    {
     "data": {
      "text/plain": [
       "Timestamp('2019-12-31 22:01:00+0000', tz='Europe/London')"
      ]
     },
     "execution_count": 7,
     "metadata": {},
     "output_type": "execute_result"
    }
   ],
   "source": [
    "# Изменить часовой пояс\n",
    "date_in_Moscow.tz_convert('Europe/London')"
   ]
  },
  {
   "cell_type": "markdown",
   "metadata": {},
   "source": [
    "Объекты класса `Series` библиотеки pandas могут применять методы `tz_localize()` и `tz_convert()` к каждому элементу:"
   ]
  },
  {
   "cell_type": "code",
   "execution_count": 11,
   "metadata": {},
   "outputs": [
    {
     "data": {
      "text/plain": [
       "0   2019-02-28 00:00:00+00:00\n",
       "1   2019-03-31 00:00:00+00:00\n",
       "2   2019-04-30 00:00:00+00:00\n",
       "dtype: datetime64[ns, Africa/Abidjan]"
      ]
     },
     "execution_count": 11,
     "metadata": {},
     "output_type": "execute_result"
    }
   ],
   "source": [
    "# Создать три даты\n",
    "dates = pd.Series(pd.date_range('2/2/2019', periods=3, freq='M'))\n",
    "\n",
    "# Задать часовой пояс\n",
    "dates.dt.tz_localize('Africa/Abidjan')"
   ]
  },
  {
   "cell_type": "markdown",
   "metadata": {},
   "source": [
    "Библиотека pandas поддерживает два набора строковых значений, представляющих часовые пояса, например строки библитеки $pytz$. импортировав массив `all_timezones`, можно увидеть все строки, используемые для представления часовых поясов:"
   ]
  },
  {
   "cell_type": "code",
   "execution_count": 13,
   "metadata": {},
   "outputs": [
    {
     "data": {
      "text/plain": [
       "['Africa/Abidjan',\n",
       " 'Africa/Accra',\n",
       " 'Africa/Addis_Ababa',\n",
       " 'Africa/Algiers',\n",
       " 'Africa/Asmara']"
      ]
     },
     "execution_count": 13,
     "metadata": {},
     "output_type": "execute_result"
    }
   ],
   "source": [
    "# Загрузить библиотеку\n",
    "from pytz import all_timezones\n",
    "\n",
    "# Показать часовые пояса\n",
    "all_timezones[:5]"
   ]
  },
  {
   "cell_type": "markdown",
   "metadata": {},
   "source": [
    "### 3. Выбор дат и времени\n",
    "##### Задача\n",
    "Дан вектор дат, требуется выбрать одну дату или несколько\n",
    "##### Решение\n",
    "Используем условные выражения в качестве начальной и конечной даты"
   ]
  },
  {
   "cell_type": "code",
   "execution_count": 14,
   "metadata": {},
   "outputs": [
    {
     "data": {
      "text/html": [
       "<div>\n",
       "<style scoped>\n",
       "    .dataframe tbody tr th:only-of-type {\n",
       "        vertical-align: middle;\n",
       "    }\n",
       "\n",
       "    .dataframe tbody tr th {\n",
       "        vertical-align: top;\n",
       "    }\n",
       "\n",
       "    .dataframe thead th {\n",
       "        text-align: right;\n",
       "    }\n",
       "</style>\n",
       "<table border=\"1\" class=\"dataframe\">\n",
       "  <thead>\n",
       "    <tr style=\"text-align: right;\">\n",
       "      <th></th>\n",
       "      <th>дата</th>\n",
       "    </tr>\n",
       "  </thead>\n",
       "  <tbody>\n",
       "    <tr>\n",
       "      <td>8762</td>\n",
       "      <td>2002-01-01 02:00:00</td>\n",
       "    </tr>\n",
       "    <tr>\n",
       "      <td>8763</td>\n",
       "      <td>2002-01-01 03:00:00</td>\n",
       "    </tr>\n",
       "    <tr>\n",
       "      <td>8764</td>\n",
       "      <td>2002-01-01 04:00:00</td>\n",
       "    </tr>\n",
       "    <tr>\n",
       "      <td>8765</td>\n",
       "      <td>2002-01-01 05:00:00</td>\n",
       "    </tr>\n",
       "  </tbody>\n",
       "</table>\n",
       "</div>"
      ],
      "text/plain": [
       "                    дата\n",
       "8762 2002-01-01 02:00:00\n",
       "8763 2002-01-01 03:00:00\n",
       "8764 2002-01-01 04:00:00\n",
       "8765 2002-01-01 05:00:00"
      ]
     },
     "execution_count": 14,
     "metadata": {},
     "output_type": "execute_result"
    }
   ],
   "source": [
    "# Создать фрейм данных\n",
    "df = pd.DataFrame()\n",
    "\n",
    "# Создать метки datetime\n",
    "df['дата'] = pd.date_range('1/1/2001', periods=10000, freq='H')\n",
    "\n",
    "# Выбрать наблюдения между двумя метками datetime\n",
    "df[(df['дата'] > '2002-1-1 01:00:00') & (df['дата'] < '2002-1-1 05:34:21')]"
   ]
  },
  {
   "cell_type": "markdown",
   "metadata": {},
   "source": [
    "В качестве альтернативы можно установить столбец даты как индекс фрейма данных, а затем сделать срез с помощью метода `loc()`:\n"
   ]
  },
  {
   "cell_type": "code",
   "execution_count": 17,
   "metadata": {},
   "outputs": [
    {
     "data": {
      "text/html": [
       "<div>\n",
       "<style scoped>\n",
       "    .dataframe tbody tr th:only-of-type {\n",
       "        vertical-align: middle;\n",
       "    }\n",
       "\n",
       "    .dataframe tbody tr th {\n",
       "        vertical-align: top;\n",
       "    }\n",
       "\n",
       "    .dataframe thead th {\n",
       "        text-align: right;\n",
       "    }\n",
       "</style>\n",
       "<table border=\"1\" class=\"dataframe\">\n",
       "  <thead>\n",
       "    <tr style=\"text-align: right;\">\n",
       "      <th></th>\n",
       "      <th>дата</th>\n",
       "    </tr>\n",
       "    <tr>\n",
       "      <th>дата</th>\n",
       "      <th></th>\n",
       "    </tr>\n",
       "  </thead>\n",
       "  <tbody>\n",
       "    <tr>\n",
       "      <td>2001-02-03 11:00:00</td>\n",
       "      <td>2001-02-03 11:00:00</td>\n",
       "    </tr>\n",
       "    <tr>\n",
       "      <td>2001-02-03 12:00:00</td>\n",
       "      <td>2001-02-03 12:00:00</td>\n",
       "    </tr>\n",
       "    <tr>\n",
       "      <td>2001-02-03 13:00:00</td>\n",
       "      <td>2001-02-03 13:00:00</td>\n",
       "    </tr>\n",
       "    <tr>\n",
       "      <td>2001-02-03 14:00:00</td>\n",
       "      <td>2001-02-03 14:00:00</td>\n",
       "    </tr>\n",
       "  </tbody>\n",
       "</table>\n",
       "</div>"
      ],
      "text/plain": [
       "                                   дата\n",
       "дата                                   \n",
       "2001-02-03 11:00:00 2001-02-03 11:00:00\n",
       "2001-02-03 12:00:00 2001-02-03 12:00:00\n",
       "2001-02-03 13:00:00 2001-02-03 13:00:00\n",
       "2001-02-03 14:00:00 2001-02-03 14:00:00"
      ]
     },
     "execution_count": 17,
     "metadata": {},
     "output_type": "execute_result"
    }
   ],
   "source": [
    "# Задать индекс\n",
    "df = df.set_index(df['дата'])\n",
    "\n",
    "# Выбрать наблюдения между датами\n",
    "df.loc['2001-02-03 11:00:00':'2001-02-03 14:34:00']"
   ]
  },
  {
   "cell_type": "markdown",
   "metadata": {},
   "source": [
    "Какую стратегию использовать условные выражения или индексация по дате – определят ситуация. Если требуется выполнить сложные манипуляции с временными рядами, установка столбца даты в качестве индекса фрейма данных может вылиться в накладные расходы, но если нужно сделать простую проверку даты, то условыне выражения мошут оказаться проще."
   ]
  },
  {
   "cell_type": "markdown",
   "metadata": {},
   "source": [
    "### 4. Разбиение даты на несколько признаков\n",
    "##### Задача\n",
    "Дан столбец дат и времени, требуется создать признаки для года, месяца, дня, часа и минуты\n",
    "##### Решение\n",
    "    Используем свойства времени объекта-получателя `Series.dt` библиотеки pandas"
   ]
  },
  {
   "cell_type": "code",
   "execution_count": 18,
   "metadata": {},
   "outputs": [
    {
     "data": {
      "text/html": [
       "<div>\n",
       "<style scoped>\n",
       "    .dataframe tbody tr th:only-of-type {\n",
       "        vertical-align: middle;\n",
       "    }\n",
       "\n",
       "    .dataframe tbody tr th {\n",
       "        vertical-align: top;\n",
       "    }\n",
       "\n",
       "    .dataframe thead th {\n",
       "        text-align: right;\n",
       "    }\n",
       "</style>\n",
       "<table border=\"1\" class=\"dataframe\">\n",
       "  <thead>\n",
       "    <tr style=\"text-align: right;\">\n",
       "      <th></th>\n",
       "      <th>date</th>\n",
       "      <th>year</th>\n",
       "      <th>month</th>\n",
       "      <th>day</th>\n",
       "      <th>hour</th>\n",
       "      <th>minute</th>\n",
       "    </tr>\n",
       "  </thead>\n",
       "  <tbody>\n",
       "    <tr>\n",
       "      <td>0</td>\n",
       "      <td>2019-01-06</td>\n",
       "      <td>2019</td>\n",
       "      <td>1</td>\n",
       "      <td>6</td>\n",
       "      <td>0</td>\n",
       "      <td>0</td>\n",
       "    </tr>\n",
       "    <tr>\n",
       "      <td>1</td>\n",
       "      <td>2019-01-13</td>\n",
       "      <td>2019</td>\n",
       "      <td>1</td>\n",
       "      <td>13</td>\n",
       "      <td>0</td>\n",
       "      <td>0</td>\n",
       "    </tr>\n",
       "    <tr>\n",
       "      <td>2</td>\n",
       "      <td>2019-01-20</td>\n",
       "      <td>2019</td>\n",
       "      <td>1</td>\n",
       "      <td>20</td>\n",
       "      <td>0</td>\n",
       "      <td>0</td>\n",
       "    </tr>\n",
       "    <tr>\n",
       "      <td>3</td>\n",
       "      <td>2019-01-27</td>\n",
       "      <td>2019</td>\n",
       "      <td>1</td>\n",
       "      <td>27</td>\n",
       "      <td>0</td>\n",
       "      <td>0</td>\n",
       "    </tr>\n",
       "    <tr>\n",
       "      <td>4</td>\n",
       "      <td>2019-02-03</td>\n",
       "      <td>2019</td>\n",
       "      <td>2</td>\n",
       "      <td>3</td>\n",
       "      <td>0</td>\n",
       "      <td>0</td>\n",
       "    </tr>\n",
       "  </tbody>\n",
       "</table>\n",
       "</div>"
      ],
      "text/plain": [
       "        date  year  month  day  hour  minute\n",
       "0 2019-01-06  2019      1    6     0       0\n",
       "1 2019-01-13  2019      1   13     0       0\n",
       "2 2019-01-20  2019      1   20     0       0\n",
       "3 2019-01-27  2019      1   27     0       0\n",
       "4 2019-02-03  2019      2    3     0       0"
      ]
     },
     "execution_count": 18,
     "metadata": {},
     "output_type": "execute_result"
    }
   ],
   "source": [
    "# Создать фрейм данных\n",
    "df = pd.DataFrame()\n",
    "\n",
    "# Создать пять дат\n",
    "df['date'] = pd.date_range('1/1/2019', periods=150, freq='W')\n",
    "\n",
    "# Создать признаки для года, месяца, дня, часа и минуты\n",
    "df['year'] = df['date'].dt.year\n",
    "df['month'] = df['date'].dt.month\n",
    "df['day'] = df['date'].dt.day\n",
    "df['hour'] = df['date'].dt.hour\n",
    "df['minute'] = df['date'].dt.minute\n",
    "\n",
    "# Показать строки\n",
    "df.head()"
   ]
  },
  {
   "cell_type": "markdown",
   "metadata": {},
   "source": [
    "Иногда бывает полезно разбить столбец дат на компоненты. Например, может понадобиться признак, который включает только год наблюдения, либо возникает необходимость посмотреть на данные в помесячном разрезе."
   ]
  },
  {
   "cell_type": "markdown",
   "metadata": {},
   "source": [
    "### 5. Вычисление разницы между датами\n",
    "##### Задача\n",
    "Даны два признака `datetime`, требуется для каждого наблюдения рассчитать время между ними\n",
    "##### Решение\n",
    "Вычтем один признак `datetime` из другого"
   ]
  },
  {
   "cell_type": "code",
   "execution_count": 25,
   "metadata": {},
   "outputs": [
    {
     "data": {
      "text/plain": [
       "0    70 days\n",
       "1   128 days\n",
       "dtype: timedelta64[ns]"
      ]
     },
     "execution_count": 25,
     "metadata": {},
     "output_type": "execute_result"
    }
   ],
   "source": [
    "# Создать фрейм данных\n",
    "df = pd.DataFrame()\n",
    "\n",
    "# Создать два признака datetime\n",
    "df['income'] = [pd.Timestamp('17-10-2019'), pd.Timestamp('09-11-2019')]\n",
    "df['outcome'] = [pd.Timestamp('26-12-2019'), pd.Timestamp('17-01-2020')]\n",
    "\n",
    "# Вычислить продолжительность между признаками\n",
    "df['outcome'] - df['income']"
   ]
  },
  {
   "cell_type": "markdown",
   "metadata": {},
   "source": [
    "Часто требуется удалить из результат `days` и оставить только числовое значение"
   ]
  },
  {
   "cell_type": "code",
   "execution_count": 26,
   "metadata": {},
   "outputs": [
    {
     "data": {
      "text/plain": [
       "0     70\n",
       "1    128\n",
       "dtype: int64"
      ]
     },
     "execution_count": 26,
     "metadata": {},
     "output_type": "execute_result"
    }
   ],
   "source": [
    "# Вычислить продолжительность между признаками\n",
    "pd.Series(delta.days for delta in (df['outcome'] - df['income']))"
   ]
  },
  {
   "cell_type": "markdown",
   "metadata": {},
   "source": [
    "Также бывает, что требуемы признак является разностью между двумя точками во времени. Например, если имеются даты заезда и выезда клиента из гостиницы, то искомый признак – это продолжительность пребывания клиента. Для таких расчетов рекомендуется использовать тип данных `TimeDelta`\n",
    "##### Дополнительные материалы\n",
    "* [Документация pandas: дельта времени](https://pandas.pydata.org/pandas-docs/stable/user_guide/timedeltas.html)"
   ]
  },
  {
   "cell_type": "markdown",
   "metadata": {},
   "source": [
    "### 6. Кодирование дней недели\n",
    "##### Задача\n",
    "Дан вектор дат, требуется узнать день недели каждой даты\n",
    "##### Решение\n",
    "Используем атрибут `weekday_name` объекта получателя `Series.dt` библиотеки pandas"
   ]
  },
  {
   "cell_type": "code",
   "execution_count": 30,
   "metadata": {},
   "outputs": [
    {
     "data": {
      "text/plain": [
       "0    Thursday\n",
       "1    Saturday\n",
       "2      Sunday\n",
       "3      Monday\n",
       "4     Tuesday\n",
       "dtype: object"
      ]
     },
     "execution_count": 30,
     "metadata": {},
     "output_type": "execute_result"
    }
   ],
   "source": [
    "# Создать даты\n",
    "dates = pd.Series(pd.date_range('1/1/2015', periods=5, freq='Y'))\n",
    "\n",
    "# Показать дни недели\n",
    "dates.dt.weekday_name"
   ]
  },
  {
   "cell_type": "markdown",
   "metadata": {},
   "source": [
    "\n",
    "В том случае, когда необходим результат с числовым значением, т.е. более пригодным в качестве признака для задач машинного обучения, необходимо использовать атрибут `weekday`, где дни недели представлены в виде целого числа (понедельник равен $0$):"
   ]
  },
  {
   "cell_type": "code",
   "execution_count": 32,
   "metadata": {},
   "outputs": [
    {
     "data": {
      "text/plain": [
       "0    3\n",
       "1    5\n",
       "2    6\n",
       "3    0\n",
       "4    1\n",
       "dtype: int64"
      ]
     },
     "execution_count": 32,
     "metadata": {},
     "output_type": "execute_result"
    }
   ],
   "source": [
    "# Показать дни недели\n",
    "dates.dt.weekday"
   ]
  },
  {
   "cell_type": "markdown",
   "metadata": {},
   "source": [
    "Знание дня недели может быть полезным, елси, например, требвется сравнить общий объем продаж по воскресениям за последнии три года. Библиотека pandas упрощает создание вектора признаков, сожержащих информацию о будних днях.\n",
    "##### Дополнительные материалы\n",
    "* [Перечень datetime-подобных свойств объекта Series библиотеки pandas](https://pandas.pydata.org/pandas-docs/stable/reference/index.html)"
   ]
  },
  {
   "cell_type": "markdown",
   "metadata": {},
   "source": [
    "### 7. Создание запаздывающего признака\n",
    "##### Задача\n",
    "Требуется создать признак, который запаздывает на $n$ периодов времени\n",
    "##### Решение\n",
    "Используем метод `shift()` библиотеки pandas"
   ]
  },
  {
   "cell_type": "code",
   "execution_count": 33,
   "metadata": {},
   "outputs": [
    {
     "data": {
      "text/html": [
       "<div>\n",
       "<style scoped>\n",
       "    .dataframe tbody tr th:only-of-type {\n",
       "        vertical-align: middle;\n",
       "    }\n",
       "\n",
       "    .dataframe tbody tr th {\n",
       "        vertical-align: top;\n",
       "    }\n",
       "\n",
       "    .dataframe thead th {\n",
       "        text-align: right;\n",
       "    }\n",
       "</style>\n",
       "<table border=\"1\" class=\"dataframe\">\n",
       "  <thead>\n",
       "    <tr style=\"text-align: right;\">\n",
       "      <th></th>\n",
       "      <th>dates</th>\n",
       "      <th>stock prices</th>\n",
       "      <th>stock prices on the previous day</th>\n",
       "    </tr>\n",
       "  </thead>\n",
       "  <tbody>\n",
       "    <tr>\n",
       "      <td>0</td>\n",
       "      <td>2005-03-03</td>\n",
       "      <td>1.1</td>\n",
       "      <td>NaN</td>\n",
       "    </tr>\n",
       "    <tr>\n",
       "      <td>1</td>\n",
       "      <td>2005-03-04</td>\n",
       "      <td>2.2</td>\n",
       "      <td>1.1</td>\n",
       "    </tr>\n",
       "    <tr>\n",
       "      <td>2</td>\n",
       "      <td>2005-03-05</td>\n",
       "      <td>3.3</td>\n",
       "      <td>2.2</td>\n",
       "    </tr>\n",
       "    <tr>\n",
       "      <td>3</td>\n",
       "      <td>2005-03-06</td>\n",
       "      <td>4.4</td>\n",
       "      <td>3.3</td>\n",
       "    </tr>\n",
       "    <tr>\n",
       "      <td>4</td>\n",
       "      <td>2005-03-07</td>\n",
       "      <td>5.5</td>\n",
       "      <td>4.4</td>\n",
       "    </tr>\n",
       "  </tbody>\n",
       "</table>\n",
       "</div>"
      ],
      "text/plain": [
       "       dates  stock prices  stock prices on the previous day\n",
       "0 2005-03-03           1.1                               NaN\n",
       "1 2005-03-04           2.2                               1.1\n",
       "2 2005-03-05           3.3                               2.2\n",
       "3 2005-03-06           4.4                               3.3\n",
       "4 2005-03-07           5.5                               4.4"
      ]
     },
     "execution_count": 33,
     "metadata": {},
     "output_type": "execute_result"
    }
   ],
   "source": [
    "# Создать дата фрейм\n",
    "df = pd.DataFrame()\n",
    "\n",
    "# Создать дату\n",
    "df['dates'] = pd.date_range('3/3/2005', periods=5, freq='D')\n",
    "df['stock prices'] = [1.1, 2.2, 3.3, 4.4, 5.5]\n",
    "\n",
    "# Задачть значения с запазданием на одну строку\n",
    "df['stock prices on the previous day'] = df['stock prices'].shift(1)\n",
    "\n",
    "# Показать фрейм данных\n",
    "df"
   ]
  },
  {
   "cell_type": "markdown",
   "metadata": {},
   "source": [
    "Часто данные основаны на регулярных интервалах времени. Например, данные за каждый день, час, минуту и т.д. Чтобы делать предсказания необходимо использовать значения в прошлом (так называемое \"задерживание признака во времени\"). Например, может возникнуть необходимость предсказать новую цену акций на основе цены, которая была накануне. Для этого можно применить метод `shift()` библиотеки pandas для задержания значений во времени на одну строку, создавая новый признак, содержащий прошлые значения.\n",
    "\n",
    "В решении выше первая строка признака `stock prices on the previous day` является пропущенным значением, поскольку предыдущее значение цены акций `stock prices` отсутствует."
   ]
  },
  {
   "cell_type": "markdown",
   "metadata": {},
   "source": [
    "### 8. Использование скользящих временных окон\n",
    "##### Задача\n",
    "Дан временной ряд, требуется рассчитать некоторый статистический показатель для скользящего времени\n",
    "##### Решение\n",
    "Используем метод `rolling()` библиотеки pandas"
   ]
  },
  {
   "cell_type": "code",
   "execution_count": 34,
   "metadata": {},
   "outputs": [
    {
     "data": {
      "text/html": [
       "<div>\n",
       "<style scoped>\n",
       "    .dataframe tbody tr th:only-of-type {\n",
       "        vertical-align: middle;\n",
       "    }\n",
       "\n",
       "    .dataframe tbody tr th {\n",
       "        vertical-align: top;\n",
       "    }\n",
       "\n",
       "    .dataframe thead th {\n",
       "        text-align: right;\n",
       "    }\n",
       "</style>\n",
       "<table border=\"1\" class=\"dataframe\">\n",
       "  <thead>\n",
       "    <tr style=\"text-align: right;\">\n",
       "      <th></th>\n",
       "      <th>stock prices</th>\n",
       "    </tr>\n",
       "  </thead>\n",
       "  <tbody>\n",
       "    <tr>\n",
       "      <td>2010-01-31</td>\n",
       "      <td>NaN</td>\n",
       "    </tr>\n",
       "    <tr>\n",
       "      <td>2010-02-28</td>\n",
       "      <td>1.5</td>\n",
       "    </tr>\n",
       "    <tr>\n",
       "      <td>2010-03-31</td>\n",
       "      <td>2.5</td>\n",
       "    </tr>\n",
       "    <tr>\n",
       "      <td>2010-04-30</td>\n",
       "      <td>3.5</td>\n",
       "    </tr>\n",
       "    <tr>\n",
       "      <td>2010-05-31</td>\n",
       "      <td>4.5</td>\n",
       "    </tr>\n",
       "  </tbody>\n",
       "</table>\n",
       "</div>"
      ],
      "text/plain": [
       "            stock prices\n",
       "2010-01-31           NaN\n",
       "2010-02-28           1.5\n",
       "2010-03-31           2.5\n",
       "2010-04-30           3.5\n",
       "2010-05-31           4.5"
      ]
     },
     "execution_count": 34,
     "metadata": {},
     "output_type": "execute_result"
    }
   ],
   "source": [
    "# Создать метки datetime\n",
    "time_index = pd.date_range('1/1/2010', periods=5, freq='M')\n",
    "\n",
    "# Создать фрейм данных, задать индекс\n",
    "df = pd.DataFrame(index=time_index)\n",
    "\n",
    "# Создать признак\n",
    "df['stock prices'] = [1, 2, 3, 4, 5]\n",
    "\n",
    "# Вычислить скользящее среднее\n",
    "df.rolling(window=2).mean()"
   ]
  },
  {
   "cell_type": "markdown",
   "metadata": {},
   "source": [
    "Скользящие (так называемые перемещающиеся) временные окна концептуально просты. Например, имеются ежемесячные наблюдения за ценой акций. Часто бывает полезно иметь временнóе окно по наблюдениям продолжительностью в заданное количество месяцев, а затем перемещаться по наблюдениям, вычисляя статистический показатель для всех наблюдений во временном окне.\n",
    "\n",
    "Например, если есть временнóе окно продолжительностью три месяца, и требуется вычислить скользящее среднее, то вычисляется это следующим образом:\n",
    "* средее(январь, февраль, март)\n",
    "* среднее(февраль, март, апрель)\n",
    "* среднее(март, апрель, май)\n",
    "и т.д.\n",
    "\n",
    "Другими словами трехмесяцное окно \"скользит\" по наблюдениям, вычисляя среднее значение на каждом шаге.\n",
    "\n",
    "Метод `rolling()` библиотеки pandas мозволяет задавать размер окна с помощью парметра `window=`, а затем быстро рассчитывать некоторые распространенные статистические показатели, например:\n",
    "* максимальное значение (`max()`);\n",
    "* среднее значение (`mean()`);\n",
    "* количество значений (`count()`);\n",
    "* скользящую корреляцию (`corr()`).\n",
    "\n",
    "Скользящие средние часто используются для сглаживания данных временных рядов, поскольку использование среднего значения всего временного ряда ослабляет эффект краткосрочныз колебаний.\n",
    "##### Дополнительные материалы\n",
    "* [Документация pandas: скользящие окна](https://pandas.pydata.org/pandas-docs/stable/user_guide/computation.html)\n",
    "* [\"Что такое скользящее окно и методы сглаживания\" Справочник по инженерной статистике](https://www.itl.nist.gov/div898/handbook/pmc/section4/pmc42.htm)"
   ]
  },
  {
   "cell_type": "markdown",
   "metadata": {},
   "source": []
  },
  {
   "cell_type": "markdown",
   "metadata": {},
   "source": [
    "### 9. Обработка пропущеных дат во временном ряду\n",
    "##### Задача\n",
    "В данных временых рядов пропущены значения. ОБработать эту ситуацию\n",
    "#### Решение\n",
    "Используем метод `interpolate()` библиотеки pandas для заполнения промежутков пропущеных значений"
   ]
  },
  {
   "cell_type": "code",
   "execution_count": 36,
   "metadata": {},
   "outputs": [
    {
     "data": {
      "text/html": [
       "<div>\n",
       "<style scoped>\n",
       "    .dataframe tbody tr th:only-of-type {\n",
       "        vertical-align: middle;\n",
       "    }\n",
       "\n",
       "    .dataframe tbody tr th {\n",
       "        vertical-align: top;\n",
       "    }\n",
       "\n",
       "    .dataframe thead th {\n",
       "        text-align: right;\n",
       "    }\n",
       "</style>\n",
       "<table border=\"1\" class=\"dataframe\">\n",
       "  <thead>\n",
       "    <tr style=\"text-align: right;\">\n",
       "      <th></th>\n",
       "      <th>costs</th>\n",
       "    </tr>\n",
       "  </thead>\n",
       "  <tbody>\n",
       "    <tr>\n",
       "      <td>2010-01-31</td>\n",
       "      <td>1.0</td>\n",
       "    </tr>\n",
       "    <tr>\n",
       "      <td>2010-02-28</td>\n",
       "      <td>2.0</td>\n",
       "    </tr>\n",
       "    <tr>\n",
       "      <td>2010-03-31</td>\n",
       "      <td>3.0</td>\n",
       "    </tr>\n",
       "    <tr>\n",
       "      <td>2010-04-30</td>\n",
       "      <td>4.0</td>\n",
       "    </tr>\n",
       "    <tr>\n",
       "      <td>2010-05-31</td>\n",
       "      <td>5.0</td>\n",
       "    </tr>\n",
       "  </tbody>\n",
       "</table>\n",
       "</div>"
      ],
      "text/plain": [
       "            costs\n",
       "2010-01-31    1.0\n",
       "2010-02-28    2.0\n",
       "2010-03-31    3.0\n",
       "2010-04-30    4.0\n",
       "2010-05-31    5.0"
      ]
     },
     "execution_count": 36,
     "metadata": {},
     "output_type": "execute_result"
    }
   ],
   "source": [
    "# Создать дату\n",
    "time_index = pd.date_range('1/1/2010', periods=5, freq='M')\n",
    "\n",
    "# Создать фрейм данных, задать индекс\n",
    "df = pd.DataFrame(index=time_index)\n",
    "\n",
    "# Создать признак с промежутком пропущеных значений\n",
    "df['costs'] = [1.0, 2.0, np.nan, np.nan, 5]\n",
    "\n",
    "# Интерполировать пропущенные значения\n",
    "df.interpolate()"
   ]
  },
  {
   "cell_type": "markdown",
   "metadata": {},
   "source": [
    "Другой вариант заполнить пропущенные значения последним перед пустым промежутком известным значением, т.е. выполнить прямое заполнение:"
   ]
  },
  {
   "cell_type": "code",
   "execution_count": 37,
   "metadata": {},
   "outputs": [
    {
     "data": {
      "text/html": [
       "<div>\n",
       "<style scoped>\n",
       "    .dataframe tbody tr th:only-of-type {\n",
       "        vertical-align: middle;\n",
       "    }\n",
       "\n",
       "    .dataframe tbody tr th {\n",
       "        vertical-align: top;\n",
       "    }\n",
       "\n",
       "    .dataframe thead th {\n",
       "        text-align: right;\n",
       "    }\n",
       "</style>\n",
       "<table border=\"1\" class=\"dataframe\">\n",
       "  <thead>\n",
       "    <tr style=\"text-align: right;\">\n",
       "      <th></th>\n",
       "      <th>costs</th>\n",
       "    </tr>\n",
       "  </thead>\n",
       "  <tbody>\n",
       "    <tr>\n",
       "      <td>2010-01-31</td>\n",
       "      <td>1.0</td>\n",
       "    </tr>\n",
       "    <tr>\n",
       "      <td>2010-02-28</td>\n",
       "      <td>2.0</td>\n",
       "    </tr>\n",
       "    <tr>\n",
       "      <td>2010-03-31</td>\n",
       "      <td>2.0</td>\n",
       "    </tr>\n",
       "    <tr>\n",
       "      <td>2010-04-30</td>\n",
       "      <td>2.0</td>\n",
       "    </tr>\n",
       "    <tr>\n",
       "      <td>2010-05-31</td>\n",
       "      <td>5.0</td>\n",
       "    </tr>\n",
       "  </tbody>\n",
       "</table>\n",
       "</div>"
      ],
      "text/plain": [
       "            costs\n",
       "2010-01-31    1.0\n",
       "2010-02-28    2.0\n",
       "2010-03-31    2.0\n",
       "2010-04-30    2.0\n",
       "2010-05-31    5.0"
      ]
     },
     "execution_count": 37,
     "metadata": {},
     "output_type": "execute_result"
    }
   ],
   "source": [
    "# Прямое заполнение\n",
    "df.ffill()"
   ]
  },
  {
   "cell_type": "markdown",
   "metadata": {},
   "source": [
    "Еще одним вариантом является заполнение пропущеных значений последним после пустого промежутка известным значением, т.е. выполнить обратное заполнение:"
   ]
  },
  {
   "cell_type": "code",
   "execution_count": 38,
   "metadata": {},
   "outputs": [
    {
     "data": {
      "text/html": [
       "<div>\n",
       "<style scoped>\n",
       "    .dataframe tbody tr th:only-of-type {\n",
       "        vertical-align: middle;\n",
       "    }\n",
       "\n",
       "    .dataframe tbody tr th {\n",
       "        vertical-align: top;\n",
       "    }\n",
       "\n",
       "    .dataframe thead th {\n",
       "        text-align: right;\n",
       "    }\n",
       "</style>\n",
       "<table border=\"1\" class=\"dataframe\">\n",
       "  <thead>\n",
       "    <tr style=\"text-align: right;\">\n",
       "      <th></th>\n",
       "      <th>costs</th>\n",
       "    </tr>\n",
       "  </thead>\n",
       "  <tbody>\n",
       "    <tr>\n",
       "      <td>2010-01-31</td>\n",
       "      <td>1.0</td>\n",
       "    </tr>\n",
       "    <tr>\n",
       "      <td>2010-02-28</td>\n",
       "      <td>2.0</td>\n",
       "    </tr>\n",
       "    <tr>\n",
       "      <td>2010-03-31</td>\n",
       "      <td>5.0</td>\n",
       "    </tr>\n",
       "    <tr>\n",
       "      <td>2010-04-30</td>\n",
       "      <td>5.0</td>\n",
       "    </tr>\n",
       "    <tr>\n",
       "      <td>2010-05-31</td>\n",
       "      <td>5.0</td>\n",
       "    </tr>\n",
       "  </tbody>\n",
       "</table>\n",
       "</div>"
      ],
      "text/plain": [
       "            costs\n",
       "2010-01-31    1.0\n",
       "2010-02-28    2.0\n",
       "2010-03-31    5.0\n",
       "2010-04-30    5.0\n",
       "2010-05-31    5.0"
      ]
     },
     "execution_count": 38,
     "metadata": {},
     "output_type": "execute_result"
    }
   ],
   "source": [
    "# Обратное заполнение\n",
    "df.bfill()"
   ]
  },
  {
   "cell_type": "markdown",
   "metadata": {},
   "source": [
    "***Интерполяция*** – этот метод заполнения промежутков, вызванных пропущенными значениями, путем по сути, построенияпрямой линии или кривой между известными значениями граничащими с промежутком, и использования этой прямой или кривой для предсказания разумных значений. Интерполяция может быть в особенности полезна, когда промежутки времени между точками постоянны, данные не подвержены шумовым колебаниям, а промежутки, вызванные пропусками, невелики. В приведенном выше примере промежуток из двух пропущенных значений граничит с `2.0` и `5.0`. Путем подгонки прямой, начинающейся с $2.0$ и заканчивающейся в $5.0$, можно сделать разумные предположения для двух пропущенных значений между `3.0` и `4.0`.\n",
    "\n",
    "В случае, когда прямая между двумя точками считается нелинейной, необходимо указать тип предполагаемой криой с помощью парметра `method=` для метода `interpolate()`:"
   ]
  },
  {
   "cell_type": "code",
   "execution_count": 41,
   "metadata": {},
   "outputs": [
    {
     "data": {
      "text/html": [
       "<div>\n",
       "<style scoped>\n",
       "    .dataframe tbody tr th:only-of-type {\n",
       "        vertical-align: middle;\n",
       "    }\n",
       "\n",
       "    .dataframe tbody tr th {\n",
       "        vertical-align: top;\n",
       "    }\n",
       "\n",
       "    .dataframe thead th {\n",
       "        text-align: right;\n",
       "    }\n",
       "</style>\n",
       "<table border=\"1\" class=\"dataframe\">\n",
       "  <thead>\n",
       "    <tr style=\"text-align: right;\">\n",
       "      <th></th>\n",
       "      <th>costs</th>\n",
       "    </tr>\n",
       "  </thead>\n",
       "  <tbody>\n",
       "    <tr>\n",
       "      <td>2010-01-31</td>\n",
       "      <td>1.000000</td>\n",
       "    </tr>\n",
       "    <tr>\n",
       "      <td>2010-02-28</td>\n",
       "      <td>2.000000</td>\n",
       "    </tr>\n",
       "    <tr>\n",
       "      <td>2010-03-31</td>\n",
       "      <td>3.059808</td>\n",
       "    </tr>\n",
       "    <tr>\n",
       "      <td>2010-04-30</td>\n",
       "      <td>4.038069</td>\n",
       "    </tr>\n",
       "    <tr>\n",
       "      <td>2010-05-31</td>\n",
       "      <td>5.000000</td>\n",
       "    </tr>\n",
       "  </tbody>\n",
       "</table>\n",
       "</div>"
      ],
      "text/plain": [
       "               costs\n",
       "2010-01-31  1.000000\n",
       "2010-02-28  2.000000\n",
       "2010-03-31  3.059808\n",
       "2010-04-30  4.038069\n",
       "2010-05-31  5.000000"
      ]
     },
     "execution_count": 41,
     "metadata": {},
     "output_type": "execute_result"
    }
   ],
   "source": [
    "# Интерполировать пропущенные значения\n",
    "df.interpolate(method='quadratic')"
   ]
  },
  {
   "cell_type": "markdown",
   "metadata": {},
   "source": [
    "Наконец, могут быть случаи, когда имеются большие промежутки пропущенных значений, и необходимо интерполировать значения только по части промежутка. Для этого необходимо использовать параметр `limit=` для ограничения количества интеполируемых значений, и парметр `limit_direction=` для задания, следует ли интерполировать значения вперед от последнего передпромежутком известного значения, или наоборот:"
   ]
  },
  {
   "cell_type": "code",
   "execution_count": 43,
   "metadata": {},
   "outputs": [
    {
     "data": {
      "text/html": [
       "<div>\n",
       "<style scoped>\n",
       "    .dataframe tbody tr th:only-of-type {\n",
       "        vertical-align: middle;\n",
       "    }\n",
       "\n",
       "    .dataframe tbody tr th {\n",
       "        vertical-align: top;\n",
       "    }\n",
       "\n",
       "    .dataframe thead th {\n",
       "        text-align: right;\n",
       "    }\n",
       "</style>\n",
       "<table border=\"1\" class=\"dataframe\">\n",
       "  <thead>\n",
       "    <tr style=\"text-align: right;\">\n",
       "      <th></th>\n",
       "      <th>costs</th>\n",
       "    </tr>\n",
       "  </thead>\n",
       "  <tbody>\n",
       "    <tr>\n",
       "      <td>2010-01-31</td>\n",
       "      <td>1.0</td>\n",
       "    </tr>\n",
       "    <tr>\n",
       "      <td>2010-02-28</td>\n",
       "      <td>2.0</td>\n",
       "    </tr>\n",
       "    <tr>\n",
       "      <td>2010-03-31</td>\n",
       "      <td>3.0</td>\n",
       "    </tr>\n",
       "    <tr>\n",
       "      <td>2010-04-30</td>\n",
       "      <td>NaN</td>\n",
       "    </tr>\n",
       "    <tr>\n",
       "      <td>2010-05-31</td>\n",
       "      <td>5.0</td>\n",
       "    </tr>\n",
       "  </tbody>\n",
       "</table>\n",
       "</div>"
      ],
      "text/plain": [
       "            costs\n",
       "2010-01-31    1.0\n",
       "2010-02-28    2.0\n",
       "2010-03-31    3.0\n",
       "2010-04-30    NaN\n",
       "2010-05-31    5.0"
      ]
     },
     "execution_count": 43,
     "metadata": {},
     "output_type": "execute_result"
    }
   ],
   "source": [
    "# Интерполировать пропущенные значения\n",
    "df.interpolate(limit=1, limit_direction='forward')"
   ]
  },
  {
   "cell_type": "markdown",
   "metadata": {},
   "source": [
    "Обратное заполнение и прямое заполнение можно рассматривать, как формы интерполяции, где интерполируемые значения находятся на константной прямой парраельной оси $Ox$, константой которой является ближайшее известное значение или перед или после пустого промежутка."
   ]
  }
 ],
 "metadata": {
  "kernelspec": {
   "display_name": "Python 3.7",
   "language": "python",
   "name": "python3"
  },
  "language_info": {
   "codemirror_mode": {
    "name": "ipython",
    "version": 3
   },
   "file_extension": ".py",
   "mimetype": "text/x-python",
   "name": "python",
   "nbconvert_exporter": "python",
   "pygments_lexer": "ipython3",
   "version": "3.7.4"
  }
 },
 "nbformat": 4,
 "nbformat_minor": 2
}

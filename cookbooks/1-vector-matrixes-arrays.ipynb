{
 "cells": [
  {
   "cell_type": "markdown",
   "metadata": {},
   "source": [
    "# Векторы, матрицы, массивы  \n",
    "\n",
    "Библиотека `NumPy` лежит в основе стека машинного обучения и похволяет эффективно работать со структурами данных, часто используемыми в машиином обучении: векторами, матрицами, тензорами."
   ]
  },
  {
   "cell_type": "markdown",
   "metadata": {},
   "source": [
    "### 1. Создание вектора  \n",
    "\n",
    "##### Задача:  \n",
    "требуется создать вектор"
   ]
  },
  {
   "cell_type": "code",
   "execution_count": 1,
   "metadata": {},
   "outputs": [],
   "source": [
    "# Загрузить библиотеку\n",
    "import numpy as np\n",
    "\n",
    "# Создать вектор как строку\n",
    "vector_row = np.array([1, 2, 3])\n",
    "\n",
    "# Создать вектор, как столбец\n",
    "vector_column = np.array([[1],\n",
    "                          [2],\n",
    "                          [3]])"
   ]
  },
  {
   "cell_type": "markdown",
   "metadata": {},
   "source": [
    "Основной структурой данных `NumPy` является многомерный массив. Для того. чтобы создать вектор, необходимо создать одномерный массив. Как и векторы, эти массивы могут быть представлены как горизонтально, как строки, или вертикально, как столбцы."
   ]
  },
  {
   "cell_type": "markdown",
   "metadata": {},
   "source": [
    "### 2. Создание матрицы\n",
    "\n",
    "##### Задача:\n",
    "требуется создать матрицу   \n",
    "Для создания матрицы используем двумерный массив `NumPy` "
   ]
  },
  {
   "cell_type": "code",
   "execution_count": 2,
   "metadata": {},
   "outputs": [],
   "source": [
    "# Создать матрицу\n",
    "matrix = np.array([[1, 2],\n",
    "                   [1, 2],\n",
    "                   [1, 2]])"
   ]
  },
  {
   "cell_type": "markdown",
   "metadata": {},
   "source": [
    "На самом деле `NumPy` имеет специальную матричную структуру данных `mat`. Однако ее не рекомендуется использовать по двум причинам:  \n",
    "* массивы являютсяя де-факто стандартной структурой данных `NumPy`\n",
    "* подавляющее большинство операций `NumPy`возвращают не матричные объекты, а массивы"
   ]
  },
  {
   "cell_type": "code",
   "execution_count": 3,
   "metadata": {},
   "outputs": [],
   "source": [
    "# Создать матрицу\n",
    "matrix_object = np.mat([[1, 2],\n",
    "                        [1, 2],\n",
    "                        [1, 2]])"
   ]
  },
  {
   "cell_type": "markdown",
   "metadata": {},
   "source": [
    "### 3. Создание разреженной матрицы  \n",
    "\n",
    "##### Задача:  \n",
    "имеются данные с очень малым количеством ненулевых значений, которые требуется эффективно представить"
   ]
  },
  {
   "cell_type": "code",
   "execution_count": 7,
   "metadata": {},
   "outputs": [],
   "source": [
    "# Создать матрицу\n",
    "matrix = np.array([[0, 0],\n",
    "                   [0, 1],\n",
    "                   [3, 0]])\n",
    "\n",
    "# Загрузить библитеку scipy\n",
    "# from scipy import sparce\n",
    "from scipy import sparse\n",
    "\n",
    "# Создать сжатую разряженную матрицу-строку (CSR-матрицу)\n",
    "matrix_sparse = sparse.csr_matrix(matrix)"
   ]
  },
  {
   "cell_type": "markdown",
   "metadata": {},
   "source": [
    "В машинном обучении часто возникает ситуация, когда имеется огромное количество данных; однако большинтво эдементов в данных являются нулями.  \n",
    "Разряженные матрицы содержат только ненулевые значения и исходят из того, что все другие значения будут равняться нулю, что приводит к значительной вычислительной экономии."
   ]
  },
  {
   "cell_type": "code",
   "execution_count": 8,
   "metadata": {},
   "outputs": [
    {
     "name": "stdout",
     "output_type": "stream",
     "text": [
      "  (1, 1)\t1\n",
      "  (2, 0)\t3\n"
     ]
    }
   ],
   "source": [
    "# Взглянуть на разряженную матрицу\n",
    "print(matrix_sparse)"
   ]
  },
  {
   "cell_type": "markdown",
   "metadata": {},
   "source": [
    "Существует несколько типов разряженных матриц. В *сжатых разряженных матрицах-строках* (compressed sparse row, CSR) элементы `(1, 1)` и `(2, 0)` представляют индексы ненулевых значений (с отсчетом от нуля), соответственно `1` и `3`.  \n",
    "Например, элемент `1` находится во второй строке и втором столбце (индекс `1, 1`)."
   ]
  },
  {
   "cell_type": "code",
   "execution_count": 11,
   "metadata": {},
   "outputs": [
    {
     "name": "stdout",
     "output_type": "stream",
     "text": [
      "  (1, 1)\t1\n",
      "  (2, 0)\t3\n",
      "  (1, 1)\t1\n",
      "  (2, 0)\t3\n"
     ]
    }
   ],
   "source": [
    "# Создать более крупную матрицу\n",
    "matrix_large = np.array([[0, 0, 0, 0, 0, 0, 0, 0, 0],\n",
    "                         [0, 1, 0, 0, 0, 0, 0, 0, 0],\n",
    "                         [3, 0, 0, 0, 0, 0, 0, 0, 0],])\n",
    "\n",
    "# Создать сжатую разреженную матрицу-строку (CSR-матрицу)\n",
    "matrix_large_sparse = sparse.csr_matrix(matrix_large)\n",
    "\n",
    "# Вглянуть на исходную разряженную матрицу\n",
    "print(matrix_sparse)\n",
    "\n",
    "# Вглянуть на более крупную разряженную матрицу\n",
    "print(matrix_large_sparse)"
   ]
  },
  {
   "cell_type": "markdown",
   "metadata": {},
   "source": [
    "Как видно из примера выше, несмотря на то, что `matrix_large` более крупная, с большим количеством нулевых элементов, ее разреженное представление точно такое же, как и в исходной `matrix_sparse`. Т.е. добавление нулевых элементов не изменило размер разряженной матрицы.\n",
    "Существует множество различных типов разряженных матриц, таких же как:\n",
    "* матрица-столбец, \n",
    "* список списков и \n",
    "* словарь ключей.\n",
    "\n",
    "Документация по разряженным матрицам `SciPy`: https://docs.scipy.org/doc/scipy/reference/sparse.html"
   ]
  },
  {
   "cell_type": "markdown",
   "metadata": {},
   "source": [
    "### 4. Выбор элементов  \n",
    "##### Задача:  \n",
    "требуется выбрать один или несколько элементов в вкеторе или матрице."
   ]
  },
  {
   "cell_type": "code",
   "execution_count": 14,
   "metadata": {},
   "outputs": [
    {
     "name": "stdout",
     "output_type": "stream",
     "text": [
      "3\n",
      "5\n"
     ]
    }
   ],
   "source": [
    "# Создать вектор-строку\n",
    "vector = np.array([1, 2, 3, 4, 5, 6])\n",
    "\n",
    "# Создать матрицу\n",
    "matrix = np.array([[1, 2, 3],\n",
    "                   [4, 5, 6],\n",
    "                   [7, 8, 9]])\n",
    "\n",
    "# Выбрать третий элемент вектора\n",
    "print(vector[2])\n",
    "\n",
    "# Выбрать вторую строку, второй столбец\n",
    "print(matrix[1, 1])"
   ]
  },
  {
   "cell_type": "markdown",
   "metadata": {},
   "source": [
    "Массивы `NumPy` имеют нулевую индексацию, т.е. индекс первого элемента равен `0`, а не `1`. С учетом этого `NumPy` предлагает широкий спектр методов для выбора элементов или групп элементов в массивах, т.е. индексирования и нарезки."
   ]
  },
  {
   "cell_type": "code",
   "execution_count": 22,
   "metadata": {},
   "outputs": [
    {
     "data": {
      "text/plain": [
       "array([[2],\n",
       "       [5],\n",
       "       [8]])"
      ]
     },
     "execution_count": 22,
     "metadata": {},
     "output_type": "execute_result"
    }
   ],
   "source": [
    "# Выбрать все элементы вектора\n",
    "vector[:]\n",
    "\n",
    "# Выбрать всё вплоть до третьего эоемента включительно\n",
    "vector[:3]\n",
    "\n",
    "# Выбрать всё после третьего элемента\n",
    "vector[3:]\n",
    "\n",
    "# Выбрать последний элемент\n",
    "vector[-1]\n",
    "\n",
    "# Выбрать первые строки и все столбцы матрицы\n",
    "matrix[:2, :]\n",
    "\n",
    "# Выбрать все строки и второй столбец\n",
    "matrix[:, 1:2]"
   ]
  },
  {
   "cell_type": "markdown",
   "metadata": {},
   "source": [
    "### 5. Описание матрицы  \n",
    "##### Задача:  \n",
    "Требуется описать форму, размер и размерность матрицы  \n",
    "##### Решение:  \n",
    "использовать атрибуты `shape`, `size` и `ndim`"
   ]
  },
  {
   "cell_type": "code",
   "execution_count": 26,
   "metadata": {},
   "outputs": [
    {
     "data": {
      "text/plain": [
       "2"
      ]
     },
     "execution_count": 26,
     "metadata": {},
     "output_type": "execute_result"
    }
   ],
   "source": [
    "# Создать матрицу\n",
    "matrix = np.array([[1, 2, 3, 4],\n",
    "                   [5, 6, 7, 8],\n",
    "                   [9, 10, 11, 12]])\n",
    "\n",
    "# Взглянуть на количество строк и столбцов\n",
    "matrix.shape\n",
    "\n",
    "# Взглянуть на количество элементов (строки • столбцы)\n",
    "matrix.size\n",
    "\n",
    "# Взглянуть на количество размерностей\n",
    "matrix.ndim"
   ]
  },
  {
   "cell_type": "markdown",
   "metadata": {},
   "source": [
    "### 6. Применение операций к элементам  \n",
    "##### Задача:  \n",
    "требуется применить некоторую функцию к нескольким элементам массива\n",
    "##### Решение:  \n",
    "использовать класс `vectorize` библиотеки `NumPy"
   ]
  },
  {
   "cell_type": "code",
   "execution_count": 28,
   "metadata": {},
   "outputs": [
    {
     "data": {
      "text/plain": [
       "array([[ 1,  4,  9],\n",
       "       [16, 25, 36],\n",
       "       [49, 64, 81]])"
      ]
     },
     "execution_count": 28,
     "metadata": {},
     "output_type": "execute_result"
    }
   ],
   "source": [
    "# Создать матрицу\n",
    "matrix = np.array([[1, 2, 3],\n",
    "                   [4, 5, 6],\n",
    "                   [7, 8, 9]])\n",
    "\n",
    "# Создать функцию, которая добавляет возводит в квадрат\n",
    "square = lambda i: i ** 2\n",
    "\n",
    "# Создать векторизированную функцию\n",
    "vectorized_square = np.vectorize(square)\n",
    "\n",
    "# Применить функцию ко всем элементам в матрице\n",
    "vectorized_square(matrix)"
   ]
  },
  {
   "cell_type": "markdown",
   "metadata": {},
   "source": [
    "Класс `NumPy` `vectorize` конвертирует обычную функцию в функцию, которая может применяться ко всем элементам массива или части массива. По существу класс `vectorize` представляет собой цикл `for` над элементами массива и не увеличивает производительность. Кроме того, массивы `NumPy` позволяют выполнять операции между массивами, даже если их размерности не совпадают (этот процесс называется *трансляцией*). \n",
    "Например, можно создать гораздо более простую конструкцию для возведения элементов в квадрат, используя трансляцию:"
   ]
  },
  {
   "cell_type": "code",
   "execution_count": 31,
   "metadata": {},
   "outputs": [
    {
     "data": {
      "text/plain": [
       "array([[ 1,  4,  9],\n",
       "       [16, 25, 36],\n",
       "       [49, 64, 81]])"
      ]
     },
     "execution_count": 31,
     "metadata": {},
     "output_type": "execute_result"
    }
   ],
   "source": [
    "# Возвести в квадрат все элементы\n",
    "matrix ** 2"
   ]
  },
  {
   "cell_type": "markdown",
   "metadata": {},
   "source": [
    "### 7. Нахождение минимального и максимального размера  \n",
    "##### Задача:  \n",
    "требуется найти минимальное и максимальное значение в массиве  \n",
    "#####  Решение:  \n",
    "использовать функции `max` и `min` библиотеки `NumPy`"
   ]
  },
  {
   "cell_type": "code",
   "execution_count": 41,
   "metadata": {},
   "outputs": [
    {
     "data": {
      "text/plain": [
       "1"
      ]
     },
     "execution_count": 41,
     "metadata": {},
     "output_type": "execute_result"
    }
   ],
   "source": [
    "# Создать матрицу\n",
    "matrix = np.array([[1, 2, 3],\n",
    "                   [4, 5, 6],\n",
    "                   [7, 8, 9]])\n",
    "\n",
    "# Вернуть максимальный элемент\n",
    "np.max(matrix)\n",
    "\n",
    "# Вернуть минимальный элемент\n",
    "np.min(matrix)"
   ]
  },
  {
   "cell_type": "markdown",
   "metadata": {},
   "source": [
    "Часто требуется узнать максимальное и минимальное значение в массиве или подмнижестве массива. Это может быть достигнуто с помощью методов `max` и `min`. Используя параметр `axis` можно также применить операцию вдоль определенного направления."
   ]
  },
  {
   "cell_type": "code",
   "execution_count": 42,
   "metadata": {},
   "outputs": [
    {
     "data": {
      "text/plain": [
       "array([3, 6, 9])"
      ]
     },
     "execution_count": 42,
     "metadata": {},
     "output_type": "execute_result"
    }
   ],
   "source": [
    "# Найти максимальный элемент в каждом столбце\n",
    "np.max(matrix, axis=0)\n",
    "\n",
    "# Найти максимальный элемент в каждом строке\n",
    "np.max(matrix, axis=1)"
   ]
  },
  {
   "cell_type": "markdown",
   "metadata": {},
   "source": [
    "### 8.  Вычисление среднего значения, дисперсии, стандартного оклонения\n",
    "##### Задача:  \n",
    "требуется вычислить некоторые описательные статистические показатели о массиве\n",
    "##### Решение:  \n",
    "использовать функции `mean`, `var` и `std` библиотеки `NumPy`"
   ]
  },
  {
   "cell_type": "code",
   "execution_count": 45,
   "metadata": {},
   "outputs": [
    {
     "data": {
      "text/plain": [
       "2.581988897471611"
      ]
     },
     "execution_count": 45,
     "metadata": {},
     "output_type": "execute_result"
    }
   ],
   "source": [
    "# Создать матрицу\n",
    "matrix = np.array([[1, 2, 3],\n",
    "                   [4, 5, 6],\n",
    "                   [7, 8, 9]])\n",
    "\n",
    "# Вернуть среднее значение\n",
    "np.mean(matrix)\n",
    "\n",
    "# Вернуть дисперсию\n",
    "np.var(matrix)\n",
    "\n",
    "# Вернуть стендартное отклонение\n",
    "np.std(matrix)"
   ]
  },
  {
   "cell_type": "markdown",
   "metadata": {},
   "source": [
    "Также как с функциями `min` и `max` можно легко получить описательные статистические показатели о всей матрице или делать расчеты вдоль одной оси"
   ]
  },
  {
   "cell_type": "code",
   "execution_count": 48,
   "metadata": {},
   "outputs": [
    {
     "data": {
      "text/plain": [
       "array([4., 5., 6.])"
      ]
     },
     "execution_count": 48,
     "metadata": {},
     "output_type": "execute_result"
    }
   ],
   "source": [
    "# Найти среднее значение в каждом столбце\n",
    "np.mean(matrix, axis=0)"
   ]
  },
  {
   "cell_type": "markdown",
   "metadata": {},
   "source": [
    "### 9. Реформирование массивов  \n",
    "##### Задача:  \n",
    "требуется изменить форму (количество строк и столбцов) массива без изменения значений элементов\n",
    "##### Решение:  \n",
    "использовать метод `reshape` библиотеки `NumPy`"
   ]
  },
  {
   "cell_type": "code",
   "execution_count": 51,
   "metadata": {},
   "outputs": [
    {
     "data": {
      "text/plain": [
       "array([[ 1,  2,  3,  4,  5,  6],\n",
       "       [ 7,  8,  9, 10, 11, 12]])"
      ]
     },
     "execution_count": 51,
     "metadata": {},
     "output_type": "execute_result"
    }
   ],
   "source": [
    "# Создать матрицу 4×3\n",
    "matrix = np.array([[1, 2, 3],\n",
    "                   [4, 5, 6],\n",
    "                   [7, 8, 9],\n",
    "                   [10, 11, 12]])\n",
    "\n",
    "# Реформировать матрицу в матрицу 2×6\n",
    "matrix.reshape(2, 6)"
   ]
  },
  {
   "cell_type": "markdown",
   "metadata": {},
   "source": [
    "Метод `reshape` позволяет реструктурировать массив так, что мы сохраняем теже самые данные и при этом организуем их как другое количество строк и столбцов. Единственное требование состоит в том, чтобы формы исходной и новой мтарицы содержали одинаковое количество элементов, т.е. матрицы имели одинаковый размер. Размер матрицы можно увидеть с помощью атрибута `size`"
   ]
  },
  {
   "cell_type": "code",
   "execution_count": 52,
   "metadata": {},
   "outputs": [
    {
     "data": {
      "text/plain": [
       "12"
      ]
     },
     "execution_count": 52,
     "metadata": {},
     "output_type": "execute_result"
    }
   ],
   "source": [
    "matrix.size"
   ]
  },
  {
   "cell_type": "markdown",
   "metadata": {},
   "source": [
    "Одним из полезных аргументов в методе `reshape` является `-1`, который фактически означает *\"столько, сколько нужно\"*, поэтому `reshape(1, -1)` означает одну строку и столько столбцов, сколько необходимо:"
   ]
  },
  {
   "cell_type": "code",
   "execution_count": 58,
   "metadata": {},
   "outputs": [
    {
     "data": {
      "text/plain": [
       "array([[ 1,  2,  3,  4,  5,  6,  7,  8,  9, 10, 11, 12]])"
      ]
     },
     "execution_count": 58,
     "metadata": {},
     "output_type": "execute_result"
    }
   ],
   "source": [
    "matrix.reshape(1, -1)"
   ]
  },
  {
   "cell_type": "markdown",
   "metadata": {},
   "source": [
    "Если представить в качестве аргумента одно целое число, то метод `reshape` вернет одномерный массив этой длины:"
   ]
  },
  {
   "cell_type": "code",
   "execution_count": 61,
   "metadata": {},
   "outputs": [
    {
     "data": {
      "text/plain": [
       "array([ 1,  2,  3,  4,  5,  6,  7,  8,  9, 10, 11, 12])"
      ]
     },
     "execution_count": 61,
     "metadata": {},
     "output_type": "execute_result"
    }
   ],
   "source": [
    "matrix.reshape(12)"
   ]
  },
  {
   "cell_type": "markdown",
   "metadata": {},
   "source": [
    "### 10.  Транспонирование вектора в матрицу  \n",
    "##### Задача:  \n",
    "требуется транспонировать вектор в матрицу"
   ]
  },
  {
   "cell_type": "code",
   "execution_count": 63,
   "metadata": {},
   "outputs": [
    {
     "data": {
      "text/plain": [
       "array([[1, 4, 7],\n",
       "       [2, 5, 8],\n",
       "       [3, 6, 9]])"
      ]
     },
     "execution_count": 63,
     "metadata": {},
     "output_type": "execute_result"
    }
   ],
   "source": [
    "# Создать матрицу\n",
    "matrix = np.array([[1, 2, 3],\n",
    "                   [4, 5, 6],\n",
    "                   [7, 8, 9]])\n",
    "\n",
    "# Транспонировать матрицу\n",
    "matrix.T"
   ]
  },
  {
   "cell_type": "markdown",
   "metadata": {},
   "source": [
    "Транспонирование – это универсальная линейно-алгебраическая операция, в которой индексы столбцов и строк кажного элемента меняются местами. Вне предмета линейной алгебры, как правило, игнорируется один нюанс, который заключается в том, ято технически вектор не может быть транспонирован, потому что он является лишь коллекцией значений."
   ]
  },
  {
   "cell_type": "code",
   "execution_count": 64,
   "metadata": {},
   "outputs": [
    {
     "data": {
      "text/plain": [
       "array([1, 2, 3, 4, 5, 6, 7, 8, 9])"
      ]
     },
     "execution_count": 64,
     "metadata": {},
     "output_type": "execute_result"
    }
   ],
   "source": [
    "# Транспонировать вектор\n",
    "np.array([1, 2, 3, 4, 5, 6, 7, 8, 9]).T"
   ]
  },
  {
   "cell_type": "markdown",
   "metadata": {},
   "source": [
    " Вместе с тем, общепринято называть транспонирование вектора преобразованием вектора-строки в вектор-столбец.  \n",
    " *Внимание на вторую пару скобок!!*"
   ]
  },
  {
   "cell_type": "code",
   "execution_count": 65,
   "metadata": {},
   "outputs": [
    {
     "data": {
      "text/plain": [
       "array([[1],\n",
       "       [2],\n",
       "       [3],\n",
       "       [4],\n",
       "       [5],\n",
       "       [6],\n",
       "       [7],\n",
       "       [8],\n",
       "       [9]])"
      ]
     },
     "execution_count": 65,
     "metadata": {},
     "output_type": "execute_result"
    }
   ],
   "source": [
    "# Транспонировать вектор-строку\n",
    "np.array([[1, 2, 3, 4, 5, 6, 7, 8, 9]]).T"
   ]
  },
  {
   "cell_type": "markdown",
   "metadata": {},
   "source": [
    "### 11. Сглаживание матрицы  \n",
    "##### Задача:  \n",
    "требуется преобразовать матрицу в одномерный массив  \n",
    "##### Решение:  \n",
    "использовать метод `flatten`"
   ]
  },
  {
   "cell_type": "code",
   "execution_count": 68,
   "metadata": {},
   "outputs": [
    {
     "data": {
      "text/plain": [
       "array([1, 2, 3, 4, 5, 6, 7, 8, 9])"
      ]
     },
     "execution_count": 68,
     "metadata": {},
     "output_type": "execute_result"
    }
   ],
   "source": [
    "# Создать матрицу\n",
    "matrix = np.array([[1, 2, 3],\n",
    "                   [4, 5, 6],\n",
    "                   [7, 8, 9]])\n",
    "\n",
    "# Сгладить матрицу\n",
    "matrix.flatten()"
   ]
  },
  {
   "cell_type": "markdown",
   "metadata": {},
   "source": [
    "Метод `flatten` представляет собой простой метод преобразования матрицы в одномерный массив. В качестве альтернативы, чтобы создать вектор-строку, можно применить метод `reshape`:"
   ]
  },
  {
   "cell_type": "code",
   "execution_count": 69,
   "metadata": {},
   "outputs": [
    {
     "data": {
      "text/plain": [
       "array([[1, 2, 3, 4, 5, 6, 7, 8, 9]])"
      ]
     },
     "execution_count": 69,
     "metadata": {},
     "output_type": "execute_result"
    }
   ],
   "source": [
    "matrix.reshape(1, -1)"
   ]
  },
  {
   "cell_type": "markdown",
   "metadata": {},
   "source": [
    "### 12. Нахождение ранга матрицы  \n",
    "##### Задача:  \n",
    "требуется узнать ранг матрицы  \n",
    "##### Решение:  \n",
    "использовать линейно-алгебраический метод `matrix_rank` библиотеки `NumPy`"
   ]
  },
  {
   "cell_type": "code",
   "execution_count": 70,
   "metadata": {},
   "outputs": [
    {
     "data": {
      "text/plain": [
       "2"
      ]
     },
     "execution_count": 70,
     "metadata": {},
     "output_type": "execute_result"
    }
   ],
   "source": [
    "# Создать матрицу\n",
    "matrix = np.array([[1, 1, 1],\n",
    "                   [1, 1, 10],\n",
    "                   [1, 1, 15]])\n",
    "\n",
    "# Вернуть ранг матрицы\n",
    "np.linalg.matrix_rank(matrix)"
   ]
  },
  {
   "cell_type": "markdown",
   "metadata": {},
   "source": [
    "**Ранг матрицы – это размерности вектроного пространства, которые покрываются ее столбцами или строками**"
   ]
  },
  {
   "cell_type": "markdown",
   "metadata": {},
   "source": [
    "### 13. Вычисление определителя матрицы  \n",
    "##### Задача:  \n",
    "требуется узать определитель матрицы\n",
    "##### Решение  \n",
    "использовать линейно-алгебраический метод `det` библиотеки `NumPy`  "
   ]
  },
  {
   "cell_type": "code",
   "execution_count": 73,
   "metadata": {},
   "outputs": [
    {
     "data": {
      "text/plain": [
       "0.0"
      ]
     },
     "execution_count": 73,
     "metadata": {},
     "output_type": "execute_result"
    }
   ],
   "source": [
    "# Создать матрицу\n",
    "matrix = np.array([[1, 2, 3],\n",
    "                   [4, 5, 6],\n",
    "                   [7, 8, 9]])\n",
    "\n",
    "# Вернуть определитель матрицы\n",
    "np.linalg.det(matrix)"
   ]
  },
  {
   "cell_type": "markdown",
   "metadata": {},
   "source": [
    "### 14.  Получение диагонали матрицы  \n",
    "##### Задача:  \n",
    "требуется получить элементы главной диагонали матрицы\n",
    "##### Решение:  \n",
    "использовать метод `diagonal`  "
   ]
  },
  {
   "cell_type": "code",
   "execution_count": 75,
   "metadata": {},
   "outputs": [
    {
     "data": {
      "text/plain": [
       "array([1, 5, 9])"
      ]
     },
     "execution_count": 75,
     "metadata": {},
     "output_type": "execute_result"
    }
   ],
   "source": [
    "# Создать матрицу\n",
    "matrix = np.array([[1, 2, 3],\n",
    "                   [4, 5, 6],\n",
    "                   [7, 8, 9]])\n",
    "\n",
    "# Вернуть диагональные элементы\n",
    "matrix.diagonal()"
   ]
  },
  {
   "cell_type": "markdown",
   "metadata": {},
   "source": [
    "Метод `diagonal` позволяет вернуть элементы главной диагонали матрицы. Кроме того, с помощью параметра `offset` можно получить диагональ в стороне от главной диагонали"
   ]
  },
  {
   "cell_type": "code",
   "execution_count": 79,
   "metadata": {},
   "outputs": [
    {
     "data": {
      "text/plain": [
       "array([2, 6])"
      ]
     },
     "execution_count": 79,
     "metadata": {},
     "output_type": "execute_result"
    }
   ],
   "source": [
    "# Вернуть диагональ на одну выше главной диагонали\n",
    "matrix.diagonal(offset=1)"
   ]
  },
  {
   "cell_type": "code",
   "execution_count": 80,
   "metadata": {},
   "outputs": [
    {
     "data": {
      "text/plain": [
       "array([4, 8])"
      ]
     },
     "execution_count": 80,
     "metadata": {},
     "output_type": "execute_result"
    }
   ],
   "source": [
    "# Вернуть диагональ на одну ниже главной диагонали\n",
    "matrix.diagonal(offset=-1)"
   ]
  },
  {
   "cell_type": "markdown",
   "metadata": {},
   "source": [
    "### 15. Вычисление следа матрицы  \n",
    "##### Задача:  \n",
    "требуется вычислить след матрицы  \n",
    "##### Решение: \n",
    "использовать метод `trace`  "
   ]
  },
  {
   "cell_type": "code",
   "execution_count": 81,
   "metadata": {},
   "outputs": [
    {
     "data": {
      "text/plain": [
       "15"
      ]
     },
     "execution_count": 81,
     "metadata": {},
     "output_type": "execute_result"
    }
   ],
   "source": [
    "# Создать матрицу \n",
    "matrix = np.array([[1, 2, 3],\n",
    "                   [4, 5, 6],\n",
    "                   [7, 8, 9]])\n",
    "\n",
    "# Вернуть след\n",
    "matrix.trace()"
   ]
  },
  {
   "cell_type": "markdown",
   "metadata": {},
   "source": [
    "**След матрицы является суммой элементов главной диагонали** и часто используется за кадром в методах машинного обучения. Альтернатива: вернуть диагональ матрицы и вычислить сумму ее элементов"
   ]
  },
  {
   "cell_type": "code",
   "execution_count": 82,
   "metadata": {},
   "outputs": [
    {
     "data": {
      "text/plain": [
       "15"
      ]
     },
     "execution_count": 82,
     "metadata": {},
     "output_type": "execute_result"
    }
   ],
   "source": [
    "# Вернуть диагональ и сумму ее элементов\n",
    "sum(matrix.diagonal())"
   ]
  },
  {
   "cell_type": "markdown",
   "metadata": {},
   "source": [
    "### 16. Нахождение собственных значений и собственных векторов \n",
    "##### Задача: \n",
    "требуется найти собственные значения и собственные векторы квадратной матрицы  \n",
    "##### Решение:  \n",
    "использовать метод `linag.eig` библиотеки `NumPy`"
   ]
  },
  {
   "cell_type": "code",
   "execution_count": 85,
   "metadata": {},
   "outputs": [
    {
     "data": {
      "text/plain": [
       "array([[-0.17622017, -0.96677403, -0.53373322],\n",
       "       [-0.435951  ,  0.2053623 , -0.64324848],\n",
       "       [-0.88254925,  0.15223105,  0.54896288]])"
      ]
     },
     "execution_count": 85,
     "metadata": {},
     "output_type": "execute_result"
    }
   ],
   "source": [
    "# Создать матрицу\n",
    "matrix = np.array([[1, -1, 3],\n",
    "                   [1, 1, 6],\n",
    "                   [3, 8, 9]])\n",
    "\n",
    "# Вычислить собственные значения и собственные вектора\n",
    "eigenvalues, eigenvectors = np.linalg.eig(matrix)\n",
    "\n",
    "# Взглянуть на собственные значения\n",
    "eigenvalues\n",
    "\n",
    "# Взглянуть на собственные вектора\n",
    "eigenvectors"
   ]
  },
  {
   "cell_type": "markdown",
   "metadata": {},
   "source": [
    "Собственные векторы широко используются в библиотеках машинного обучения. В интуитивном плане, имея линейное преобразование представленное матрицей `A`, можно сказать, что собственные векторы – это векторы, которые при применении этого преобразования изменяются только в масштабе, а не в направлении:\n",
    "$$Av = λv$$\n",
    "где A – это квадраная матрица;\n",
    "λ – собственное значение;\n",
    "v – собственный вектор.  \n",
    "В наборе линейно-алгебраических инструментов библиотеки `NumPy` метод `eig` позволяет вычислять собственные значения и собственны векторы любой квадратной матрицы."
   ]
  },
  {
   "cell_type": "markdown",
   "metadata": {},
   "source": [
    "### 17.  Вычисление скалярных произведений  \n",
    "##### Задача:  \n",
    "требуется вычислить скалярное произведение двух векторов (иногда говорять внутреннее произведение или умножение точкой (dot product)\n",
    "#####  Решение: \n",
    "использовать класс `dot` библиотеки `NumPy`"
   ]
  },
  {
   "cell_type": "code",
   "execution_count": 86,
   "metadata": {},
   "outputs": [
    {
     "data": {
      "text/plain": [
       "32"
      ]
     },
     "execution_count": 86,
     "metadata": {},
     "output_type": "execute_result"
    }
   ],
   "source": [
    "# Создать два вектора\n",
    "vector_a = np.array([1, 2, 3])\n",
    "vector_b = np.array([4, 5, 6])\n",
    "\n",
    "# Вычислить скалярное произведение\n",
    "np.dot(vector_a, vector_b)"
   ]
  },
  {
   "cell_type": "markdown",
   "metadata": {},
   "source": [
    "Скалярное произведение двух векторов `a` и `b` определяется как:\n",
    "$$\\sum_{i=1}^{n} a_i b_i$$\n",
    "где `a_i` и `b_i` – i-е элементы векторов `a` и `b` соответственно.\n",
    "##### Альтернатива : \n",
    "в Python 3.5+ можно применить оператор `@`:"
   ]
  },
  {
   "cell_type": "code",
   "execution_count": 87,
   "metadata": {},
   "outputs": [
    {
     "data": {
      "text/plain": [
       "32"
      ]
     },
     "execution_count": 87,
     "metadata": {},
     "output_type": "execute_result"
    }
   ],
   "source": [
    "vector_a @ vector_b"
   ]
  },
  {
   "cell_type": "markdown",
   "metadata": {},
   "source": [
    "### 18. Сложение и вычитание матриц  \n",
    "##### Задача:\n",
    "требуется сложить или вычесть две матрицы\n",
    "##### Решение:  \n",
    "использовать методы `add` и `subtract` библиотеки `NumPy`  "
   ]
  },
  {
   "cell_type": "code",
   "execution_count": 89,
   "metadata": {},
   "outputs": [
    {
     "data": {
      "text/plain": [
       "array([[ 0, -2,  0],\n",
       "       [ 0, -2,  0],\n",
       "       [ 0, -2, -6]])"
      ]
     },
     "execution_count": 89,
     "metadata": {},
     "output_type": "execute_result"
    }
   ],
   "source": [
    "# Создать матрицы\n",
    "matrix_a = np.array([[1, 1, 1],\n",
    "                     [1, 1, 1],\n",
    "                     [1, 1, 2]])\n",
    "\n",
    "matrix_b = np.array([[1, 3, 1],\n",
    "                     [1, 3, 1],\n",
    "                     [1, 3, 8]])\n",
    "\n",
    "# Сложить две матрицы\n",
    "np.add(matrix_a, matrix_b)\n",
    "\n",
    "# Вычесть из одной матрицы другую\n",
    "np.subtract(matrix_a, matrix_b)"
   ]
  },
  {
   "cell_type": "markdown",
   "metadata": {},
   "source": [
    "##### Альтернатива: \n",
    "можно применить операторы `+` и `-`"
   ]
  },
  {
   "cell_type": "code",
   "execution_count": 92,
   "metadata": {},
   "outputs": [
    {
     "data": {
      "text/plain": [
       "array([[ 0, -2,  0],\n",
       "       [ 0, -2,  0],\n",
       "       [ 0, -2, -6]])"
      ]
     },
     "execution_count": 92,
     "metadata": {},
     "output_type": "execute_result"
    }
   ],
   "source": [
    "# Сложить две матрицы\n",
    "matrix_a + matrix_b\n",
    "\n",
    "# Вычесть из одной матрицы другую\n",
    "matrix_a - matrix_b"
   ]
  },
  {
   "cell_type": "markdown",
   "metadata": {},
   "source": [
    "### 19. Умножение матриц  \n",
    "##### Задача:  \n",
    "требуется перемножить две матрицы\n",
    "##### Решение: \n",
    "использовать класс `dot` библиотеки `NumPy`"
   ]
  },
  {
   "cell_type": "code",
   "execution_count": 93,
   "metadata": {},
   "outputs": [
    {
     "data": {
      "text/plain": [
       "array([[2, 5],\n",
       "       [3, 7]])"
      ]
     },
     "execution_count": 93,
     "metadata": {},
     "output_type": "execute_result"
    }
   ],
   "source": [
    "# Создать матрицы\n",
    "matrix_a = np.array([[1, 1],\n",
    "                     [1, 2]])\n",
    "\n",
    "matrix_b = np.array([[1, 3],\n",
    "                     [1, 2]])\n",
    "\n",
    "# Перемножить две матрицы\n",
    "np.dot(matrix_a, matrix_b)"
   ]
  },
  {
   "cell_type": "markdown",
   "metadata": {},
   "source": [
    "##### Альтернатива:  \n",
    "можно применить оператор `@`  "
   ]
  },
  {
   "cell_type": "code",
   "execution_count": 94,
   "metadata": {},
   "outputs": [
    {
     "data": {
      "text/plain": [
       "array([[2, 5],\n",
       "       [3, 7]])"
      ]
     },
     "execution_count": 94,
     "metadata": {},
     "output_type": "execute_result"
    }
   ],
   "source": [
    "# Перемножить две матрицы\n",
    "matrix_a @ matrix_b"
   ]
  },
  {
   "cell_type": "markdown",
   "metadata": {},
   "source": [
    "Если требуется поэлементное перемножение, то можно применить оператор `*`"
   ]
  },
  {
   "cell_type": "code",
   "execution_count": 95,
   "metadata": {},
   "outputs": [
    {
     "data": {
      "text/plain": [
       "array([[1, 3],\n",
       "       [1, 4]])"
      ]
     },
     "execution_count": 95,
     "metadata": {},
     "output_type": "execute_result"
    }
   ],
   "source": [
    "# Перемножить две матрицы поэлементно\n",
    "matrix_a * matrix_b"
   ]
  },
  {
   "cell_type": "markdown",
   "metadata": {},
   "source": [
    "### Обращение матрицы  \n",
    "##### Задача:\n",
    "вычислить обратную квадратную матрицу\n",
    "##### Решение: \n",
    "использовать линейно-алгебраический метод `inv` библиотеки `NumPy`"
   ]
  },
  {
   "cell_type": "code",
   "execution_count": 102,
   "metadata": {},
   "outputs": [
    {
     "data": {
      "text/plain": [
       "array([[-1.66666667,  1.33333333],\n",
       "       [ 0.66666667, -0.33333333]])"
      ]
     },
     "execution_count": 102,
     "metadata": {},
     "output_type": "execute_result"
    }
   ],
   "source": [
    "# Создать матрицу\n",
    "matrix = np.array([[1, 4],\n",
    "                   [2, 5]])\n",
    "\n",
    "# Вычислить обратную матрицу\n",
    "np.linalg.inv(matrix)"
   ]
  },
  {
   "cell_type": "markdown",
   "metadata": {},
   "source": [
    "Матрицей, обратной квадратной матрице `A`, является вторая матрица `A^-1`, если она существует, используется метод `linalg.inv`. Для проверки можно переменожить матрицу на обратную ей, в результате будет получена единичная матрица:"
   ]
  },
  {
   "cell_type": "code",
   "execution_count": 103,
   "metadata": {},
   "outputs": [
    {
     "data": {
      "text/plain": [
       "array([[1.00000000e+00, 0.00000000e+00],\n",
       "       [1.11022302e-16, 1.00000000e+00]])"
      ]
     },
     "execution_count": 103,
     "metadata": {},
     "output_type": "execute_result"
    }
   ],
   "source": [
    "# Умножить матрицу на обратную ей матрицу\n",
    "matrix @ np.linalg.inv(matrix)"
   ]
  },
  {
   "cell_type": "markdown",
   "metadata": {},
   "source": [
    "### 21. Генеирование случайных значений  \n",
    "#####  Задача: \n",
    "требуется сгенерировать псевдослучайные значения\n",
    "##### Решение:  \n",
    "использовать метод `random` библиотеки `NumPy`"
   ]
  },
  {
   "cell_type": "code",
   "execution_count": 105,
   "metadata": {},
   "outputs": [
    {
     "data": {
      "text/plain": [
       "array([0.5488135 , 0.71518937, 0.60276338])"
      ]
     },
     "execution_count": 105,
     "metadata": {},
     "output_type": "execute_result"
    }
   ],
   "source": [
    "# Задать начальное значение для генератора псевдослучайных чисел\n",
    "np.random.seed(0)\n",
    "\n",
    "# Сгенерировать три случайных числа\n",
    "np.random.random(3)"
   ]
  },
  {
   "cell_type": "markdown",
   "metadata": {},
   "source": [
    "##### Генерация целых чисел"
   ]
  },
  {
   "cell_type": "code",
   "execution_count": 107,
   "metadata": {},
   "outputs": [
    {
     "data": {
      "text/plain": [
       "array([3, 5, 2])"
      ]
     },
     "execution_count": 107,
     "metadata": {},
     "output_type": "execute_result"
    }
   ],
   "source": [
    "# Сгенерировать три случайных целых числа между 1 и 10\n",
    "np.random.randint(0, 11, 3)"
   ]
  },
  {
   "cell_type": "markdown",
   "metadata": {},
   "source": [
    "##### Альтернатива\n",
    "Можно генерировать числа, извлекая их из распределения"
   ]
  },
  {
   "cell_type": "code",
   "execution_count": 110,
   "metadata": {},
   "outputs": [
    {
     "data": {
      "text/plain": [
       "array([1.14335329, 1.94466892, 1.52184832])"
      ]
     },
     "execution_count": 110,
     "metadata": {},
     "output_type": "execute_result"
    }
   ],
   "source": [
    "# Извлечь три числа из нормального распределения со средним равным 0.0\n",
    "# и стандартным отклонением равным 1.0\n",
    "np.random.normal(0.0, 1.0, 3)\n",
    "\n",
    "# Извлечь три числа из логистического распределения сосредним равным 0.0\n",
    "# и масштабом равным 1.0\n",
    "np.random.logistic(0.0, 1.0, 3)\n",
    "\n",
    "# Извлечь три числа, которые больше или равны 1.0 и меньше 2.0\n",
    "np.random.uniform(1.0, 2.0, 3)"
   ]
  },
  {
   "cell_type": "markdown",
   "metadata": {},
   "source": [
    "Например, иногда необходимо возвращать  одни и те же случайные числа несколько раз, чтобы получать предсказуемые, повторяемые результаты. Это можно сделать, задав \"начальное значение\" (целое число) генератора псевдослучайных чисел. Случайные процессы с одними и теми же начальными значениями всегда будут пораждать один и тот же результат."
   ]
  }
 ],
 "metadata": {
  "kernelspec": {
   "display_name": "Python 3.7",
   "language": "python",
   "name": "python3"
  },
  "language_info": {
   "codemirror_mode": {
    "name": "ipython",
    "version": 3
   },
   "file_extension": ".py",
   "mimetype": "text/x-python",
   "name": "python",
   "nbconvert_exporter": "python",
   "pygments_lexer": "ipython3",
   "version": "3.7.4"
  }
 },
 "nbformat": 4,
 "nbformat_minor": 2
}

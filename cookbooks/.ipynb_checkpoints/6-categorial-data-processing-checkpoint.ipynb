{
 "cells": [
  {
   "cell_type": "markdown",
   "metadata": {},
   "source": [
    "# Работа с категориальными данными\n",
    "Часто возникает задача разбить данные на категории не по количеству, а по качеству. Такая качественная информация представляется как принадлежность наблюдения отдельной категории, такой как пол, цвет или марка автомобиля и т.д. Однако не все категориальные данные одинаковы. Наборы категорий без внутреннего упорядочивания называются *номинальными*. Примеры номнальных категорий включают:\n",
    "* синий, ркасный, зеленый;  \n",
    "* мужчинв, женщина;  \n",
    "* банан, клубника, яблоко.  \n",
    "\n",
    "С другой стороны, когда набор категорий имеет определенное естественное упорядочивание, оно называется *порядковым*. Напрмер:\n",
    "* низкий, средний, высокий;  \n",
    "* молодой, старый;  \n",
    "* согласен, нейтрален, не согласен.  \n",
    "\n",
    "Более того категориальная информаия часто представлена в данных в виде вектора или столбцасимвольных значений. Например: `['Мэн', 'Техас', 'Делавэр']`. Проблема в том, что большинство алгоритмов машинного обучения требуют ввода числовых значений.\n",
    "\n",
    "Алгоритм $k$ ближайших соседей предоставляет простой пример. ОДним из шагов в алгоритме является вычисление расстояний между наблюдениями – часто с использование евклидова расстояния:\n",
    "$$\\sqrt{\\sum^{n}_{i=1}{(x_i - y_i)^2}}$$\n",
    "где $x$ и $y$ – это два наблюдения, а $i$ – номер признака наблюдения.\n",
    "\n",
    "Однако вычисление расстояния, очевидно, невозможно, если значение $x_i$ является строкой (например, `'Техас'`). Для того, чтобы его можно было ввести в уравнение евклидова расстояния, необходимо преобразовать это строковое значение в числовой формат. Важно сделать такое преобразование таким образом, чтобы оно правильно передавало информацию в категориях (упорядоченность, относительные интервалы между категориями и т.д.\n",
    "\n",
    "***\n"
   ]
  },
  {
   "cell_type": "markdown",
   "metadata": {},
   "source": [
    "### 1. Кодирование номинальных категориальных признаков\n",
    "##### Задача\n",
    "Дан признак с номинальными классами, который не имеет внутренней упорядоченности. Преобразовать признак в кодировку с одним активными состоянием.\n",
    "##### Решение\n",
    "Используем класс `LabelBinarizer` библиотеки `scikit-learn`"
   ]
  },
  {
   "cell_type": "code",
   "execution_count": 3,
   "metadata": {},
   "outputs": [
    {
     "data": {
      "text/plain": [
       "array([[0, 0, 0, 1],\n",
       "       [1, 0, 0, 0],\n",
       "       [0, 0, 0, 1],\n",
       "       [0, 1, 0, 0],\n",
       "       [0, 0, 1, 0],\n",
       "       [0, 0, 0, 1]])"
      ]
     },
     "execution_count": 3,
     "metadata": {},
     "output_type": "execute_result"
    }
   ],
   "source": [
    "# Импортировать библиотеки\n",
    "import numpy as np\n",
    "from sklearn.preprocessing import LabelBinarizer, MultiLabelBinarizer\n",
    "\n",
    "# Создать признак\n",
    "feature = np.array([\n",
    "    ['Texas'],\n",
    "    ['California'],\n",
    "    ['Texas'],\n",
    "    ['Delaware'],\n",
    "    ['Minesota'],\n",
    "    ['Texas']\n",
    "])\n",
    "\n",
    "# Создать кодировщик одного активного состояния\n",
    "one_hot = LabelBinarizer()\n",
    "\n",
    "# Преобразовать признак в кодировку с одним активным состоянием\n",
    "one_hot.fit_transform(feature)"
   ]
  },
  {
   "cell_type": "markdown",
   "metadata": {},
   "source": [
    "Для вывода классов можно воспользоваться атрибутом `classes_`:"
   ]
  },
  {
   "cell_type": "code",
   "execution_count": 4,
   "metadata": {},
   "outputs": [
    {
     "data": {
      "text/plain": [
       "array(['California', 'Delaware', 'Minesota', 'Texas'], dtype='<U10')"
      ]
     },
     "execution_count": 4,
     "metadata": {},
     "output_type": "execute_result"
    }
   ],
   "source": [
    "# Взглянуть на классы признака\n",
    "one_hot.classes_"
   ]
  },
  {
   "cell_type": "markdown",
   "metadata": {},
   "source": [
    "Если требуется обратить кодирование с одним активным состоянием, необходимо применить метод `inverse_transform()`:"
   ]
  },
  {
   "cell_type": "code",
   "execution_count": 6,
   "metadata": {},
   "outputs": [
    {
     "data": {
      "text/plain": [
       "array(['Texas', 'California', 'Texas', 'Delaware', 'Minesota', 'Texas'],\n",
       "      dtype='<U10')"
      ]
     },
     "execution_count": 6,
     "metadata": {},
     "output_type": "execute_result"
    }
   ],
   "source": [
    "# Обратить кодирование с одним активным состоянием\n",
    "one_hot.inverse_transform(one_hot.transform(feature))"
   ]
  },
  {
   "cell_type": "markdown",
   "metadata": {},
   "source": [
    "Также для преобразования признака в кодировку с одним активным состоянием можно использовать библиотеку `pandas`:"
   ]
  },
  {
   "cell_type": "code",
   "execution_count": 7,
   "metadata": {},
   "outputs": [
    {
     "name": "stderr",
     "output_type": "stream",
     "text": [
      "/usr/local/Cellar/python/3.7.4_1/Frameworks/Python.framework/Versions/3.7/lib/python3.7/importlib/_bootstrap.py:219: RuntimeWarning: numpy.ufunc size changed, may indicate binary incompatibility. Expected 216, got 192\n",
      "  return f(*args, **kwds)\n",
      "/usr/local/Cellar/python/3.7.4_1/Frameworks/Python.framework/Versions/3.7/lib/python3.7/importlib/_bootstrap.py:219: RuntimeWarning: numpy.ufunc size changed, may indicate binary incompatibility. Expected 216, got 192\n",
      "  return f(*args, **kwds)\n"
     ]
    },
    {
     "data": {
      "text/html": [
       "<div>\n",
       "<style scoped>\n",
       "    .dataframe tbody tr th:only-of-type {\n",
       "        vertical-align: middle;\n",
       "    }\n",
       "\n",
       "    .dataframe tbody tr th {\n",
       "        vertical-align: top;\n",
       "    }\n",
       "\n",
       "    .dataframe thead th {\n",
       "        text-align: right;\n",
       "    }\n",
       "</style>\n",
       "<table border=\"1\" class=\"dataframe\">\n",
       "  <thead>\n",
       "    <tr style=\"text-align: right;\">\n",
       "      <th></th>\n",
       "      <th>California</th>\n",
       "      <th>Delaware</th>\n",
       "      <th>Minesota</th>\n",
       "      <th>Texas</th>\n",
       "    </tr>\n",
       "  </thead>\n",
       "  <tbody>\n",
       "    <tr>\n",
       "      <td>0</td>\n",
       "      <td>0</td>\n",
       "      <td>0</td>\n",
       "      <td>0</td>\n",
       "      <td>1</td>\n",
       "    </tr>\n",
       "    <tr>\n",
       "      <td>1</td>\n",
       "      <td>1</td>\n",
       "      <td>0</td>\n",
       "      <td>0</td>\n",
       "      <td>0</td>\n",
       "    </tr>\n",
       "    <tr>\n",
       "      <td>2</td>\n",
       "      <td>0</td>\n",
       "      <td>0</td>\n",
       "      <td>0</td>\n",
       "      <td>1</td>\n",
       "    </tr>\n",
       "    <tr>\n",
       "      <td>3</td>\n",
       "      <td>0</td>\n",
       "      <td>1</td>\n",
       "      <td>0</td>\n",
       "      <td>0</td>\n",
       "    </tr>\n",
       "    <tr>\n",
       "      <td>4</td>\n",
       "      <td>0</td>\n",
       "      <td>0</td>\n",
       "      <td>1</td>\n",
       "      <td>0</td>\n",
       "    </tr>\n",
       "    <tr>\n",
       "      <td>5</td>\n",
       "      <td>0</td>\n",
       "      <td>0</td>\n",
       "      <td>0</td>\n",
       "      <td>1</td>\n",
       "    </tr>\n",
       "  </tbody>\n",
       "</table>\n",
       "</div>"
      ],
      "text/plain": [
       "   California  Delaware  Minesota  Texas\n",
       "0           0         0         0      1\n",
       "1           1         0         0      0\n",
       "2           0         0         0      1\n",
       "3           0         1         0      0\n",
       "4           0         0         1      0\n",
       "5           0         0         0      1"
      ]
     },
     "execution_count": 7,
     "metadata": {},
     "output_type": "execute_result"
    }
   ],
   "source": [
    "# Импортировать библиотеку\n",
    "import pandas as pd \n",
    "\n",
    "# Создать фиктивные переменные признака\n",
    "pd.get_dummies(feature[:,0])"
   ]
  },
  {
   "cell_type": "markdown",
   "metadata": {},
   "source": [
    "Другой полезной возможностью библиотеки `scikit-learn` является обработка ситуации, когда в каждом наблюдении перечисляется несколько классов:"
   ]
  },
  {
   "cell_type": "code",
   "execution_count": 8,
   "metadata": {},
   "outputs": [
    {
     "data": {
      "text/plain": [
       "array([[0, 0, 0, 1, 1],\n",
       "       [1, 1, 0, 0, 0],\n",
       "       [0, 0, 0, 1, 1],\n",
       "       [0, 0, 1, 1, 0],\n",
       "       [1, 0, 0, 0, 1]])"
      ]
     },
     "execution_count": 8,
     "metadata": {},
     "output_type": "execute_result"
    }
   ],
   "source": [
    "# Создать мультиклассовый признак\n",
    "multiclass_feature = [\n",
    "    ('Texas', 'Florida'),\n",
    "    ('California', 'Alabama'),\n",
    "    ('Texas', 'Florida'),\n",
    "    ('Delaware', 'Florida'),\n",
    "    ('Texas', 'Alabama')\n",
    "]\n",
    "\n",
    "# Создать мультиклассовый кодировщик, преобразующий признак в кодировку с одним активным состоянием\n",
    "one_hot_multiclass = MultiLabelBinarizer()\n",
    "\n",
    "# Кодировать мультиклассовый признак в кодировку с одним активным состоянием\n",
    "one_hot_multiclass.fit_transform(multiclass_feature)"
   ]
  },
  {
   "cell_type": "code",
   "execution_count": 9,
   "metadata": {},
   "outputs": [
    {
     "data": {
      "text/plain": [
       "array(['Alabama', 'California', 'Delaware', 'Florida', 'Texas'],\n",
       "      dtype=object)"
      ]
     },
     "execution_count": 9,
     "metadata": {},
     "output_type": "execute_result"
    }
   ],
   "source": [
    "# Взглянуть на классы\n",
    "one_hot_multiclass.classes_"
   ]
  },
  {
   "cell_type": "markdown",
   "metadata": {},
   "source": [
    "*Кодирование с одним активным сотоянием* (one-hot encoding) пришло из терминологии цифровых интегральных микросхем, где оно описывает конфигурацию микросхемы, в которой допускается, чтобы только один бит был положительным.\n",
    "\n",
    "Может показаться, что более правильной стратегией будет та, в которой каждому классу будет назначено числовле значение, нпример: `Texas = 1`, `'California' = 2` и т.д. Однако, кодга классы не имеют  внутренней упорядоченности, числовые значения ошибочно задают порядок, которого нет.\n",
    "\n",
    "Грамотной стратегией является создание в исходном признаке бинарного признака для класса, т.е. *кодирование с одним активным состоянием* или *фиктивизация*. Признаком в примере выше был вектор, содержащий четыре класса `'California'`, `'Delaware'`, `'Minesota'` и `'Texas'`. В кодировании с одним активным состояниемкаждый класс становится одноэлементным признаком с единицами, кодга класс появляется и нулями, кодга отсутствует.\n",
    "\n",
    "Поскольку признак `feature` имел четыре класса, кодирование с одним активным состоянием вернул четыре бинарных признака, по одному для каждого класса. Используя кодирование с одним активным состоянием, можно фиксировать принадлежность наблюдения к классу, сохраняя при этом сведения о том, что в класса отстутствует какая-либо иерархия.\n",
    "\n",
    "Следует отметить, что после кодирования признака в кодировку с одним активным состоянием рекомендуется отбрасывать один из закодированных в результирующей матрице признаков, чтобы избежать линейной зависимости.\n",
    "\n",
    "##### Дополнительные материалы\n",
    "* Статья \"Ловушка фиктивной переменной\": https://www.algosome.com/articles/dummy-variable-trap-regression.html    \n",
    "* Статья \"Исключение одного из столбцов при использовании кодирований с одним активным сотоянием\": https://stats.stackexchange.com/questions/231285/dropping-one-of-the-columns-when-using-one-hot-encoding  "
   ]
  },
  {
   "cell_type": "markdown",
   "metadata": {},
   "source": [
    "### 2. Кодирование порядковых категориальных признаков\n",
    "##### Задача\n",
    "Дан порядковый ктегориальный признак. Выполнить его кодировку\n",
    "##### Решение\n",
    "Используем метод `repalce()` фрейма данных библиотеки `pandas` для преобразования строковых меток в числовые"
   ]
  },
  {
   "cell_type": "code",
   "execution_count": 11,
   "metadata": {},
   "outputs": [
    {
     "data": {
      "text/plain": [
       "0    1\n",
       "1    1\n",
       "2    2\n",
       "3    3\n",
       "4    2\n",
       "Name: оценка, dtype: int64"
      ]
     },
     "execution_count": 11,
     "metadata": {},
     "output_type": "execute_result"
    }
   ],
   "source": [
    "# Создать признаки\n",
    "df = pd.DataFrame(\n",
    "    {'оценка': ['низкая', 'низкая', 'средняя', 'высокая', 'средняя']}\n",
    ")\n",
    "\n",
    "# Создать словарь преобразования шкалы\n",
    "scale_mapper = {\n",
    "    'низкая': 1,\n",
    "    'средняя': 2,\n",
    "    'высокая': 3\n",
    "}\n",
    "\n",
    "# Заменить значения признаков значениями словаря\n",
    "df['оценка'].replace(scale_mapper)"
   ]
  },
  {
   "cell_type": "code",
   "execution_count": 10,
   "metadata": {},
   "outputs": [
    {
     "data": {
      "text/plain": [
       "18"
      ]
     },
     "execution_count": 10,
     "metadata": {},
     "output_type": "execute_result"
    }
   ],
   "source": [
    "авы = 9\n",
    "выа = 9\n",
    "авы + выа"
   ]
  },
  {
   "cell_type": "markdown",
   "metadata": {},
   "source": [
    "Нередко существует признак с классами, которые имеют определенную естественную упорядоченность. Известный пример — шкала Лайкерта:\n",
    "* полностью согласен;\n",
    "* согласен;\n",
    "* нейтрален;\n",
    "* не согласен;\n",
    "* категорически не согласен.\n",
    "\n",
    "При кодировании признака дл] использовании в машинном обучении требуется преобразовать порядковые классы в числовые значения, которые поддерживают идею упорядоченности. Наиболее распространенным подходом является создание словаря, который строковой меткекласса ставит в соответствие чило, а затем применяет это соотнесение к признаку.\n",
    "\n",
    "Важно, чтобы выбор числовых значений основывался на имеющейся апрорной информации о порядковых классах. Например, метка `'высокая'` буквально в три раза больше метки `'низкая'`. Это нормально в обычных случаях, но может нарушиться, если принятые интервалы между классами не равны:"
   ]
  },
  {
   "cell_type": "code",
   "execution_count": 13,
   "metadata": {},
   "outputs": [
    {
     "data": {
      "text/plain": [
       "0    1\n",
       "1    1\n",
       "2    2\n",
       "3    4\n",
       "4    3\n",
       "Name: оценка, dtype: int64"
      ]
     },
     "execution_count": 13,
     "metadata": {},
     "output_type": "execute_result"
    }
   ],
   "source": [
    "df = pd.DataFrame(\n",
    "    {'оценка': [\n",
    "                'низкая',\n",
    "                'низкая',\n",
    "                'средняя',\n",
    "                'высокая',\n",
    "                'чуть больше средней'\n",
    "                ]\n",
    "    }\n",
    ")\n",
    "\n",
    "scale_mapper = {\n",
    "    'низкая': 1,\n",
    "    'средняя': 2,\n",
    "    'чуть больше средней': 3,\n",
    "    'высокая': 4\n",
    "}\n",
    "\n",
    "df['оценка'].replace(scale_mapper)"
   ]
  },
  {
   "cell_type": "markdown",
   "metadata": {},
   "source": [
    "В данном примере расстояние между `'низкой'` и `'средней'` равно расстоянию между `'средней'` и `'чуть больше средней'`, что почти наверняка не является точным. Лучший подход сотоит в том, чтобы учитывать чиловые значения, сопоставленным классам:"
   ]
  },
  {
   "cell_type": "code",
   "execution_count": 14,
   "metadata": {},
   "outputs": [
    {
     "data": {
      "text/plain": [
       "0    1.0\n",
       "1    1.0\n",
       "2    2.0\n",
       "3    4.0\n",
       "4    2.1\n",
       "Name: оценка, dtype: float64"
      ]
     },
     "execution_count": 14,
     "metadata": {},
     "output_type": "execute_result"
    }
   ],
   "source": [
    "scale_mapper = {\n",
    "    'низкая': 1,\n",
    "    'средняя': 2,\n",
    "    'чуть больше средней': 2.1,\n",
    "    'высокая': 4\n",
    "}\n",
    "\n",
    "df['оценка'].replace(scale_mapper)"
   ]
  },
  {
   "cell_type": "markdown",
   "metadata": {},
   "source": [
    "### 3. Кодирование словарей признаков\n",
    "##### Задача\n",
    "Дан словарь, и требуется его конвертировать в матрицу признаков\n",
    "##### Решение\n",
    "Используем класс-векторизатор словаря `DictVectorizer` библиотеки `scikit-learn`"
   ]
  },
  {
   "cell_type": "code",
   "execution_count": 15,
   "metadata": {},
   "outputs": [
    {
     "data": {
      "text/plain": [
       "array([[0., 2., 4.],\n",
       "       [0., 4., 3.],\n",
       "       [2., 1., 0.],\n",
       "       [2., 2., 0.]])"
      ]
     },
     "execution_count": 15,
     "metadata": {},
     "output_type": "execute_result"
    }
   ],
   "source": [
    "# Импортировать библиотеку\n",
    "from sklearn.feature_extraction import DictVectorizer\n",
    "\n",
    "# Создать словарь\n",
    "data_dict = [\n",
    "    {'красный': 2, 'синий': 4},\n",
    "    {'красный': 4, 'синий': 3},\n",
    "    {'красный': 1, 'желтый': 2},\n",
    "    {'красный': 2, 'желтый': 2}\n",
    "]\n",
    "\n",
    "# Создать векторизатор словаря\n",
    "dictvectorizer = DictVectorizer(sparse=False)\n",
    "\n",
    "# Конвертировать словарь в матрицу признаков\n",
    "dictvectorizer.fit_transform(data_dict)"
   ]
  },
  {
   "cell_type": "markdown",
   "metadata": {},
   "source": [
    "По умолчанию `DictVectorizer` выводит разряженную матрицу, в которой храняться только элементы со значением отличным от $0$. Это может быть очень полезно, когда имеются массивные матрицы, часто встречающиеся в обработке естественного языка, и требуется минимзировать потребности в оперативной памяти. Менять вывод `DictVectorised` с плотной на разряженную матрицу можно с помощью атрибута `sparse=`.\n",
    "\n",
    "Имена каждого созданного признака можно получить с помощью метода `get_feature_name`:\n"
   ]
  },
  {
   "cell_type": "code",
   "execution_count": 16,
   "metadata": {},
   "outputs": [
    {
     "data": {
      "text/plain": [
       "['желтый', 'красный', 'синий']"
      ]
     },
     "execution_count": 16,
     "metadata": {},
     "output_type": "execute_result"
    }
   ],
   "source": [
    "# Получить имена признаков\n",
    "dictvectorizer.get_feature_names()"
   ]
  },
  {
   "cell_type": "code",
   "execution_count": 17,
   "metadata": {},
   "outputs": [
    {
     "data": {
      "text/html": [
       "<div>\n",
       "<style scoped>\n",
       "    .dataframe tbody tr th:only-of-type {\n",
       "        vertical-align: middle;\n",
       "    }\n",
       "\n",
       "    .dataframe tbody tr th {\n",
       "        vertical-align: top;\n",
       "    }\n",
       "\n",
       "    .dataframe thead th {\n",
       "        text-align: right;\n",
       "    }\n",
       "</style>\n",
       "<table border=\"1\" class=\"dataframe\">\n",
       "  <thead>\n",
       "    <tr style=\"text-align: right;\">\n",
       "      <th></th>\n",
       "      <th>желтый</th>\n",
       "      <th>красный</th>\n",
       "      <th>синий</th>\n",
       "    </tr>\n",
       "  </thead>\n",
       "  <tbody>\n",
       "    <tr>\n",
       "      <td>0</td>\n",
       "      <td>0.0</td>\n",
       "      <td>2.0</td>\n",
       "      <td>4.0</td>\n",
       "    </tr>\n",
       "    <tr>\n",
       "      <td>1</td>\n",
       "      <td>0.0</td>\n",
       "      <td>4.0</td>\n",
       "      <td>3.0</td>\n",
       "    </tr>\n",
       "    <tr>\n",
       "      <td>2</td>\n",
       "      <td>2.0</td>\n",
       "      <td>1.0</td>\n",
       "      <td>0.0</td>\n",
       "    </tr>\n",
       "    <tr>\n",
       "      <td>3</td>\n",
       "      <td>2.0</td>\n",
       "      <td>2.0</td>\n",
       "      <td>0.0</td>\n",
       "    </tr>\n",
       "  </tbody>\n",
       "</table>\n",
       "</div>"
      ],
      "text/plain": [
       "   желтый  красный  синий\n",
       "0     0.0      2.0    4.0\n",
       "1     0.0      4.0    3.0\n",
       "2     2.0      1.0    0.0\n",
       "3     2.0      2.0    0.0"
      ]
     },
     "execution_count": 17,
     "metadata": {},
     "output_type": "execute_result"
    }
   ],
   "source": [
    "# Создать фрейм данных из признаков\n",
    "features = dictvectorizer.fit_transform(data_dict)\n",
    "features_names = dictvectorizer.get_feature_names()\n",
    "pd.DataFrame(data=features, columns=features_names)"
   ]
  },
  {
   "cell_type": "markdown",
   "metadata": {},
   "source": [
    "Многие алгоритмы машинного обучения ожидают, что данные будут представлены в виде матрицы. Конвертировать словарь можно используя объект класса `DictVectorizer` библиотеки `scilit-learn`.\n",
    "\n",
    "Подобная ситуация является обычной в процессе обработки естественного языеа. Например, дана коллекция документов, и для каждого документа имеется словарь, содержащий количество вхождений каждого слова в документ. Используя объект класса `DictVectorizer`, можно создать матрицу признаков, где каждый признак – это количество вхождений слова в кажды йдокумент:"
   ]
  },
  {
   "cell_type": "code",
   "execution_count": 19,
   "metadata": {},
   "outputs": [
    {
     "data": {
      "text/plain": [
       "array([[0., 2., 4.],\n",
       "       [0., 4., 3.],\n",
       "       [2., 1., 0.],\n",
       "       [2., 2., 0.]])"
      ]
     },
     "execution_count": 19,
     "metadata": {},
     "output_type": "execute_result"
    }
   ],
   "source": [
    "# Создать словари частотностей слов для четырех документов\n",
    "doc_1_word_count = {'красный': 2, 'синий': 4}\n",
    "doc_2_word_count = {'красный': 4, 'синий': 3}\n",
    "doc_3_word_count = {'красный': 1, 'желтый': 2}\n",
    "doc_4_word_count = {'красный': 2, 'желтый': 2}\n",
    "\n",
    "# Создать список\n",
    "doc_word_counts = [doc_1_word_count, doc_2_word_count, doc_3_word_count, doc_4_word_count]\n",
    "\n",
    "# Конвертировать списоксловарей частотностей слов в матрицу признаков\n",
    "dictvectorizer.fit_transform(doc_word_counts)"
   ]
  },
  {
   "cell_type": "markdown",
   "metadata": {},
   "source": [
    "В данном примере всего три уникальных слова: `'красный'`, `'желтый'`, `'синий'`, поэтому в нашей матрице всего три признака; однако при работе с реальными данными, например с книгой в библиотеке или интернет страницами, результирующая матрица была бы достаточно большой, и тогда потребовалось бы установить парметр разряженности `sparse=True`.\n",
    "##### Дополнительные материалы\n",
    "* \"Разряженные матрицы SciPy\": https://docs.scipy.org/doc/scipy/reference/sparse.html"
   ]
  },
  {
   "cell_type": "markdown",
   "metadata": {},
   "source": [
    "### 4. Импутация пропущенных значений классов\n",
    "##### Задача\n",
    "Дан категориальный признак, содержащий пропущенные значения, которые требуется заменить предсказанными значениями\n",
    "##### Решение\n",
    "Хорошим рещением является натренировать клиссификационный алгоритм машинного обучения для предсказания пропущенных значений. Обучно используют классификатор $k$ ближайших соседей (KNN)"
   ]
  },
  {
   "cell_type": "code",
   "execution_count": 22,
   "metadata": {},
   "outputs": [
    {
     "data": {
      "text/plain": [
       "array([[ 0.  ,  0.87,  1.31],\n",
       "       [ 1.  , -0.67, -0.22],\n",
       "       [ 0.  ,  2.1 ,  1.45],\n",
       "       [ 1.  ,  1.18,  1.33],\n",
       "       [ 0.  ,  1.22,  1.27],\n",
       "       [ 1.  , -0.21, -1.19]])"
      ]
     },
     "execution_count": 22,
     "metadata": {},
     "output_type": "execute_result"
    }
   ],
   "source": [
    "# Загрузить библиотеки\n",
    "from sklearn.neighbors import KNeighborsClassifier\n",
    "\n",
    "# Создать матрицу признаков с категориальными признаком\n",
    "X = np.array([\n",
    "    [0, 2.1, 1.45],\n",
    "    [1, 1.18, 1.33],\n",
    "    [0, 1.22, 1.27],\n",
    "    [1, -0.21, -1.19]\n",
    "])\n",
    "\n",
    "# Создать матрицу признаков с отсутствубщими значениями в категориальном признаке\n",
    "X_with_nan = np.array([\n",
    "    [np.nan, 0.87, 1.31],\n",
    "    [np.nan, -0.67, -0.22]\n",
    "])\n",
    "\n",
    "# Натренировать ученика KNN\n",
    "clf = KNeighborsClassifier(3, weights='distance')\n",
    "trained_model = clf.fit(X[:,1:], X[:,0])\n",
    "\n",
    "# Предсказать класс пропущенных значений\n",
    "imputed_values = trained_model.predict(X_with_nan[:, 1:])\n",
    "\n",
    "# Соединить столбец предсказанного класса с другими признаками\n",
    "X_with_imputed = np.hstack((imputed_values.reshape(-1, 1), X_with_nan[:, 1:]))\n",
    "\n",
    "# Соединить две матрицы признаков\n",
    "np.vstack((X_with_imputed, X))"
   ]
  },
  {
   "cell_type": "markdown",
   "metadata": {},
   "source": [
    "Альтернативным решением явлется заполнение пропущеных значений наиболее частными значениями признаков:"
   ]
  },
  {
   "cell_type": "code",
   "execution_count": 23,
   "metadata": {},
   "outputs": [
    {
     "data": {
      "text/plain": [
       "array([[ 0.  ,  0.87,  1.31],\n",
       "       [ 0.  , -0.67, -0.22],\n",
       "       [ 0.  ,  2.1 ,  1.45],\n",
       "       [ 1.  ,  1.18,  1.33],\n",
       "       [ 0.  ,  1.22,  1.27],\n",
       "       [ 1.  , -0.21, -1.19]])"
      ]
     },
     "execution_count": 23,
     "metadata": {},
     "output_type": "execute_result"
    }
   ],
   "source": [
    "# Импортировать библиотеки\n",
    "from sklearn.preprocessing import Imputer\n",
    "\n",
    "# Соединить две матрицы\n",
    "X_complete = np.vstack((X_with_nan, X))\n",
    "imputer = Imputer(strategy='most_frequent', axis=0)\n",
    "imputer.fit_transform(X_complete)"
   ]
  },
  {
   "cell_type": "markdown",
   "metadata": {},
   "source": [
    "Когда в катгориальном признаке имееются пропущенные значения лучшее решение – применить алгоритм машинного обучения для предсказания значений пропущенного наблюдения. Это можно сделать, если рассматривать признак с пропущенными значениями как вектор целей, а другие призанаки – как матрицу признаков. Обще приняти оспользовать алгоритм, которы присваивает пропущенному значению медианный класс $k$ ближайших наблюдений.\n",
    "\n",
    "Другой вариант – пропущенные значения заполнить наиболее часто используемым классом признака. Хотя он менее сложен, чем алгоритм KNN – он гораздо более масштабируем для более крупных данных. В любом случае рекомендуется включить бинарный признак, указывающий на то, какие наблюдения содержат импутированные значения.\n",
    "##### Дополнительные материалы\n",
    "* \"Преодоление пропущенных значений в классификаторе на основе случайного леса\": https://medium.com/airbnb-engineering/overcoming-missing-values-in-a-random-forest-classifier-7b1fc1fc03ba \n",
    "* \"Исследование применения $k$ ближайших соседей как метода импутации\": http://conteudo.icmc.usp.br/pessoas/gbatista/files/his2002.pdf "
   ]
  },
  {
   "cell_type": "markdown",
   "metadata": {},
   "source": [
    "### 5. Работа с несбалансированными классами\n",
    "##### Задача\n",
    "Дан вектор целей с очень несьалансированными классами\n",
    "##### Решение\n",
    "Собрать больше данных.Если возможно – изменить метрические показатели, используемые для оценивания модели. Если это не работает, рассмотреть возможность использования встроенных в модель параметров веса классов (если таковые имеются), делая повышающий или понижающий отбор."
   ]
  },
  {
   "cell_type": "markdown",
   "metadata": {},
   "source": [
    "Для демонстрации данного решения, создадим немного данных с несбалансированными весами. Набор данных ирисов Фишера содержит три сбалансированных класса по 50 наблюдений, каждый из которых указывает на вид цветка: *ирис щетинистый (Iris setosa)*, *ирис виргинский (Iris virginica)* и *ирис разноцветный (Iris versicolor)*. Для того чтобы разбалансировать набор данных необходимо удалить 40 из 50 наблюдений *ириса щетинистого*, а затем объединить классы *ириса виргинского* и *ириса разноцветного*. Конечным результатом станет бинарный вектор целей, казывающий на то, является ли наблюдение цветком *ириса щетинистого* или нет. Результатом станут 10 наблюдений *ирис щетинистый* (класс `0`) и 100 наблюдений не *ирис щетинистый* (класс `1`)."
   ]
  },
  {
   "cell_type": "code",
   "execution_count": 24,
   "metadata": {},
   "outputs": [
    {
     "data": {
      "text/plain": [
       "array([0, 0, 0, 0, 0, 0, 0, 0, 0, 0, 1, 1, 1, 1, 1, 1, 1, 1, 1, 1, 1, 1,\n",
       "       1, 1, 1, 1, 1, 1, 1, 1, 1, 1, 1, 1, 1, 1, 1, 1, 1, 1, 1, 1, 1, 1,\n",
       "       1, 1, 1, 1, 1, 1, 1, 1, 1, 1, 1, 1, 1, 1, 1, 1, 1, 1, 1, 1, 1, 1,\n",
       "       1, 1, 1, 1, 1, 1, 1, 1, 1, 1, 1, 1, 1, 1, 1, 1, 1, 1, 1, 1, 1, 1,\n",
       "       1, 1, 1, 1, 1, 1, 1, 1, 1, 1, 1, 1, 1, 1, 1, 1, 1, 1, 1, 1, 1, 1])"
      ]
     },
     "execution_count": 24,
     "metadata": {},
     "output_type": "execute_result"
    }
   ],
   "source": [
    "# Загрузить библиотеки\n",
    "from sklearn.ensemble import RandomForestClassifier\n",
    "from sklearn.datasets import load_iris\n",
    "\n",
    "# Загрузить данные цветков ириса Фишера\n",
    "iris = load_iris()\n",
    "\n",
    "# Создать матрицу признаков\n",
    "features = iris.data\n",
    "\n",
    "# Создать вектор целей\n",
    "target = iris.target\n",
    "\n",
    "# Удалить первые 40 наблюдений\n",
    "features = features[40:, :]\n",
    "target = target[40:]\n",
    "\n",
    "# Создать бинарный вектор целей, указывающий, является ли класс 0\n",
    "target = np.where((target == 0), 0, 1)\n",
    "\n",
    "# Взглянуть на несбалансированный вектор целей\n",
    "target"
   ]
  },
  {
   "cell_type": "markdown",
   "metadata": {},
   "source": [
    "Многие алгоритмы библиотеки `scikit-learn` предлагают парметр для взвешивания классов во время тренировки, чтобы противодействовать эффекту их разбалансировки. Классификатор на основе случайного леса `RandomForestClassifier` является популярным классификационным алгоритмом и включает парметр `class_weight=`. \n",
    "\n",
    "***Вариант 1***\n",
    "\n",
    "Можно передать аргумент, явно задающий желаемые веса классов:"
   ]
  },
  {
   "cell_type": "code",
   "execution_count": 28,
   "metadata": {},
   "outputs": [
    {
     "data": {
      "text/plain": [
       "RandomForestClassifier(bootstrap=True, class_weight={0: 0.9, 1: 0.1},\n",
       "                       criterion='gini', max_depth=None, max_features='auto',\n",
       "                       max_leaf_nodes=None, min_impurity_decrease=0.0,\n",
       "                       min_impurity_split=None, min_samples_leaf=1,\n",
       "                       min_samples_split=2, min_weight_fraction_leaf=0.0,\n",
       "                       n_estimators=10, n_jobs=1, oob_score=False,\n",
       "                       random_state=None, verbose=0, warm_start=False)"
      ]
     },
     "execution_count": 28,
     "metadata": {},
     "output_type": "execute_result"
    }
   ],
   "source": [
    "# Создать веса\n",
    "weights = {0: .9, 1 : 0.1}\n",
    "\n",
    "# Создать классификатор на основе случайного леса с весами\n",
    "RandomForestClassifier(class_weight=weights)\n",
    "RandomForestClassifier(bootstrap=True, \n",
    "                       class_weight={0: .9, 1: 0.1},\n",
    "                       criterion='gini',\n",
    "                       max_depth=None,\n",
    "                       max_features='auto',\n",
    "                       max_leaf_nodes=None,\n",
    "                       min_impurity_decrease=0.0,\n",
    "                       min_impurity_split=None,\n",
    "                       min_samples_leaf=1,\n",
    "                       min_samples_split=2,\n",
    "                       min_weight_fraction_leaf=0.0,\n",
    "                       n_estimators=10,\n",
    "                       n_jobs=1,\n",
    "                       oob_score=False,\n",
    "                       random_state=None,\n",
    "                       verbose=0,\n",
    "                       warm_start=False\n",
    "                      )"
   ]
  },
  {
   "cell_type": "markdown",
   "metadata": {},
   "source": [
    "***Вариант 2***\n",
    "\n",
    "Передать агрумент `class_weight='balanced'`, который автоматически создает веса классов прпорциональные частотам классов:"
   ]
  },
  {
   "cell_type": "code",
   "execution_count": 29,
   "metadata": {},
   "outputs": [
    {
     "data": {
      "text/plain": [
       "RandomForestClassifier(bootstrap=True, class_weight='balanced',\n",
       "                       criterion='gini', max_depth=None, max_features='auto',\n",
       "                       max_leaf_nodes=None, min_impurity_decrease=0.0,\n",
       "                       min_impurity_split=None, min_samples_leaf=1,\n",
       "                       min_samples_split=2, min_weight_fraction_leaf=0.0,\n",
       "                       n_estimators=10, n_jobs=1, oob_score=False,\n",
       "                       random_state=None, verbose=0, warm_start=False)"
      ]
     },
     "execution_count": 29,
     "metadata": {},
     "output_type": "execute_result"
    }
   ],
   "source": [
    "# Натренировать случайный лес с помощью сбалансированных весов классов\n",
    "RandomForestClassifier(class_weight='balanced')\n",
    "RandomForestClassifier(bootstrap=True, \n",
    "                       class_weight='balanced',\n",
    "                       criterion='gini',\n",
    "                       max_depth=None,\n",
    "                       max_features='auto',\n",
    "                       max_leaf_nodes=None,\n",
    "                       min_impurity_decrease=0.0,\n",
    "                       min_impurity_split=None,\n",
    "                       min_samples_leaf=1,\n",
    "                       min_samples_split=2,\n",
    "                       min_weight_fraction_leaf=0.0,\n",
    "                       n_estimators=10,\n",
    "                       n_jobs=1,\n",
    "                       oob_score=False,\n",
    "                       random_state=None,\n",
    "                       verbose=0,\n",
    "                       warm_start=False\n",
    "                      )"
   ]
  },
  {
   "cell_type": "markdown",
   "metadata": {},
   "source": [
    "В качестве альтарнативы можно понизить мажоритарный класс или повысить миноритарный. В понижающем отборе делается произвольная выборка без возврата из мажоритарного класса, т.е. класса с большим количеством наблюдений, чтобы создать новой подмножество наблюдений, равное по размеру миноритарному классу. Например, если миноритарный класс имеет 10 наблюдений, то необходимо будет отобрать сучайным образом 10 наблдейни из мажоритарного класса и использовать эти 20 наблюдений в качестве исходных данных."
   ]
  },
  {
   "cell_type": "code",
   "execution_count": 31,
   "metadata": {},
   "outputs": [
    {
     "data": {
      "text/plain": [
       "array([0, 0, 0, 0, 0, 0, 0, 0, 0, 0, 1, 1, 1, 1, 1, 1, 1, 1, 1, 1])"
      ]
     },
     "execution_count": 31,
     "metadata": {},
     "output_type": "execute_result"
    }
   ],
   "source": [
    "# Индексы наблюдений для каждого класса\n",
    "i_class0 = np.where(target == 0)[0]\n",
    "i_class1 = np.where(target == 1)[0]\n",
    "\n",
    "# Количество наблюдений в каждом классе\n",
    "n_class0 = len(i_class0)\n",
    "n_class1 = len(i_class1)\n",
    "\n",
    "# Для каждого наблдения класса 0 сделать случайную выборку из класса 1 без возврата\n",
    "i_class1_downsampled = np.random.choice(i_class1, size=n_class0, replace=False)\n",
    "\n",
    "# Соединить вектор целей класса 0 с вектором целей пониженного класса 1\n",
    "np.hstack((target[i_class0], target[i_class1_downsampled]))"
   ]
  },
  {
   "cell_type": "code",
   "execution_count": 32,
   "metadata": {},
   "outputs": [
    {
     "data": {
      "text/plain": [
       "array([[5. , 3.5, 1.3, 0.3],\n",
       "       [4.5, 2.3, 1.3, 0.3],\n",
       "       [4.4, 3.2, 1.3, 0.2],\n",
       "       [5. , 3.5, 1.6, 0.6],\n",
       "       [5.1, 3.8, 1.9, 0.4]])"
      ]
     },
     "execution_count": 32,
     "metadata": {},
     "output_type": "execute_result"
    }
   ],
   "source": [
    "# Соединить матрицу признаков класса 0 с матрицей признаков класса 1\n",
    "np.vstack((features[i_class0, :], features[i_class1_downsampled, :]))[0:5]"
   ]
  },
  {
   "cell_type": "raw",
   "metadata": {},
   "source": [
    "Другой вариант – повысить миноритарный класс. В повышающем отборе для каждого наблюдения в мажоритарном класса необходимо случайно отобрать наболюдение из миноритарного класса с возвратом. Конечным результатом является одинаоковое количество наблюдений из миноритарных и маоритарных классов. Повышающий отбор реализуется оцень похоже на понижающий, только наоборот:"
   ]
  },
  {
   "cell_type": "code",
   "execution_count": 35,
   "metadata": {},
   "outputs": [
    {
     "data": {
      "text/plain": [
       "array([0, 0, 0, 0, 0, 0, 0, 0, 0, 0, 0, 0, 0, 0, 0, 0, 0, 0, 0, 0, 0, 0,\n",
       "       0, 0, 0, 0, 0, 0, 0, 0, 0, 0, 0, 0, 0, 0, 0, 0, 0, 0, 0, 0, 0, 0,\n",
       "       0, 0, 0, 0, 0, 0, 0, 0, 0, 0, 0, 0, 0, 0, 0, 0, 0, 0, 0, 0, 0, 0,\n",
       "       0, 0, 0, 0, 0, 0, 0, 0, 0, 0, 0, 0, 0, 0, 0, 0, 0, 0, 0, 0, 0, 0,\n",
       "       0, 0, 0, 0, 0, 0, 0, 0, 0, 0, 0, 0, 1, 1, 1, 1, 1, 1, 1, 1, 1, 1,\n",
       "       1, 1, 1, 1, 1, 1, 1, 1, 1, 1, 1, 1, 1, 1, 1, 1, 1, 1, 1, 1, 1, 1,\n",
       "       1, 1, 1, 1, 1, 1, 1, 1, 1, 1, 1, 1, 1, 1, 1, 1, 1, 1, 1, 1, 1, 1,\n",
       "       1, 1, 1, 1, 1, 1, 1, 1, 1, 1, 1, 1, 1, 1, 1, 1, 1, 1, 1, 1, 1, 1,\n",
       "       1, 1, 1, 1, 1, 1, 1, 1, 1, 1, 1, 1, 1, 1, 1, 1, 1, 1, 1, 1, 1, 1,\n",
       "       1, 1])"
      ]
     },
     "execution_count": 35,
     "metadata": {},
     "output_type": "execute_result"
    }
   ],
   "source": [
    "# Для каждого наблюдения в классе 1 сделать случайную выборку из класса 0 с возвратом\n",
    "i_class0_upsampled = np.random.choice(i_class0, size=n_class1, replace=True)\n",
    "\n",
    "# Соединить повышенный вектор целей класса 0 с вектором целей класса 1\n",
    "np.concatenate((target[i_class0_upsampled], target[i_class1]))"
   ]
  },
  {
   "cell_type": "code",
   "execution_count": 36,
   "metadata": {},
   "outputs": [
    {
     "data": {
      "text/plain": [
       "array([[4.6, 3.2, 1.4, 0.2],\n",
       "       [4.4, 3.2, 1.3, 0.2],\n",
       "       [5. , 3.3, 1.4, 0.2],\n",
       "       [5.1, 3.8, 1.9, 0.4],\n",
       "       [5.1, 3.8, 1.9, 0.4]])"
      ]
     },
     "execution_count": 36,
     "metadata": {},
     "output_type": "execute_result"
    }
   ],
   "source": [
    "# Соединить повышенную матрицу признаков класса 0 с матрицей признаков класса 1\n",
    "np.vstack((features[i_class0_upsampled, :], features[i_class1, :]))[0:5]"
   ]
  },
  {
   "cell_type": "markdown",
   "metadata": {},
   "source": [
    "На практике не сбалансированные классы встречаются повсеместно – большинство посетителей не нажимают кнопку **Купить**, и многие виды рака, к счатью, – редки. По этой причине обработка несбалансированных классов является в машинном обучении распространенной задачей.\n",
    "\n",
    "Лучшей стратегией будет являтся сбор большего числа наблюдений, в особенности наблюдений из миноритарного класса. ОДнкао часто – это просто невозможно.\n",
    "\n",
    "Другая стратегия заключается в использовании модельного оценочного показателя, более подходящего для несбалансированных классов. В качестве метрики качества модели чсто используется точность, но при наличии несбалансированных классов показатель точности моет не подходить. Например, если только 0.5% наблюдений указывают на редкий вид рака, то даже наивная модель предсказывающая, что ни у кого нет рака, будет точной на 99.5%. Очевидно, что это неидеально. Некоторые более эффективные метрики качества – это матрицы ошибок, прецизиозность, полнота, оценки $F_1$ и кривые $ROC$.\n",
    "\n",
    "Третья стратегия заключается в использовании параметров взвешивания классов, включенных в реализацию некоторых моделей. Это позоляет настроить алгоритм для несбалансированных классов. Многие классификаторы библиотеки `scikit-learn` имеют парметр `class-weight=`, что делает эту стратегию хорошим вариантом.\n",
    "\n",
    "Четвертая и пятая стратегии взаимосвязаны: понижающий и повышающий отбор. При понижающем отборе создается случайное подмножество мажоритарного класса одинакового размера с миноритарным классом. При повышающем отборе образцы из миноритарного класса необократно отбираются с заменой, чтобы сделать его равного размера с мажоритарным классом. Решение между использованием понижающего или повышающего отбора зависит от контекста, и в целом необходимо пытаться увидеть, который из них дает лучшие результаты."
   ]
  }
 ],
 "metadata": {
  "kernelspec": {
   "display_name": "Python 3.7",
   "language": "python",
   "name": "python3"
  },
  "language_info": {
   "codemirror_mode": {
    "name": "ipython",
    "version": 3
   },
   "file_extension": ".py",
   "mimetype": "text/x-python",
   "name": "python",
   "nbconvert_exporter": "python",
   "pygments_lexer": "ipython3",
   "version": "3.7.4"
  }
 },
 "nbformat": 4,
 "nbformat_minor": 2
}
